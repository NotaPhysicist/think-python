{
 "cells": [
  {
   "cell_type": "markdown",
   "id": "6f76ea50-30ae-4ccb-8525-e5324ba17b9c",
   "metadata": {},
   "source": [
    "## CHAPTER ONE. Programming as a Way of Thinking."
   ]
  },
  {
   "cell_type": "code",
   "execution_count": 3,
   "id": "668f4219-ce93-4bf5-aa4a-dd71acd87933",
   "metadata": {},
   "outputs": [
    {
     "data": {
      "text/plain": [
       "42"
      ]
     },
     "execution_count": 3,
     "metadata": {},
     "output_type": "execute_result"
    }
   ],
   "source": [
    "30 + 1"
   ]
  },
  {
   "cell_type": "code",
   "execution_count": 5,
   "id": "ee5a4ff7-03d3-41bc-bfc8-79273bdb96cc",
   "metadata": {
    "jp-MarkdownHeadingCollapsed": true
   },
   "outputs": [
    {
     "data": {
      "text/plain": [
       "42"
      ]
     },
     "execution_count": 5,
     "metadata": {},
     "output_type": "execute_result"
    }
   ],
   "source": [
    "43 - 1"
   ]
  },
  {
   "cell_type": "code",
   "execution_count": 7,
   "id": "f8615624-b2ef-4111-90ea-239df35c2f15",
   "metadata": {},
   "outputs": [
    {
     "data": {
      "text/plain": [
       "42.0"
      ]
     },
     "execution_count": 7,
     "metadata": {},
     "output_type": "execute_result"
    }
   ],
   "source": [
    "84 / 2"
   ]
  },
  {
   "cell_type": "code",
   "execution_count": 10,
   "id": "af7d0c0e-6e4a-4c71-8d86-18eea20f476d",
   "metadata": {},
   "outputs": [
    {
     "data": {
      "text/plain": [
       "42"
      ]
     },
     "execution_count": 10,
     "metadata": {},
     "output_type": "execute_result"
    }
   ],
   "source": [
    "84 // 2"
   ]
  },
  {
   "cell_type": "code",
   "execution_count": 12,
   "id": "49a07057-8893-4aee-aaf6-f45a5481164d",
   "metadata": {},
   "outputs": [
    {
     "data": {
      "text/plain": [
       "42"
      ]
     },
     "execution_count": 12,
     "metadata": {},
     "output_type": "execute_result"
    }
   ],
   "source": [
    "85 // 2"
   ]
  },
  {
   "cell_type": "code",
   "execution_count": 14,
   "id": "a5c4323d-3866-4e2d-bf66-a949043146e5",
   "metadata": {},
   "outputs": [
    {
     "data": {
      "text/plain": [
       "49"
      ]
     },
     "execution_count": 14,
     "metadata": {},
     "output_type": "execute_result"
    }
   ],
   "source": [
    "7 ** 2"
   ]
  },
  {
   "cell_type": "code",
   "execution_count": 16,
   "id": "10c48ffe-05e8-438c-8895-7ec8b6078339",
   "metadata": {},
   "outputs": [
    {
     "data": {
      "text/plain": [
       "42"
      ]
     },
     "execution_count": 16,
     "metadata": {},
     "output_type": "execute_result"
    }
   ],
   "source": [
    "12 + 5 * 6"
   ]
  },
  {
   "cell_type": "code",
   "execution_count": 22,
   "id": "47e660b2-067d-4ab2-b9b5-a2c322fc1839",
   "metadata": {},
   "outputs": [
    {
     "data": {
      "text/plain": [
       "102"
      ]
     },
     "execution_count": 22,
     "metadata": {},
     "output_type": "execute_result"
    }
   ],
   "source": [
    "(12 + 5) * 6"
   ]
  },
  {
   "cell_type": "code",
   "execution_count": 26,
   "id": "920586a7-93ef-4244-bf37-d168e89b45b0",
   "metadata": {},
   "outputs": [
    {
     "data": {
      "text/plain": [
       "42"
      ]
     },
     "execution_count": 26,
     "metadata": {},
     "output_type": "execute_result"
    }
   ],
   "source": [
    "round(42.4)"
   ]
  },
  {
   "cell_type": "code",
   "execution_count": 30,
   "id": "4a070d17-50e9-4ba0-b6e6-32f4fea078df",
   "metadata": {},
   "outputs": [
    {
     "data": {
      "text/plain": [
       "43"
      ]
     },
     "execution_count": 30,
     "metadata": {},
     "output_type": "execute_result"
    }
   ],
   "source": [
    "round(42.6)"
   ]
  },
  {
   "cell_type": "code",
   "execution_count": 34,
   "id": "512c74c8-e52d-4746-8f7b-f10242b8da2e",
   "metadata": {},
   "outputs": [
    {
     "data": {
      "text/plain": [
       "42"
      ]
     },
     "execution_count": 34,
     "metadata": {},
     "output_type": "execute_result"
    }
   ],
   "source": [
    "abs(42)"
   ]
  },
  {
   "cell_type": "code",
   "execution_count": 42,
   "id": "1ce6bdd7-f085-4927-84b3-fa139fa16449",
   "metadata": {},
   "outputs": [
    {
     "data": {
      "text/plain": [
       "<function abs(x, /)>"
      ]
     },
     "execution_count": 42,
     "metadata": {},
     "output_type": "execute_result"
    }
   ],
   "source": [
    "abs"
   ]
  },
  {
   "cell_type": "code",
   "execution_count": 48,
   "id": "f8e564af-df69-434c-8716-927072da72d9",
   "metadata": {},
   "outputs": [
    {
     "data": {
      "text/plain": [
       "'Hello'"
      ]
     },
     "execution_count": 48,
     "metadata": {},
     "output_type": "execute_result"
    }
   ],
   "source": [
    "'Hello'"
   ]
  },
  {
   "cell_type": "code",
   "execution_count": 52,
   "id": "4e31d91b-aee5-48b5-add7-6f649c21fb4d",
   "metadata": {},
   "outputs": [
    {
     "data": {
      "text/plain": [
       "\"it's a small world\""
      ]
     },
     "execution_count": 52,
     "metadata": {},
     "output_type": "execute_result"
    }
   ],
   "source": [
    "\"it's a small world\""
   ]
  },
  {
   "cell_type": "code",
   "execution_count": 56,
   "id": "b8879ba4-cf7d-4ebc-bc63-4fb052ae7855",
   "metadata": {},
   "outputs": [
    {
     "data": {
      "text/plain": [
       "'Well, '"
      ]
     },
     "execution_count": 56,
     "metadata": {},
     "output_type": "execute_result"
    }
   ],
   "source": [
    "'Well, '"
   ]
  },
  {
   "cell_type": "code",
   "execution_count": 62,
   "id": "57cd3925-9809-435c-8457-6729cc40cca9",
   "metadata": {},
   "outputs": [
    {
     "data": {
      "text/plain": [
       "\"Well, it's a small world.\""
      ]
     },
     "execution_count": 62,
     "metadata": {},
     "output_type": "execute_result"
    }
   ],
   "source": [
    "'Well, ' + \"it's a small \" + 'world.'"
   ]
  },
  {
   "cell_type": "code",
   "execution_count": 66,
   "id": "5be44b30-418a-4114-8ef6-a89e5a534497",
   "metadata": {},
   "outputs": [
    {
     "data": {
      "text/plain": [
       "'Spam, Spam, Spam, Spam, '"
      ]
     },
     "execution_count": 66,
     "metadata": {},
     "output_type": "execute_result"
    }
   ],
   "source": [
    "'Spam, ' * 4"
   ]
  },
  {
   "cell_type": "code",
   "execution_count": 68,
   "id": "5b8ce706-a170-47d0-af58-435d15d25957",
   "metadata": {},
   "outputs": [
    {
     "data": {
      "text/plain": [
       "4"
      ]
     },
     "execution_count": 68,
     "metadata": {},
     "output_type": "execute_result"
    }
   ],
   "source": [
    "len('spam')"
   ]
  },
  {
   "cell_type": "code",
   "execution_count": 72,
   "id": "764523ca-4af4-49a0-9698-009fc37cdaee",
   "metadata": {},
   "outputs": [
    {
     "data": {
      "text/plain": [
       "int"
      ]
     },
     "execution_count": 72,
     "metadata": {},
     "output_type": "execute_result"
    }
   ],
   "source": [
    "type(2)"
   ]
  },
  {
   "cell_type": "code",
   "execution_count": 76,
   "id": "eca6fae8-abef-4635-9376-b4fa2276cfde",
   "metadata": {},
   "outputs": [
    {
     "data": {
      "text/plain": [
       "float"
      ]
     },
     "execution_count": 76,
     "metadata": {},
     "output_type": "execute_result"
    }
   ],
   "source": [
    "type(42.0)"
   ]
  },
  {
   "cell_type": "code",
   "execution_count": 80,
   "id": "7e9072cc-73ea-47bc-b630-f943b5966c1a",
   "metadata": {},
   "outputs": [
    {
     "data": {
      "text/plain": [
       "str"
      ]
     },
     "execution_count": 80,
     "metadata": {},
     "output_type": "execute_result"
    }
   ],
   "source": [
    "type('hello, world!')"
   ]
  },
  {
   "cell_type": "code",
   "execution_count": 84,
   "id": "3dcd78b3-b8bb-4df2-9d2b-6ce8a71fb76f",
   "metadata": {},
   "outputs": [
    {
     "data": {
      "text/plain": [
       "42"
      ]
     },
     "execution_count": 84,
     "metadata": {},
     "output_type": "execute_result"
    }
   ],
   "source": [
    "int(42.9)"
   ]
  },
  {
   "cell_type": "code",
   "execution_count": 88,
   "id": "997902e9-9147-47a9-8a47-3f4cce32e526",
   "metadata": {},
   "outputs": [
    {
     "data": {
      "text/plain": [
       "42.0"
      ]
     },
     "execution_count": 88,
     "metadata": {},
     "output_type": "execute_result"
    }
   ],
   "source": [
    "float(42.0)"
   ]
  },
  {
   "cell_type": "code",
   "execution_count": 92,
   "id": "a1390608-42bb-4815-993b-550a8d808643",
   "metadata": {},
   "outputs": [
    {
     "data": {
      "text/plain": [
       "str"
      ]
     },
     "execution_count": 92,
     "metadata": {},
     "output_type": "execute_result"
    }
   ],
   "source": [
    "type('126')"
   ]
  },
  {
   "cell_type": "code",
   "execution_count": 98,
   "id": "a977add7-2392-4c38-a7e4-3727a8d986d3",
   "metadata": {},
   "outputs": [
    {
     "data": {
      "text/plain": [
       "42.0"
      ]
     },
     "execution_count": 98,
     "metadata": {},
     "output_type": "execute_result"
    }
   ],
   "source": [
    "int('126') / 3"
   ]
  },
  {
   "cell_type": "code",
   "execution_count": 102,
   "id": "f21e2330-8e72-4f23-abb7-f6018dfef5d5",
   "metadata": {},
   "outputs": [
    {
     "data": {
      "text/plain": [
       "12.6"
      ]
     },
     "execution_count": 102,
     "metadata": {},
     "output_type": "execute_result"
    }
   ],
   "source": [
    "float('12.6')"
   ]
  },
  {
   "cell_type": "code",
   "execution_count": 106,
   "id": "868ec082-8320-4277-a7cb-fb0a222720d6",
   "metadata": {},
   "outputs": [
    {
     "name": "stdout",
     "output_type": "stream",
     "text": [
      "1000000\n"
     ]
    }
   ],
   "source": [
    "print(1_000_000)"
   ]
  },
  {
   "cell_type": "code",
   "execution_count": 110,
   "id": "43eda7bc-1526-402f-a2dc-7a6eeb8c229f",
   "metadata": {},
   "outputs": [
    {
     "data": {
      "text/plain": [
       "2"
      ]
     },
     "execution_count": 110,
     "metadata": {},
     "output_type": "execute_result"
    }
   ],
   "source": [
    "+2"
   ]
  },
  {
   "cell_type": "code",
   "execution_count": 114,
   "id": "f9eed48b-a4dc-4ff2-94c3-050235fce881",
   "metadata": {},
   "outputs": [
    {
     "data": {
      "text/plain": [
       "4"
      ]
     },
     "execution_count": 114,
     "metadata": {},
     "output_type": "execute_result"
    }
   ],
   "source": [
    "2++2"
   ]
  },
  {
   "cell_type": "code",
   "execution_count": 116,
   "id": "ee8cdee3-2c20-4a14-9a5a-e3c94aa5b6c1",
   "metadata": {},
   "outputs": [
    {
     "data": {
      "text/plain": [
       "2562"
      ]
     },
     "execution_count": 116,
     "metadata": {},
     "output_type": "execute_result"
    }
   ],
   "source": [
    "42 * 60 + 42"
   ]
  },
  {
   "cell_type": "code",
   "execution_count": 138,
   "id": "955818e6-d72f-41e8-b239-8b268996b046",
   "metadata": {},
   "outputs": [
    {
     "name": "stdout",
     "output_type": "stream",
     "text": [
      "2562\n"
     ]
    }
   ],
   "source": [
    "minute = 60 #seconds\n",
    "seconds = 42 * minute + 42\n",
    "print(seconds)"
   ]
  },
  {
   "cell_type": "code",
   "execution_count": 140,
   "id": "c4780415-3ff5-451e-9b68-bfb6a31e9b1c",
   "metadata": {},
   "outputs": [
    {
     "name": "stdout",
     "output_type": "stream",
     "text": [
      "6.21\n"
     ]
    }
   ],
   "source": [
    "mile = 1.61 # kilometers\n",
    "totalMiles = 10 / mile\n",
    "print(round(total, 2))"
   ]
  },
  {
   "cell_type": "code",
   "execution_count": 144,
   "id": "67104ad2-17f1-46da-8a5a-07e5cd63df30",
   "metadata": {},
   "outputs": [
    {
     "name": "stdout",
     "output_type": "stream",
     "text": [
      "412.48\n"
     ]
    }
   ],
   "source": [
    "kilometers = 10\n",
    "miles = (kilometers / mile)\n",
    "average = seconds / miles\n",
    "print(round(average, 2))"
   ]
  },
  {
   "cell_type": "code",
   "execution_count": 150,
   "id": "4c638221-dfd4-48b8-95d5-d3d41b9f944a",
   "metadata": {},
   "outputs": [
    {
     "name": "stdout",
     "output_type": "stream",
     "text": [
      "6.0 minutes, 52 seconds\n"
     ]
    }
   ],
   "source": [
    "totalMinutes = average // minute\n",
    "totalSeconds = round(average % minute)\n",
    "print(f\"{totalMinutes} minutes, {totalSeconds} seconds\")\n"
   ]
  },
  {
   "cell_type": "code",
   "execution_count": 170,
   "id": "8fbafcb8-af6b-463f-9f87-e3376ad2a45b",
   "metadata": {},
   "outputs": [
    {
     "name": "stdout",
     "output_type": "stream",
     "text": [
      "distance: 6.211180124223602\n",
      "time: 0.7116666666666667\n",
      "8.73 miles per hour\n"
     ]
    }
   ],
   "source": [
    "distance = 10 / mile\n",
    "time = seconds * (1/60) * (1/6)\n",
    "print(\"distance:\", distance)\n",
    "print(\"time:\", time)\n",
    "mph = round((distance / time), 2)\n",
    "print(f\"{mph} miles per hour\")"
   ]
  }
 ],
 "metadata": {
  "kernelspec": {
   "display_name": "Python 3 (ipykernel)",
   "language": "python",
   "name": "python3"
  },
  "language_info": {
   "codemirror_mode": {
    "name": "ipython",
    "version": 3
   },
   "file_extension": ".py",
   "mimetype": "text/x-python",
   "name": "python",
   "nbconvert_exporter": "python",
   "pygments_lexer": "ipython3",
   "version": "3.10.14"
  }
 },
 "nbformat": 4,
 "nbformat_minor": 5
}
