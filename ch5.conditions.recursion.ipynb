{
 "cells": [
  {
   "cell_type": "markdown",
   "id": "7c463536-5a1c-4631-b790-ae52c9a57eb2",
   "metadata": {},
   "source": [
    "## Chapter 5. Conditionals and Recursion"
   ]
  },
  {
   "cell_type": "markdown",
   "id": "88b2ad2f-91e0-465b-a080-2d0724d49ec2",
   "metadata": {},
   "source": [
    "### Interger Division and Modulus"
   ]
  },
  {
   "cell_type": "code",
   "execution_count": 25,
   "id": "c86f784f-eebd-46d7-b59d-da908731115a",
   "metadata": {},
   "outputs": [
    {
     "name": "stdout",
     "output_type": "stream",
     "text": [
      "1:45\n"
     ]
    }
   ],
   "source": [
    "minutes = 105\n",
    "hours = minutes // 60\n",
    "minutes = 105 % 60\n",
    "print(f\"{hours}:{minutes}\")"
   ]
  },
  {
   "cell_type": "code",
   "execution_count": 21,
   "id": "94b269b3-8820-4453-99b7-6fcc45499753",
   "metadata": {},
   "outputs": [
    {
     "name": "stdout",
     "output_type": "stream",
     "text": [
      "2\n"
     ]
    }
   ],
   "source": [
    "# an event starts at 11am and lasts 3 hours\n",
    "start = 11\n",
    "duration = 3\n",
    "end = (start + duration) % 12\n",
    "print(end)"
   ]
  },
  {
   "cell_type": "code",
   "execution_count": 31,
   "id": "554aec7a-deb0-4407-befc-60ffe6032c74",
   "metadata": {},
   "outputs": [
    {
     "data": {
      "text/plain": [
       "(2, 5)"
      ]
     },
     "execution_count": 31,
     "metadata": {},
     "output_type": "execute_result"
    }
   ],
   "source": [
    "a = 25 // 10\n",
    "b = 25 % 10\n",
    "a, b"
   ]
  },
  {
   "cell_type": "markdown",
   "id": "af17fac8-ab30-4ef4-bbaa-d67fd7b26835",
   "metadata": {},
   "source": [
    "### Boolean Expressions"
   ]
  },
  {
   "cell_type": "code",
   "execution_count": 36,
   "id": "451ac351-c98d-4705-aaad-44374e095971",
   "metadata": {},
   "outputs": [
    {
     "data": {
      "text/plain": [
       "True"
      ]
     },
     "execution_count": 36,
     "metadata": {},
     "output_type": "execute_result"
    }
   ],
   "source": [
    "5 == 5"
   ]
  },
  {
   "cell_type": "code",
   "execution_count": 40,
   "id": "104834ee-c66e-4bf0-9e94-5db686fbffc1",
   "metadata": {},
   "outputs": [
    {
     "data": {
      "text/plain": [
       "False"
      ]
     },
     "execution_count": 40,
     "metadata": {},
     "output_type": "execute_result"
    }
   ],
   "source": [
    "5 == 7"
   ]
  },
  {
   "cell_type": "code",
   "execution_count": 44,
   "id": "63648195-e843-44dd-b889-e06eadb80f6a",
   "metadata": {},
   "outputs": [
    {
     "data": {
      "text/plain": [
       "bool"
      ]
     },
     "execution_count": 44,
     "metadata": {},
     "output_type": "execute_result"
    }
   ],
   "source": [
    "type(True)"
   ]
  },
  {
   "cell_type": "code",
   "execution_count": 48,
   "id": "4e925b26-f5e9-4f4f-b768-56462b2f8e9f",
   "metadata": {},
   "outputs": [
    {
     "data": {
      "text/plain": [
       "bool"
      ]
     },
     "execution_count": 48,
     "metadata": {},
     "output_type": "execute_result"
    }
   ],
   "source": [
    "type(False)"
   ]
  },
  {
   "cell_type": "code",
   "execution_count": 60,
   "id": "526606d5-42cd-4c1c-8253-37fe1b39554f",
   "metadata": {},
   "outputs": [
    {
     "data": {
      "text/plain": [
       "True"
      ]
     },
     "execution_count": 60,
     "metadata": {},
     "output_type": "execute_result"
    }
   ],
   "source": [
    "x = 10\n",
    "x % 2 == 0 or x % 3 == 0"
   ]
  },
  {
   "cell_type": "code",
   "execution_count": 66,
   "id": "38b44c2d-628c-4a2f-9c98-3c2054286da1",
   "metadata": {},
   "outputs": [
    {
     "data": {
      "text/plain": [
       "False"
      ]
     },
     "execution_count": 66,
     "metadata": {},
     "output_type": "execute_result"
    }
   ],
   "source": [
    "not True"
   ]
  },
  {
   "cell_type": "markdown",
   "id": "c7751fe6-8655-4ed0-b9a0-3e4f29c47c8c",
   "metadata": {},
   "source": [
    "### `if` Statements"
   ]
  },
  {
   "cell_type": "code",
   "execution_count": 72,
   "id": "09bc1567-93e5-4ed4-b32c-debc6d7eb43c",
   "metadata": {},
   "outputs": [
    {
     "name": "stdout",
     "output_type": "stream",
     "text": [
      "x is positive\n"
     ]
    }
   ],
   "source": [
    "x = 1\n",
    "if x > 0:\n",
    "    print('x is positive')"
   ]
  },
  {
   "cell_type": "code",
   "execution_count": 82,
   "id": "d1f47f93-ec4a-4362-a5b4-e1232ec18df6",
   "metadata": {},
   "outputs": [],
   "source": [
    "if x < 0:\n",
    "    pass     # TODO: something to do later"
   ]
  },
  {
   "cell_type": "markdown",
   "id": "4f81d29c-020f-4184-9987-8c1393a53466",
   "metadata": {},
   "source": [
    "### The `else` Clause"
   ]
  },
  {
   "cell_type": "code",
   "execution_count": 85,
   "id": "8c03092a-3acf-4c2f-80d5-3d534c6a4ee5",
   "metadata": {},
   "outputs": [
    {
     "name": "stdout",
     "output_type": "stream",
     "text": [
      "x is odd\n"
     ]
    }
   ],
   "source": [
    "if x % 2 == 0:\n",
    "    print('x is even')\n",
    "else:\n",
    "    print('x is odd')"
   ]
  },
  {
   "cell_type": "markdown",
   "id": "058d60b6-8e0a-401f-a9c7-a838ff7f53c2",
   "metadata": {},
   "source": [
    "### Chained Conditionals"
   ]
  },
  {
   "cell_type": "code",
   "execution_count": 93,
   "id": "4ab57b34-2404-40ef-b449-0eb5dc37b979",
   "metadata": {},
   "outputs": [
    {
     "name": "stdout",
     "output_type": "stream",
     "text": [
      "x is less than y\n"
     ]
    }
   ],
   "source": [
    "x = 1\n",
    "y = 2\n",
    "if x < y:\n",
    "    print('x is less than y')\n",
    "elif x > y:\n",
    "    print('x is greater then y')\n",
    "else:\n",
    "    print('x and y are equal')"
   ]
  },
  {
   "cell_type": "markdown",
   "id": "911c5c8d-28b2-4302-943b-ad4c7d1e8bef",
   "metadata": {},
   "source": [
    "### Nested Conditionals"
   ]
  },
  {
   "cell_type": "code",
   "execution_count": 101,
   "id": "cac3d0a4-8f2c-4b81-9334-16aaf232fcd6",
   "metadata": {},
   "outputs": [
    {
     "name": "stdout",
     "output_type": "stream",
     "text": [
      "x is less than y\n"
     ]
    }
   ],
   "source": [
    "if x == y:\n",
    "    print('x and y are equal')\n",
    "else:\n",
    "    if x < y:\n",
    "        print('x is less than y')\n",
    "    else:\n",
    "        print('x is greater than y')"
   ]
  },
  {
   "cell_type": "code",
   "execution_count": 105,
   "id": "351b65bc-88e4-4b24-b67e-c4c3ad8b7cbd",
   "metadata": {},
   "outputs": [
    {
     "name": "stdout",
     "output_type": "stream",
     "text": [
      "x is a positive single-digit number.\n"
     ]
    }
   ],
   "source": [
    "if 0 < x:\n",
    "    if x < 10:\n",
    "        print('x is a positive single-digit number.')"
   ]
  },
  {
   "cell_type": "code",
   "execution_count": 109,
   "id": "364ca1c4-30ee-44f6-8bbd-789d2fb2020c",
   "metadata": {},
   "outputs": [
    {
     "name": "stdout",
     "output_type": "stream",
     "text": [
      "x is a postive single-digit number.\n"
     ]
    }
   ],
   "source": [
    "if 0 < x and x < 10:\n",
    "    print('x is a postive single-digit number.')"
   ]
  },
  {
   "cell_type": "markdown",
   "id": "53734e86-35c4-4b9d-b61c-f92412946e9d",
   "metadata": {},
   "source": [
    "### Recursion"
   ]
  },
  {
   "cell_type": "code",
   "execution_count": 119,
   "id": "6d2abdcd-0520-4c73-97f6-f3942545d824",
   "metadata": {},
   "outputs": [],
   "source": [
    "def countdown(n):\n",
    "    if n <= 0:  # the base case - down not make a recursive call\n",
    "        print('Blastoff!')\n",
    "    else:\n",
    "        print(n)\n",
    "        countdown(n-1)"
   ]
  },
  {
   "cell_type": "code",
   "execution_count": 117,
   "id": "81e5cff5-ac51-4278-98b8-57df5a07072e",
   "metadata": {},
   "outputs": [
    {
     "name": "stdout",
     "output_type": "stream",
     "text": [
      "3\n",
      "2\n",
      "1\n",
      "Blastoff!\n"
     ]
    }
   ],
   "source": [
    "countdown(3)"
   ]
  },
  {
   "cell_type": "code",
   "execution_count": 123,
   "id": "e6017813-5c6c-43b6-83e6-abd06d66b29b",
   "metadata": {},
   "outputs": [],
   "source": [
    "def print_n_times(string, n):\n",
    "    if n > 0:\n",
    "        print(string)\n",
    "        print_n_times(string, n-1)"
   ]
  },
  {
   "cell_type": "code",
   "execution_count": 127,
   "id": "c509e218-626e-4c8b-a68a-95a0a80169f6",
   "metadata": {},
   "outputs": [
    {
     "name": "stdout",
     "output_type": "stream",
     "text": [
      "Spam\n",
      "Spam\n",
      "Spam\n",
      "Spam\n"
     ]
    }
   ],
   "source": [
    "print_n_times('Spam', 4)"
   ]
  },
  {
   "cell_type": "markdown",
   "id": "eaf871af-5297-4a98-809b-afa5481a64c8",
   "metadata": {},
   "source": [
    "### Keyboard Input"
   ]
  },
  {
   "cell_type": "code",
   "execution_count": 141,
   "id": "7c53d80c-0521-4ec0-a0d1-a86952dc895c",
   "metadata": {},
   "outputs": [
    {
     "name": "stdin",
     "output_type": "stream",
     "text": [
      "What is your name?\n",
      " dgf\n"
     ]
    }
   ],
   "source": [
    "name = input(\"What is your name?\\n\")"
   ]
  },
  {
   "cell_type": "markdown",
   "id": "27236fa3-3e75-4239-97a8-bbbb2dc96466",
   "metadata": {},
   "source": [
    "## Exercises"
   ]
  },
  {
   "cell_type": "code",
   "execution_count": 165,
   "id": "de1e8dc5-c90c-4c57-a64c-d595a0e25e9d",
   "metadata": {},
   "outputs": [
    {
     "data": {
      "text/plain": [
       "20008.399928454466"
      ]
     },
     "execution_count": 165,
     "metadata": {},
     "output_type": "execute_result"
    }
   ],
   "source": [
    "from time import time\n",
    "\n",
    "now = time()\n",
    "minutes = now / 60\n",
    "hours = minutes / 60 \n",
    "days = hours / 24\n",
    "days"
   ]
  },
  {
   "cell_type": "code",
   "execution_count": 170,
   "id": "6d5a1311-0ad1-4b2f-91d1-0b35c909d89e",
   "metadata": {},
   "outputs": [
    {
     "name": "stdout",
     "output_type": "stream",
     "text": [
      "Days since January 1, 1970: 20008\n",
      "Current time of day: 18 hours, 25 minutes, 20 seconds\n"
     ]
    }
   ],
   "source": [
    "import datetime\n",
    "\n",
    "# Get the current date and time\n",
    "now = datetime.datetime.now()\n",
    "\n",
    "# Define the epoch start date\n",
    "epoch = datetime.datetime(1970, 1, 1)\n",
    "\n",
    "# Calculate the total number of seconds since the epoch\n",
    "total_seconds = int((now - epoch).total_seconds())\n",
    "\n",
    "# Calculate the number of days\n",
    "days = total_seconds // (24 * 3600)\n",
    "\n",
    "# Calculate the remaining seconds after extracting days\n",
    "remaining_seconds = total_seconds % (24 * 3600)\n",
    "\n",
    "# Calculate hours, minutes, and seconds from the remaining seconds\n",
    "hours = remaining_seconds // 3600\n",
    "remaining_seconds %= 3600\n",
    "minutes = remaining_seconds // 60\n",
    "seconds = remaining_seconds % 60\n",
    "\n",
    "# Output the results\n",
    "print(f\"Days since January 1, 1970: {days}\")\n",
    "print(f\"Current time of day: {hours} hours, {minutes} minutes, {seconds} seconds\")"
   ]
  },
  {
   "cell_type": "code",
   "execution_count": 188,
   "id": "ac963195-1f5b-4b77-8be8-6cc61dcc8ebe",
   "metadata": {},
   "outputs": [
    {
     "name": "stdout",
     "output_type": "stream",
     "text": [
      "Days since January 1, 1970: 20008\n",
      "Current time of day: 10 hours, 34 minutes, 46 seconds\n"
     ]
    }
   ],
   "source": [
    "from time import time\n",
    "\n",
    "now = time()\n",
    "\n",
    "# Calculate the number of days\n",
    "total_seconds = now\n",
    "days = total_seconds // (24 * 60 * 60)\n",
    "# print(f\"{int(days)} days since the epoch\")\n",
    "\n",
    "# Seconds remaining after extracting days\n",
    "remaining_seconds = total_seconds % (24 * 60 * 60)\n",
    "\n",
    "# Calculate hours minutes and seconds\n",
    "hours = remaining_seconds // 3600\n",
    "remaining_seconds %= 3600\n",
    "minutes = remaining_seconds // 60\n",
    "seconds = remaining_seconds % 60\n",
    "\n",
    "print(f\"Days since January 1, 1970: {int(days)}\")\n",
    "print(f\"Current time of day: {int(hours)} hours, {int(minutes)} minutes, {int(seconds)} seconds\")\n"
   ]
  },
  {
   "cell_type": "code",
   "execution_count": 202,
   "id": "e201bdbd-4cd7-4d1a-8b32-7bcc4aad7146",
   "metadata": {},
   "outputs": [
    {
     "name": "stdout",
     "output_type": "stream",
     "text": [
      "Yes\n",
      "No\n"
     ]
    }
   ],
   "source": [
    "# (a + b > c)\n",
    "# (a + c > b)\n",
    "# (b + c > a)\n",
    "\n",
    "def is_triangle(a, b, c):\n",
    "    if a + b > c:\n",
    "        if a + c > b:\n",
    "            if b + c > a:\n",
    "                print(\"Yes\")\n",
    "    else:\n",
    "        print(\"No\")\n",
    "\n",
    "is_triangle(3, 4, 5)\n",
    "is_triangle(3, 4, 20)"
   ]
  },
  {
   "cell_type": "code",
   "execution_count": 206,
   "id": "bfdf0924-d012-424a-9712-f6a55fd685e9",
   "metadata": {},
   "outputs": [
    {
     "name": "stdout",
     "output_type": "stream",
     "text": [
      "0\n",
      "3\n",
      "5\n",
      "6\n"
     ]
    }
   ],
   "source": [
    "def recurse(n, s):\n",
    "    if n == 0:\n",
    "        print(s)\n",
    "    else:\n",
    "        print(s)                                                  \n",
    "        recurse(n-1, n+s)\n",
    "        \n",
    "recurse(3, 0)"
   ]
  }
 ],
 "metadata": {
  "kernelspec": {
   "display_name": "Python 3 (ipykernel)",
   "language": "python",
   "name": "python3"
  },
  "language_info": {
   "codemirror_mode": {
    "name": "ipython",
    "version": 3
   },
   "file_extension": ".py",
   "mimetype": "text/x-python",
   "name": "python",
   "nbconvert_exporter": "python",
   "pygments_lexer": "ipython3",
   "version": "3.10.14"
  }
 },
 "nbformat": 4,
 "nbformat_minor": 5
}
