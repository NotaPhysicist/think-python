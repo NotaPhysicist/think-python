{
 "cells": [
  {
   "cell_type": "markdown",
   "id": "7580ea12-884e-4f8f-92ad-d9a3a9068068",
   "metadata": {},
   "source": [
    "## Chapter 6. Return Values"
   ]
  },
  {
   "cell_type": "markdown",
   "id": "9f51bc87-b0f0-4246-bc23-ed4deb61386c",
   "metadata": {},
   "source": [
    "### Some Functions Have Return Values"
   ]
  },
  {
   "cell_type": "code",
   "execution_count": 11,
   "id": "a388860b-c028-41be-b562-9466cbeb0ccc",
   "metadata": {},
   "outputs": [
    {
     "data": {
      "text/plain": [
       "3.656366395715726"
      ]
     },
     "execution_count": 11,
     "metadata": {},
     "output_type": "execute_result"
    }
   ],
   "source": [
    "import math\n",
    "\n",
    "radius = math.sqrt(42 / math.pi)\n",
    "radius"
   ]
  },
  {
   "cell_type": "markdown",
   "id": "973ba93e-2148-4182-84b5-baabd0401df7",
   "metadata": {},
   "source": [
    "### And Some Have None"
   ]
  },
  {
   "cell_type": "code",
   "execution_count": 22,
   "id": "eccffc49-94d1-454e-9069-f2d421a91520",
   "metadata": {},
   "outputs": [
    {
     "name": "stdout",
     "output_type": "stream",
     "text": [
      "Teapot, Teapot, Teapot, \n"
     ]
    }
   ],
   "source": [
    "def repeat(word, n):\n",
    "    print(word * n)\n",
    "repeat('Teapot, ', 3)"
   ]
  },
  {
   "cell_type": "code",
   "execution_count": 26,
   "id": "4dabebec-f0b6-4e26-9473-27ae1f7c8add",
   "metadata": {},
   "outputs": [
    {
     "name": "stdout",
     "output_type": "stream",
     "text": [
      "Finland, Finland, Finland, \n",
      "None\n"
     ]
    }
   ],
   "source": [
    "result = repeat('Finland, ', 3)\n",
    "print(result)"
   ]
  },
  {
   "cell_type": "code",
   "execution_count": 32,
   "id": "d4154d7f-cc62-4ba3-8286-90254b8cd487",
   "metadata": {},
   "outputs": [
    {
     "data": {
      "text/plain": [
       "'Spam, Spam, Spam, Spam, '"
      ]
     },
     "execution_count": 32,
     "metadata": {},
     "output_type": "execute_result"
    }
   ],
   "source": [
    "def repeat_string(word, n):\n",
    "    return word * n\n",
    "\n",
    "line = repeat_string('Spam, ', 4)\n",
    "line"
   ]
  },
  {
   "cell_type": "markdown",
   "id": "4bd99a9d-30e2-46cc-81a8-ef6ccd519cdb",
   "metadata": {},
   "source": [
    "### Incremental Development"
   ]
  },
  {
   "cell_type": "code",
   "execution_count": 78,
   "id": "9d5c5534-095a-42c1-9c63-e7b72613687e",
   "metadata": {},
   "outputs": [],
   "source": [
    "def distance(x1, y1, x2, y2):\n",
    "    dx = x2 - x1\n",
    "    dy = y2 - y1\n",
    "    dsquared = dx**2 + dy**2\n",
    "    result = math.sqrt(dsquared)\n",
    "    return result"
   ]
  },
  {
   "cell_type": "code",
   "execution_count": 80,
   "id": "580aaabc-a8ac-45cb-9d6f-b62b3543f0c6",
   "metadata": {},
   "outputs": [
    {
     "data": {
      "text/plain": [
       "5.0"
      ]
     },
     "execution_count": 80,
     "metadata": {},
     "output_type": "execute_result"
    }
   ],
   "source": [
    "# Test\n",
    "distance(1, 2, 4, 6)"
   ]
  },
  {
   "cell_type": "markdown",
   "id": "20fc603e-91e6-4472-a754-a0c6fb08beec",
   "metadata": {},
   "source": [
    "### Boolean Functions"
   ]
  },
  {
   "cell_type": "code",
   "execution_count": 89,
   "id": "7c634f69-46da-406c-a8df-de4aac3a94d2",
   "metadata": {},
   "outputs": [
    {
     "data": {
      "text/plain": [
       "True"
      ]
     },
     "execution_count": 89,
     "metadata": {},
     "output_type": "execute_result"
    }
   ],
   "source": [
    "def is_divisible(x, y):\n",
    "    return x % y == 0\n",
    "\n",
    "is_divisible(6, 3)"
   ]
  },
  {
   "cell_type": "markdown",
   "id": "09635232-c65a-4758-9fb8-612afd20b4da",
   "metadata": {},
   "source": [
    "### Recursion with Return Values"
   ]
  },
  {
   "cell_type": "code",
   "execution_count": 112,
   "id": "3d71add3-2c60-4dce-8429-57a138797939",
   "metadata": {},
   "outputs": [],
   "source": [
    "def factorial(n):\n",
    "    if n == 0:\n",
    "        return 1\n",
    "    else:\n",
    "        recurse = factorial(n-1)\n",
    "        return n * recurse"
   ]
  },
  {
   "cell_type": "code",
   "execution_count": 110,
   "id": "8512fed5-3e70-4ffc-ba9f-c72e7281967e",
   "metadata": {},
   "outputs": [
    {
     "data": {
      "text/plain": [
       "24"
      ]
     },
     "execution_count": 110,
     "metadata": {},
     "output_type": "execute_result"
    }
   ],
   "source": [
    "factorial(4)"
   ]
  },
  {
   "cell_type": "markdown",
   "id": "66d4db1d-4480-42a2-bae0-705f66847e0d",
   "metadata": {},
   "source": [
    "### Fibonacci"
   ]
  },
  {
   "cell_type": "code",
   "execution_count": 118,
   "id": "f3095476-c0d9-47c0-8019-4c8871eb0d1a",
   "metadata": {},
   "outputs": [],
   "source": [
    "def fibonacci(n):\n",
    "    if n == 0:\n",
    "        return 0\n",
    "    elif n == 1:\n",
    "        return 1\n",
    "    else:\n",
    "        return fibonacci(n-1) + fibonacci(n-2)"
   ]
  },
  {
   "cell_type": "code",
   "execution_count": 140,
   "id": "cf2cbed5-6965-4ba1-b77b-e5632630e2be",
   "metadata": {},
   "outputs": [
    {
     "data": {
      "text/plain": [
       "3"
      ]
     },
     "execution_count": 140,
     "metadata": {},
     "output_type": "execute_result"
    }
   ],
   "source": [
    "fibonacci(4)"
   ]
  },
  {
   "cell_type": "markdown",
   "id": "7d6337dc-dbf7-46c3-b551-4fa7df2d8fc8",
   "metadata": {},
   "source": [
    "### Checking Types (Input Validation)"
   ]
  },
  {
   "cell_type": "code",
   "execution_count": 146,
   "id": "59e75397-a809-4d7d-9833-380f7c9e577b",
   "metadata": {},
   "outputs": [],
   "source": [
    "def factorial(n):\n",
    "    if not isinstance(n, int):\n",
    "        print('factorial is only defined for integers.')\n",
    "        return None\n",
    "    elif n < 0:\n",
    "        print('factorial is not defined for negative numbers.')\n",
    "        return None\n",
    "    elif n == 0:\n",
    "        return 1\n",
    "    else:\n",
    "        return n * factorial(n-1)"
   ]
  },
  {
   "cell_type": "code",
   "execution_count": 150,
   "id": "d6456c8f-20a3-463e-8b44-aaacb585c98d",
   "metadata": {},
   "outputs": [
    {
     "name": "stdout",
     "output_type": "stream",
     "text": [
      "factorial is only defined for integers.\n"
     ]
    }
   ],
   "source": [
    "factorial('crunchy dog')"
   ]
  },
  {
   "cell_type": "code",
   "execution_count": 155,
   "id": "383dc571-bb36-411c-9f86-68ded6afce7a",
   "metadata": {},
   "outputs": [
    {
     "name": "stdout",
     "output_type": "stream",
     "text": [
      "factorial is not defined for negative numbers.\n"
     ]
    }
   ],
   "source": [
    "factorial(-2)"
   ]
  },
  {
   "cell_type": "markdown",
   "id": "e3709dd8-7fc8-466e-8431-694dc1d135ba",
   "metadata": {},
   "source": [
    "### Debugging"
   ]
  },
  {
   "cell_type": "code",
   "execution_count": 164,
   "id": "c569e187-70e9-4e54-bffe-b863b29c854a",
   "metadata": {},
   "outputs": [],
   "source": [
    "def factorial(n):\n",
    "    space = ' ' * (4 * n)\n",
    "    print(space, 'factorial', n)\n",
    "    if n == 0:\n",
    "        print(space, 'returning 1')\n",
    "        return 1\n",
    "    else:\n",
    "        recurse = factorial(n-1)\n",
    "        result = n * recurse\n",
    "        print(space, 'returning', result)\n",
    "        return result"
   ]
  },
  {
   "cell_type": "code",
   "execution_count": 162,
   "id": "c0e68f8f-1ba4-4a36-a267-c74688be4874",
   "metadata": {},
   "outputs": [
    {
     "name": "stdout",
     "output_type": "stream",
     "text": [
      "             factorial 3\n",
      "         factorial 2\n",
      "     factorial 1\n",
      " factorial 0\n",
      " returning 1\n",
      "     returning 1\n",
      "         returning 2\n",
      "             returning 6\n"
     ]
    },
    {
     "data": {
      "text/plain": [
       "6"
      ]
     },
     "execution_count": 162,
     "metadata": {},
     "output_type": "execute_result"
    }
   ],
   "source": [
    "factorial(3)"
   ]
  },
  {
   "cell_type": "markdown",
   "id": "3589fe8c-7f7e-4d59-8c2e-65bb8a787b71",
   "metadata": {},
   "source": [
    "## Exercises"
   ]
  },
  {
   "cell_type": "code",
   "execution_count": 174,
   "id": "4e738ece-caa8-4a51-be80-e952150f23db",
   "metadata": {},
   "outputs": [],
   "source": [
    "def hypot(x, y):\n",
    "    x_squared = x * x\n",
    "    y_squared = y * y\n",
    "    root = math.sqrt(x_squared + y_squared)\n",
    "    return root\n"
   ]
  },
  {
   "cell_type": "code",
   "execution_count": 180,
   "id": "bd024c90-81e7-4528-b120-bbc4560dac7d",
   "metadata": {},
   "outputs": [
    {
     "data": {
      "text/plain": [
       "5.0"
      ]
     },
     "execution_count": 180,
     "metadata": {},
     "output_type": "execute_result"
    }
   ],
   "source": [
    "hypot(3, 4)"
   ]
  },
  {
   "cell_type": "code",
   "execution_count": 200,
   "id": "91fb7c80-af16-46f1-9c3e-d3fd40772f74",
   "metadata": {},
   "outputs": [],
   "source": [
    "def is_between(x, y, z):\n",
    "    if x < y < z or z < y < x:\n",
    "        return True\n",
    "    else:\n",
    "        return False"
   ]
  },
  {
   "cell_type": "code",
   "execution_count": 196,
   "id": "53cb8a6c-633e-45d4-a9a7-cfca923d7743",
   "metadata": {},
   "outputs": [
    {
     "data": {
      "text/plain": [
       "False"
      ]
     },
     "execution_count": 196,
     "metadata": {},
     "output_type": "execute_result"
    }
   ],
   "source": [
    "is_between(3,2,2)"
   ]
  },
  {
   "cell_type": "code",
   "execution_count": 208,
   "id": "28bcda1b-946c-416f-946f-5cd38a312005",
   "metadata": {},
   "outputs": [
    {
     "name": "stdout",
     "output_type": "stream",
     "text": [
      "Ackermann(3, 4) = 125\n"
     ]
    }
   ],
   "source": [
    "# The Ackerman Function (AA)\n",
    "def ackermann(m, n):\n",
    "    \"\"\"\n",
    "    Compute the Ackermann function A(m, n).\n",
    "\n",
    "    Parameters:\n",
    "    m (int): The first non-negative integer.\n",
    "    n (int): The second non-negative integer.\n",
    "\n",
    "    Returns:\n",
    "    int: The result of the Ackermann function A(m, n).\n",
    "    \"\"\"\n",
    "    if m == 0:\n",
    "        return n + 1\n",
    "    elif m == 1:\n",
    "        return n + 2\n",
    "    elif m == 2:\n",
    "        return 2 * n + 3\n",
    "    elif m == 3:\n",
    "        return 2 ** (n + 3) - 3\n",
    "    else:\n",
    "        return ackermann(m - 1, ackermann(m, n - 1))\n",
    "\n",
    "# Example usage:\n",
    "result = ackermann(3, 4)\n",
    "print(\"Ackermann(3, 4) =\", result)"
   ]
  },
  {
   "cell_type": "code",
   "execution_count": null,
   "id": "3171a0da-26e9-442b-ac0c-3d3e61186399",
   "metadata": {},
   "outputs": [],
   "source": [
    "# GCD (AA)\n",
    "def gcd(a, b):\n",
    "    \"\"\"\n",
    "    Compute the greatest common divisor (GCD) of two integers.\n",
    "\n",
    "    Parameters:\n",
    "    a (int): The first integer.\n",
    "    b (int): The second integer.\n",
    "\n",
    "    Returns:\n",
    "    int: The greatest common divisor of a and b.\n",
    "    \"\"\"\n",
    "    while b != 0:\n",
    "        a, b = b, a % b  # Update a and b\n",
    "    return abs(a)  # Return the absolute value of the GCD\n",
    "\n",
    "# Example usage:\n",
    "result = gcd(48, 18)\n",
    "print(\"GCD(48, 18) =\", result)\n",
    "    "
   ]
  }
 ],
 "metadata": {
  "kernelspec": {
   "display_name": "Python 3 (ipykernel)",
   "language": "python",
   "name": "python3"
  },
  "language_info": {
   "codemirror_mode": {
    "name": "ipython",
    "version": 3
   },
   "file_extension": ".py",
   "mimetype": "text/x-python",
   "name": "python",
   "nbconvert_exporter": "python",
   "pygments_lexer": "ipython3",
   "version": "3.10.14"
  }
 },
 "nbformat": 4,
 "nbformat_minor": 5
}
