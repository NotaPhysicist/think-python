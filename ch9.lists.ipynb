{
 "cells": [
  {
   "cell_type": "markdown",
   "id": "f0ac3477-4531-49cb-842c-3ed479b52710",
   "metadata": {},
   "source": [
    "# Ch. 9 Lists"
   ]
  },
  {
   "cell_type": "markdown",
   "id": "da35fc14-7ecf-4c93-b010-80e007edaa30",
   "metadata": {},
   "source": [
    "## A List is a Sequence"
   ]
  },
  {
   "cell_type": "code",
   "execution_count": 4,
   "id": "9551f009-6e30-41fd-a6f1-f162d97444b9",
   "metadata": {},
   "outputs": [
    {
     "data": {
      "text/plain": [
       "[42, 123]"
      ]
     },
     "execution_count": 4,
     "metadata": {},
     "output_type": "execute_result"
    }
   ],
   "source": [
    "numbers = [42, 123]\n",
    "numbers"
   ]
  },
  {
   "cell_type": "code",
   "execution_count": 5,
   "id": "03055bc7-3e00-4a22-9009-a3544a825bad",
   "metadata": {},
   "outputs": [
    {
     "data": {
      "text/plain": [
       "['Cheddar', 'Edam', 'Gouda']"
      ]
     },
     "execution_count": 5,
     "metadata": {},
     "output_type": "execute_result"
    }
   ],
   "source": [
    "cheeses = ['Cheddar', 'Edam', 'Gouda']\n",
    "cheeses"
   ]
  },
  {
   "cell_type": "code",
   "execution_count": 7,
   "id": "51643b07-ae37-4075-8f49-4666392fc252",
   "metadata": {},
   "outputs": [
    {
     "data": {
      "text/plain": [
       "['spam', 2.0, 5, [20, 10]]"
      ]
     },
     "execution_count": 7,
     "metadata": {},
     "output_type": "execute_result"
    }
   ],
   "source": [
    "t = ['spam', 2.0, 5, [20,10]]\n",
    "t"
   ]
  },
  {
   "cell_type": "code",
   "execution_count": 9,
   "id": "04e5daa1-0709-4442-9b35-e39282502c8f",
   "metadata": {},
   "outputs": [],
   "source": [
    "empty = []"
   ]
  },
  {
   "cell_type": "code",
   "execution_count": 11,
   "id": "1d6f7caa-8f63-4d56-9488-36004743606a",
   "metadata": {},
   "outputs": [
    {
     "data": {
      "text/plain": [
       "3"
      ]
     },
     "execution_count": 11,
     "metadata": {},
     "output_type": "execute_result"
    }
   ],
   "source": [
    "len(cheeses)"
   ]
  },
  {
   "cell_type": "markdown",
   "id": "5dce3cfd-28a7-4880-acf3-a990ad668a19",
   "metadata": {},
   "source": [
    "## Lists Are Mutable"
   ]
  },
  {
   "cell_type": "code",
   "execution_count": 12,
   "id": "56bfbad9-5751-4d97-999a-97ea6f96c270",
   "metadata": {},
   "outputs": [
    {
     "data": {
      "text/plain": [
       "'Cheddar'"
      ]
     },
     "execution_count": 12,
     "metadata": {},
     "output_type": "execute_result"
    }
   ],
   "source": [
    "# Read an element of a list\n",
    "cheeses[0]"
   ]
  },
  {
   "cell_type": "code",
   "execution_count": 14,
   "id": "3f36b322-369d-4e56-89a9-91846e7e024f",
   "metadata": {},
   "outputs": [
    {
     "data": {
      "text/plain": [
       "[42, 17]"
      ]
     },
     "execution_count": 14,
     "metadata": {},
     "output_type": "execute_result"
    }
   ],
   "source": [
    "# change an element in a list\n",
    "numbers[1] = 17\n",
    "numbers"
   ]
  },
  {
   "cell_type": "code",
   "execution_count": 15,
   "id": "8cd79d13-a154-4489-916e-ed24a8ec1954",
   "metadata": {},
   "outputs": [
    {
     "data": {
      "text/plain": [
       "True"
      ]
     },
     "execution_count": 15,
     "metadata": {},
     "output_type": "execute_result"
    }
   ],
   "source": [
    "# The in variable\n",
    "'Edam' in cheeses"
   ]
  },
  {
   "cell_type": "code",
   "execution_count": 18,
   "id": "71c199dd-4abf-4820-8b44-985bc02bf4ef",
   "metadata": {},
   "outputs": [
    {
     "data": {
      "text/plain": [
       "False"
      ]
     },
     "execution_count": 18,
     "metadata": {},
     "output_type": "execute_result"
    }
   ],
   "source": [
    "'Wensleydale' in cheeses"
   ]
  },
  {
   "cell_type": "code",
   "execution_count": 20,
   "id": "fcde0aab-5f9b-4b24-9cb7-007b2a68268f",
   "metadata": {},
   "outputs": [
    {
     "data": {
      "text/plain": [
       "4"
      ]
     },
     "execution_count": 20,
     "metadata": {},
     "output_type": "execute_result"
    }
   ],
   "source": [
    "t = ['spam', 2.0, 5, [20,10]]\n",
    "len(t)"
   ]
  },
  {
   "cell_type": "code",
   "execution_count": 21,
   "id": "256dafe5-45c7-413c-bbbf-8201f1b09c2b",
   "metadata": {},
   "outputs": [
    {
     "data": {
      "text/plain": [
       "False"
      ]
     },
     "execution_count": 21,
     "metadata": {},
     "output_type": "execute_result"
    }
   ],
   "source": [
    "10 in t"
   ]
  },
  {
   "cell_type": "markdown",
   "id": "65c549f5-1608-488f-b975-0cd6aebe51b3",
   "metadata": {},
   "source": [
    "## List Slices"
   ]
  },
  {
   "cell_type": "code",
   "execution_count": 22,
   "id": "591db24d-d176-4500-9e2a-ff1b28b952d7",
   "metadata": {},
   "outputs": [
    {
     "data": {
      "text/plain": [
       "['b', 'c']"
      ]
     },
     "execution_count": 22,
     "metadata": {},
     "output_type": "execute_result"
    }
   ],
   "source": [
    "# slice operator works on lists\n",
    "letters = ['a', 'b', 'c', 'd']\n",
    "letters[1:3]"
   ]
  },
  {
   "cell_type": "code",
   "execution_count": 24,
   "id": "280b4577-c13e-4647-a703-131c6056bdfb",
   "metadata": {},
   "outputs": [
    {
     "data": {
      "text/plain": [
       "['a', 'b']"
      ]
     },
     "execution_count": 24,
     "metadata": {},
     "output_type": "execute_result"
    }
   ],
   "source": [
    "# slice starts at the beginning\n",
    "letters[:2]"
   ]
  },
  {
   "cell_type": "code",
   "execution_count": 25,
   "id": "09eb2dbb-9e85-4570-b7c3-1ef51c5749fd",
   "metadata": {},
   "outputs": [
    {
     "data": {
      "text/plain": [
       "['c', 'd']"
      ]
     },
     "execution_count": 25,
     "metadata": {},
     "output_type": "execute_result"
    }
   ],
   "source": [
    "# if omit the second the slice goes to the end\n",
    "letters[2:]"
   ]
  },
  {
   "cell_type": "code",
   "execution_count": 26,
   "id": "acd5d844-130e-4ff5-83c6-8300be537fe3",
   "metadata": {},
   "outputs": [
    {
     "data": {
      "text/plain": [
       "['a', 'b', 'c', 'd']"
      ]
     },
     "execution_count": 26,
     "metadata": {},
     "output_type": "execute_result"
    }
   ],
   "source": [
    "# omit both and get back the whole list\n",
    "letters[:]"
   ]
  },
  {
   "cell_type": "markdown",
   "id": "a3d200e6-c7a8-467e-89ec-83f1d896e5a7",
   "metadata": {},
   "source": [
    "## List Operations"
   ]
  },
  {
   "cell_type": "code",
   "execution_count": 27,
   "id": "ed5e9044-fa3c-45b6-81fe-60a211cdbbc7",
   "metadata": {},
   "outputs": [
    {
     "data": {
      "text/plain": [
       "[1, 2, 3, 4]"
      ]
     },
     "execution_count": 27,
     "metadata": {},
     "output_type": "execute_result"
    }
   ],
   "source": [
    "# concatenate lists\n",
    "t1 = [1, 2]\n",
    "t2 = [3, 4]\n",
    "t1 + t2"
   ]
  },
  {
   "cell_type": "code",
   "execution_count": 29,
   "id": "ca70b90c-ce0b-467a-8591-250bfacec538",
   "metadata": {},
   "outputs": [
    {
     "data": {
      "text/plain": [
       "['spam', 'spam', 'spam', 'spam']"
      ]
     },
     "execution_count": 29,
     "metadata": {},
     "output_type": "execute_result"
    }
   ],
   "source": [
    "# repeat a list a given amount of times\n",
    "['spam'] * 4"
   ]
  },
  {
   "cell_type": "code",
   "execution_count": 30,
   "id": "605ca3fa-973f-4009-bceb-43178ad0345b",
   "metadata": {},
   "outputs": [
    {
     "name": "stdout",
     "output_type": "stream",
     "text": [
      "3\n",
      "1\n",
      "4\n"
     ]
    }
   ],
   "source": [
    "# sum, min and max operators work on lists\n",
    "print(sum(t1))\n",
    "print(min(t1))\n",
    "print(max(t2))"
   ]
  },
  {
   "cell_type": "markdown",
   "id": "831c9d1c-cb7d-4bcc-a2b3-d581a6a30ee8",
   "metadata": {},
   "source": [
    "## List Methods"
   ]
  },
  {
   "cell_type": "code",
   "execution_count": 32,
   "id": "374e4c3e-6837-48f5-b3a1-5132ecf9d560",
   "metadata": {},
   "outputs": [
    {
     "data": {
      "text/plain": [
       "['a', 'b', 'c', 'd', 'e']"
      ]
     },
     "execution_count": 32,
     "metadata": {},
     "output_type": "execute_result"
    }
   ],
   "source": [
    "# append a single element\n",
    "letters = ['a', 'b', 'c', 'd']\n",
    "letters.append('e')\n",
    "letters"
   ]
  },
  {
   "cell_type": "code",
   "execution_count": 33,
   "id": "8a70c11c-36c6-4849-92d3-bd9f451a981a",
   "metadata": {},
   "outputs": [
    {
     "data": {
      "text/plain": [
       "['a', 'b', 'c', 'd', 'e', 'f', 'g']"
      ]
     },
     "execution_count": 33,
     "metadata": {},
     "output_type": "execute_result"
    }
   ],
   "source": [
    "# extend with another list\n",
    "letters.extend(['f', 'g'])\n",
    "letters"
   ]
  },
  {
   "cell_type": "code",
   "execution_count": 35,
   "id": "1957964f-7f86-4c1a-8b88-15252a9e61a5",
   "metadata": {},
   "outputs": [
    {
     "name": "stdout",
     "output_type": "stream",
     "text": [
      "b\n"
     ]
    },
    {
     "data": {
      "text/plain": [
       "['a', 'c']"
      ]
     },
     "execution_count": 35,
     "metadata": {},
     "output_type": "execute_result"
    }
   ],
   "source": [
    "# remove elements from a list\n",
    "t = ['a', 'b', 'c']\n",
    "print(t.pop(1))\n",
    "t"
   ]
  },
  {
   "cell_type": "code",
   "execution_count": 36,
   "id": "1d6d5751-8c79-4378-89f5-b85390228d86",
   "metadata": {},
   "outputs": [
    {
     "data": {
      "text/plain": [
       "['a', 'c']"
      ]
     },
     "execution_count": 36,
     "metadata": {},
     "output_type": "execute_result"
    }
   ],
   "source": [
    "# if you know the element but not the index\n",
    "t = ['a', 'b', 'c']\n",
    "t.remove('b')\n",
    "t"
   ]
  },
  {
   "cell_type": "code",
   "execution_count": null,
   "id": "4bf852b6-c779-4101-8d4c-f27afd7a6029",
   "metadata": {},
   "outputs": [],
   "source": [
    "# t.remove('d')  # valueError"
   ]
  },
  {
   "cell_type": "markdown",
   "id": "3ef1d285-bcb6-4084-91d2-09a89c5befa0",
   "metadata": {},
   "source": [
    "## Lists and Strings"
   ]
  },
  {
   "cell_type": "code",
   "execution_count": 38,
   "id": "b09ec7f8-bfad-4c53-8c7a-80ec3289acbe",
   "metadata": {},
   "outputs": [
    {
     "data": {
      "text/plain": [
       "['s', 'p', 'a', 'm']"
      ]
     },
     "execution_count": 38,
     "metadata": {},
     "output_type": "execute_result"
    }
   ],
   "source": [
    "# convert string to list of characters\n",
    "s = 'spam'\n",
    "t = list(s)\n",
    "t"
   ]
  },
  {
   "cell_type": "code",
   "execution_count": 39,
   "id": "eb9075d7-4511-4b5c-884e-cb8ccdc735b0",
   "metadata": {},
   "outputs": [
    {
     "data": {
      "text/plain": [
       "['pining', 'for', 'the', 'fjords']"
      ]
     },
     "execution_count": 39,
     "metadata": {},
     "output_type": "execute_result"
    }
   ],
   "source": [
    "# split a string into words\n",
    "s = 'pining for the fjords'\n",
    "t = s.split()\n",
    "t"
   ]
  },
  {
   "cell_type": "code",
   "execution_count": 40,
   "id": "e16a7194-8421-4b46-bbbf-f4f84fb1de9b",
   "metadata": {},
   "outputs": [
    {
     "data": {
      "text/plain": [
       "['ex', 'parrot']"
      ]
     },
     "execution_count": 40,
     "metadata": {},
     "output_type": "execute_result"
    }
   ],
   "source": [
    "# use a delimiter for the word boundary\n",
    "s = 'ex-parrot'\n",
    "t = s.split('-')\n",
    "t"
   ]
  },
  {
   "cell_type": "code",
   "execution_count": 43,
   "id": "ccd3195c-4a20-49a3-a75f-9793265f1a6d",
   "metadata": {},
   "outputs": [
    {
     "data": {
      "text/plain": [
       "'pining for the fjords'"
      ]
     },
     "execution_count": 43,
     "metadata": {},
     "output_type": "execute_result"
    }
   ],
   "source": [
    "# join a list of strings. Invoking on the delimeter\n",
    "delimeter = ' '\n",
    "t = ['pining', 'for', 'the', 'fjords']\n",
    "s = delimeter.join(t)\n",
    "s"
   ]
  },
  {
   "cell_type": "markdown",
   "id": "74f99b84-e260-43f7-beb3-f5b5827b1992",
   "metadata": {},
   "source": [
    "## Looping Through a List"
   ]
  },
  {
   "cell_type": "code",
   "execution_count": 45,
   "id": "542796c4-7c7c-47d0-ba1f-22d9463916e7",
   "metadata": {},
   "outputs": [
    {
     "name": "stdout",
     "output_type": "stream",
     "text": [
      "Cheddar\n",
      "Edam\n",
      "Gouda\n"
     ]
    }
   ],
   "source": [
    "cheeses = ['Cheddar', 'Edam', 'Gouda']\n",
    "for cheese in cheeses:\n",
    "    print(cheese)"
   ]
  },
  {
   "cell_type": "code",
   "execution_count": 47,
   "id": "640c9f4b-a113-4c03-b0ba-c3e5196f3e78",
   "metadata": {},
   "outputs": [
    {
     "name": "stdout",
     "output_type": "stream",
     "text": [
      "pining\n",
      "for\n",
      "the\n",
      "fjords\n"
     ]
    }
   ],
   "source": [
    "s = 'pining for the fjords'\n",
    "for word in s.split():\n",
    "    print(word)"
   ]
  },
  {
   "cell_type": "code",
   "execution_count": 48,
   "id": "0bfada77-9437-4a2d-bf60-585e8c21c64c",
   "metadata": {},
   "outputs": [],
   "source": [
    "# looping over an empty list\n",
    "for x in []:\n",
    "    print(\"This never happens.\")"
   ]
  },
  {
   "cell_type": "markdown",
   "id": "0ae6c270-fc7d-4dd7-a569-7195bf2cbd9e",
   "metadata": {},
   "source": [
    "## Sorting Lists"
   ]
  },
  {
   "cell_type": "code",
   "execution_count": 50,
   "id": "1479742c-d450-47fc-a373-3b954d7a52e8",
   "metadata": {},
   "outputs": [
    {
     "name": "stdout",
     "output_type": "stream",
     "text": [
      "['a', 'b', 'c']\n"
     ]
    },
    {
     "data": {
      "text/plain": [
       "['c', 'a', 'b']"
      ]
     },
     "execution_count": 50,
     "metadata": {},
     "output_type": "execute_result"
    }
   ],
   "source": [
    "# python built in sorted function\n",
    "scramble = ['c', 'a', 'b']\n",
    "print(sorted(scramble))\n",
    "\n",
    "# the original list is unchanged\n",
    "scramble  "
   ]
  },
  {
   "cell_type": "code",
   "execution_count": 52,
   "id": "0ac977f3-633e-402f-be41-372c2da5038b",
   "metadata": {},
   "outputs": [
    {
     "name": "stdout",
     "output_type": "stream",
     "text": [
      "['e', 'e', 'l', 'r', 's', 't', 't']\n"
     ]
    },
    {
     "data": {
      "text/plain": [
       "'eelrstt'"
      ]
     },
     "execution_count": 52,
     "metadata": {},
     "output_type": "execute_result"
    }
   ],
   "source": [
    "# sorted works with any kind of sequence\n",
    "sort = sorted('letters')\n",
    "print(sort)\n",
    "\n",
    "# use joint to convert to a string again\n",
    "delimeter = ''\n",
    "delimeter.join(sort)"
   ]
  },
  {
   "cell_type": "markdown",
   "id": "75b80b4a-a67f-4a99-93b3-c0c2d91f60f9",
   "metadata": {},
   "source": [
    "## Objects and Values"
   ]
  },
  {
   "cell_type": "code",
   "execution_count": 54,
   "id": "bd939341-ba46-4b9c-8925-441c78c36473",
   "metadata": {},
   "outputs": [
    {
     "data": {
      "text/plain": [
       "True"
      ]
     },
     "execution_count": 54,
     "metadata": {},
     "output_type": "execute_result"
    }
   ],
   "source": [
    "# in this case, python only creates one string object\n",
    "a = 'banana'\n",
    "b = 'banana'\n",
    "\n",
    "a is b"
   ]
  },
  {
   "cell_type": "code",
   "execution_count": 56,
   "id": "d5366de1-56f9-4752-8410-b6df1ec9687d",
   "metadata": {},
   "outputs": [
    {
     "data": {
      "text/plain": [
       "False"
      ]
     },
     "execution_count": 56,
     "metadata": {},
     "output_type": "execute_result"
    }
   ],
   "source": [
    "# equivalent but not the same object\n",
    "a = [1, 2, 3]\n",
    "b = [1, 2, 3]\n",
    "\n",
    "a is b"
   ]
  },
  {
   "cell_type": "markdown",
   "id": "154683e9-24c4-40cb-b0c5-22bfadebd13f",
   "metadata": {},
   "source": [
    "## Aliasing"
   ]
  },
  {
   "cell_type": "code",
   "execution_count": 57,
   "id": "7197fe3c-458d-407a-b76c-55a254a446f6",
   "metadata": {},
   "outputs": [
    {
     "data": {
      "text/plain": [
       "True"
      ]
     },
     "execution_count": 57,
     "metadata": {},
     "output_type": "execute_result"
    }
   ],
   "source": [
    "# a and b refer to the same object\n",
    "a = [1, 2, 3]\n",
    "b = a\n",
    "b is a"
   ]
  },
  {
   "cell_type": "code",
   "execution_count": 58,
   "id": "5bed9956-647f-49dd-8265-a7fde764a9e2",
   "metadata": {},
   "outputs": [
    {
     "data": {
      "text/plain": [
       "[5, 2, 3]"
      ]
     },
     "execution_count": 58,
     "metadata": {},
     "output_type": "execute_result"
    }
   ],
   "source": [
    "b[0] = 5\n",
    "a"
   ]
  },
  {
   "cell_type": "markdown",
   "id": "dbb6d109-9412-41fa-8550-1fa0da988b95",
   "metadata": {},
   "source": [
    "## List Arguments"
   ]
  },
  {
   "cell_type": "code",
   "execution_count": 59,
   "id": "e49092f3-7dbe-4165-b5f4-a320a552386e",
   "metadata": {},
   "outputs": [
    {
     "data": {
      "text/plain": [
       "['b', 'c']"
      ]
     },
     "execution_count": 59,
     "metadata": {},
     "output_type": "execute_result"
    }
   ],
   "source": [
    "# lists are pass by reference\n",
    "letters = ['a', 'b', 'c']\n",
    "\n",
    "def pop_first(aList):\n",
    "    return aList.pop(0)\n",
    "\n",
    "pop_first(letters)\n",
    "letters"
   ]
  },
  {
   "cell_type": "markdown",
   "id": "c3a8e9dd-3815-4883-bf71-fcac08d5d351",
   "metadata": {},
   "source": [
    "## Making a Word List"
   ]
  },
  {
   "cell_type": "code",
   "execution_count": 60,
   "id": "6bfe61da-eba4-4080-8ffb-23e0b5905bec",
   "metadata": {},
   "outputs": [
    {
     "data": {
      "text/plain": [
       "234936"
      ]
     },
     "execution_count": 60,
     "metadata": {},
     "output_type": "execute_result"
    }
   ],
   "source": [
    "word_list = []\n",
    "file = 'web2.txt'\n",
    "\n",
    "# save the contents of the file to a list\n",
    "for line in open(file):\n",
    "    word = line.strip()\n",
    "    word_list.append(word)\n",
    "\n",
    "len(word_list)"
   ]
  },
  {
   "cell_type": "code",
   "execution_count": 61,
   "id": "90eec415-40da-4a04-94b0-acc3e09ff26f",
   "metadata": {},
   "outputs": [
    {
     "data": {
      "text/plain": [
       "True"
      ]
     },
     "execution_count": 61,
     "metadata": {},
     "output_type": "execute_result"
    }
   ],
   "source": [
    "# check if a word appears in the list\n",
    "'demotic' in word_list"
   ]
  },
  {
   "cell_type": "code",
   "execution_count": 62,
   "id": "781b878d-c10c-4a67-9dfa-0e273a5a0669",
   "metadata": {},
   "outputs": [
    {
     "data": {
      "text/plain": [
       "False"
      ]
     },
     "execution_count": 62,
     "metadata": {},
     "output_type": "execute_result"
    }
   ],
   "source": [
    "'contrafibularities' in word_list"
   ]
  },
  {
   "cell_type": "markdown",
   "id": "7c0a7abc-2144-4f70-a6b0-fd0fb9293963",
   "metadata": {},
   "source": [
    "## Debugging"
   ]
  },
  {
   "cell_type": "code",
   "execution_count": 63,
   "id": "74eed6c5-6d0a-45c4-b356-cd0887439475",
   "metadata": {},
   "outputs": [
    {
     "data": {
      "text/plain": [
       "'plumage'"
      ]
     },
     "execution_count": 63,
     "metadata": {},
     "output_type": "execute_result"
    }
   ],
   "source": [
    "# string methods return a new string and leave the orginal unchanged\n",
    "word = 'plumage!'\n",
    "word = word.strip('!')\n",
    "word"
   ]
  },
  {
   "cell_type": "code",
   "execution_count": 67,
   "id": "64c8062b-fd42-468d-8078-c032c8b96107",
   "metadata": {},
   "outputs": [],
   "source": [
    "# list methods modify the list and return None\n",
    "t = [1, 2, 3]\n",
    "t = t.remove(3)\n",
    "t  # is now None"
   ]
  },
  {
   "cell_type": "code",
   "execution_count": 78,
   "id": "5a0feb7b-bfdf-42ee-ac3a-2614ba6f660f",
   "metadata": {},
   "outputs": [
    {
     "data": {
      "text/plain": [
       "NoneType"
      ]
     },
     "execution_count": 78,
     "metadata": {},
     "output_type": "execute_result"
    }
   ],
   "source": [
    "type(t)"
   ]
  },
  {
   "cell_type": "code",
   "execution_count": 80,
   "id": "b81c95f5-585e-45d8-82ef-a317c5a43218",
   "metadata": {},
   "outputs": [],
   "source": [
    "tim = 'great guy'"
   ]
  },
  {
   "cell_type": "markdown",
   "id": "22be8a19-a4ba-4294-af2a-63ad9e7e8fed",
   "metadata": {},
   "source": [
    "## EXERCISES"
   ]
  },
  {
   "cell_type": "code",
   "execution_count": 100,
   "id": "d17fad0d-c95b-43ca-9fc5-9ea0fb147193",
   "metadata": {},
   "outputs": [
    {
     "name": "stdout",
     "output_type": "stream",
     "text": [
      "test: accstu\n",
      "test: True\n",
      "\n",
      "skate\n",
      "stake\n",
      "steak\n"
     ]
    }
   ],
   "source": [
    "# EXERCISE 1\n",
    "# prepare file file of words for processing\n",
    "def make_list(file):\n",
    "    try:\n",
    "        words = []\n",
    "        for line in open(file):\n",
    "            line = line.strip()\n",
    "            words.append(line)\n",
    "        return words\n",
    "    except FileNotFoundError:\n",
    "        print(\"ERROR: File not found\")\n",
    "    except OSError as e:\n",
    "        print(f\"Error opening file: {e}\")\n",
    "\n",
    "# break a word (or string) into chars and sort alphabetically\n",
    "def sort_word(word):\n",
    "    return ''.join(sorted(word))\n",
    "\n",
    "# check if two words are anagrams\n",
    "def is_anagram(s1, s2):\n",
    "    s1 = sort_word(s1)\n",
    "    s2 = sort_word(s2)\n",
    "    return s1 == s2\n",
    "\n",
    "print(\"test: \" + sort_word('cactus'))\n",
    "print(\"test: \" + str(is_anagram('least', 'slate')))\n",
    "\n",
    "word_list = make_list(file)\n",
    "anagram = 'takes'\n",
    "anagrams = []\n",
    "anagram_len = len(anagram)\n",
    "for word in word_list:\n",
    "    if len(word) == anagram_len:\n",
    "        if is_anagram(anagram, word):\n",
    "            anagrams.append(word)\n",
    "\n",
    "print()\n",
    "for word in anagrams:\n",
    "    print(word)"
   ]
  },
  {
   "cell_type": "code",
   "execution_count": 106,
   "id": "88210281-8d06-48d2-a4b4-cba7ab9fa7dd",
   "metadata": {},
   "outputs": [
    {
     "name": "stdout",
     "output_type": "stream",
     "text": [
      "deedeed\n",
      "degged\n",
      "hallah\n",
      "kakkak\n",
      "murdrum\n",
      "redder\n",
      "repaper\n",
      "retter\n",
      "reviver\n",
      "rotator\n",
      "sooloos\n",
      "tebbet\n",
      "terret\n"
     ]
    }
   ],
   "source": [
    "# EXERCISE 2\n",
    "def reverse_word(word):\n",
    "    return ''.join(reversed(word))\n",
    "\n",
    "def is_palindrome(word):\n",
    "    return word == reverse_word(word)\n",
    "\n",
    "for word in word_list:\n",
    "    if len(word) >= 6 and is_palindrome(word):\n",
    "        print(word)"
   ]
  }
 ],
 "metadata": {
  "kernelspec": {
   "display_name": "Python 3 (ipykernel)",
   "language": "python",
   "name": "python3"
  },
  "language_info": {
   "codemirror_mode": {
    "name": "ipython",
    "version": 3
   },
   "file_extension": ".py",
   "mimetype": "text/x-python",
   "name": "python",
   "nbconvert_exporter": "python",
   "pygments_lexer": "ipython3",
   "version": "3.13.7"
  }
 },
 "nbformat": 4,
 "nbformat_minor": 5
}
