{
 "cells": [
  {
   "cell_type": "markdown",
   "id": "671773f7-1bd7-492f-ab09-8e9c7424142f",
   "metadata": {},
   "source": [
    "# Chapter 7. Iteration and Search"
   ]
  },
  {
   "cell_type": "markdown",
   "id": "e1f0ede5-a8a3-4bca-aa04-40c42fbc2c44",
   "metadata": {
    "jp-MarkdownHeadingCollapsed": true
   },
   "source": [
    "## Loops and Strings"
   ]
  },
  {
   "cell_type": "code",
   "execution_count": 1,
   "id": "e4bfa69c-a09e-40d3-a30d-6bc78bc48106",
   "metadata": {},
   "outputs": [
    {
     "name": "stdout",
     "output_type": "stream",
     "text": [
      "0 1 2 "
     ]
    }
   ],
   "source": [
    "for i in range(3):\n",
    "    print(i, end=' ')"
   ]
  },
  {
   "cell_type": "code",
   "execution_count": 3,
   "id": "c7ae2e77-c1a5-4755-be3a-aa6259f9a20c",
   "metadata": {},
   "outputs": [
    {
     "name": "stdout",
     "output_type": "stream",
     "text": [
      "G•a•d•s•b•y•"
     ]
    }
   ],
   "source": [
    "# loop over the string interable\n",
    "for letter in 'Gadsby':\n",
    "    print(letter, end='•')"
   ]
  },
  {
   "cell_type": "code",
   "execution_count": 5,
   "id": "67377035-7d7a-4319-b7b9-db9cd59e21a9",
   "metadata": {},
   "outputs": [],
   "source": [
    "# search for a letter in a string\n",
    "for letter in \"Gadsby\":\n",
    "    if letter == 'E' or letter == 'e':\n",
    "        print('This word has an \"e\"')"
   ]
  },
  {
   "cell_type": "code",
   "execution_count": 7,
   "id": "e7bc4412-7d3b-430c-b24f-8733234d782c",
   "metadata": {},
   "outputs": [],
   "source": [
    "def has_e():\n",
    "    for letter in \"Gadsby\":\n",
    "        if letter.lower() == 'e':\n",
    "            return True\n",
    "    return False"
   ]
  },
  {
   "cell_type": "code",
   "execution_count": 8,
   "id": "59a326e5-49ef-443e-ae60-49c16d788454",
   "metadata": {},
   "outputs": [],
   "source": [
    "def word_has_s(word, s):\n",
    "    for letter in word:\n",
    "        if letter.lower() == s.lower():\n",
    "            return True\n",
    "    return False"
   ]
  },
  {
   "cell_type": "code",
   "execution_count": 12,
   "id": "aefb1c2d-5b2e-41ad-bf06-d4322696858b",
   "metadata": {},
   "outputs": [
    {
     "data": {
      "text/plain": [
       "True"
      ]
     },
     "execution_count": 12,
     "metadata": {},
     "output_type": "execute_result"
    }
   ],
   "source": [
    "word_has_s(\"Gadsby\", \"A\")"
   ]
  },
  {
   "cell_type": "markdown",
   "id": "7404b513-1777-4dd3-b563-bfaba9ba8bd1",
   "metadata": {},
   "source": [
    "## Reading the Word List"
   ]
  },
  {
   "cell_type": "code",
   "execution_count": 15,
   "id": "7cc98448-e48e-4eaa-a087-3078e8334464",
   "metadata": {},
   "outputs": [
    {
     "data": {
      "text/plain": [
       "'A\\n'"
      ]
     },
     "execution_count": 15,
     "metadata": {},
     "output_type": "execute_result"
    }
   ],
   "source": [
    "# open a file\n",
    "file_object = open('web2.txt')\n",
    "line = file_object.readline()\n",
    "line"
   ]
  },
  {
   "cell_type": "code",
   "execution_count": 16,
   "id": "5c93d9de-3a8e-4f72-8bee-05ce1802b3e0",
   "metadata": {},
   "outputs": [
    {
     "data": {
      "text/plain": [
       "'a\\n'"
      ]
     },
     "execution_count": 16,
     "metadata": {},
     "output_type": "execute_result"
    }
   ],
   "source": [
    "line = file_object.readline()\n",
    "line"
   ]
  },
  {
   "cell_type": "code",
   "execution_count": 17,
   "id": "d903198d-3eef-4bd2-8b48-45a89f70f85b",
   "metadata": {},
   "outputs": [
    {
     "data": {
      "text/plain": [
       "'a'"
      ]
     },
     "execution_count": 17,
     "metadata": {},
     "output_type": "execute_result"
    }
   ],
   "source": [
    "# strip the newline\n",
    "word = line.strip()\n",
    "word"
   ]
  },
  {
   "cell_type": "markdown",
   "id": "6981f81e-297e-4e2a-b0c2-abb3a85dbe5b",
   "metadata": {},
   "source": [
    "## Looping and Counting"
   ]
  },
  {
   "cell_type": "code",
   "execution_count": 20,
   "id": "095904d5-b3ac-47be-970b-aa12d0cafa09",
   "metadata": {},
   "outputs": [],
   "source": [
    "def has_letter(word, letter):\n",
    "    return letter.lower() in word.lower()"
   ]
  },
  {
   "cell_type": "code",
   "execution_count": 21,
   "id": "ad40137f-3c33-4e38-bc23-d708d3528191",
   "metadata": {},
   "outputs": [
    {
     "name": "stdout",
     "output_type": "stream",
     "text": [
      "        total words: 234936\n",
      "           with 'E': 157642\n",
      "percentage of total: 67.1%\n"
     ]
    }
   ],
   "source": [
    "# Count the number of words\n",
    "# Count the number of words that contain 'E'\n",
    "total = 0\n",
    "count = 0\n",
    "\n",
    "for line in open('web2.txt'):\n",
    "    word = line.strip()\n",
    "    total += 1\n",
    "    if has_letter(word, 'e'):\n",
    "        count += 1\n",
    "\n",
    "percentage = round(count / total * 100, 1)\n",
    "\n",
    "print(f\"        total words: {total}\")\n",
    "print(f\"           with 'E': {count}\")\n",
    "print(f\"percentage of total: {percentage}%\")"
   ]
  },
  {
   "cell_type": "markdown",
   "id": "834c8cc3-564b-4ad3-9bc0-120ae16c9182",
   "metadata": {},
   "source": [
    "## The in Operator"
   ]
  },
  {
   "cell_type": "code",
   "execution_count": 23,
   "id": "5d5d595d-4035-4999-9e7d-ff3dcacacd31",
   "metadata": {},
   "outputs": [
    {
     "data": {
      "text/plain": [
       "False"
      ]
     },
     "execution_count": 23,
     "metadata": {},
     "output_type": "execute_result"
    }
   ],
   "source": [
    "word = 'Gadsby'\n",
    "'e' in word"
   ]
  },
  {
   "cell_type": "code",
   "execution_count": 25,
   "id": "512667c3-d8f6-4f30-9cd5-6751d27cc645",
   "metadata": {},
   "outputs": [],
   "source": [
    "def has_e(word):\n",
    "    if 'e' in word.lower():\n",
    "        return True\n",
    "    return False"
   ]
  },
  {
   "cell_type": "code",
   "execution_count": 28,
   "id": "e578ed0a-9db9-4d93-9e30-348034ecd663",
   "metadata": {},
   "outputs": [
    {
     "name": "stdout",
     "output_type": "stream",
     "text": [
      "False\n",
      "True\n"
     ]
    }
   ],
   "source": [
    "def has_e(word):\n",
    "    return 'e' in word.lower()\n",
    "\n",
    "print(has_e('Gadsby'))\n",
    "print(has_e('Emma'))"
   ]
  },
  {
   "cell_type": "markdown",
   "id": "d12dd487-1c6a-4c30-b975-20523f49337c",
   "metadata": {},
   "source": [
    "## Linear Search"
   ]
  },
  {
   "cell_type": "code",
   "execution_count": 42,
   "id": "6e18fc0b-1452-467a-ba15-ea94c066ffd0",
   "metadata": {},
   "outputs": [],
   "source": [
    "# Linear search. \n",
    "def uses_any(word, letters):\n",
    "    \"\"\"\n",
    "        Check if word uses any of a list of letters\n",
    "\n",
    "        >>> uses_any('banana', 'aeiou')\n",
    "        True\n",
    "        >>> uses_any('apple', 'xyz')\n",
    "        False\n",
    "    \"\"\"\n",
    "    # Check each letter in the word\n",
    "    for letter in word.lower():\n",
    "        if letter in letters.lower():\n",
    "            # Match found\n",
    "            return True\n",
    "    # None found. \n",
    "    return False"
   ]
  },
  {
   "cell_type": "code",
   "execution_count": 34,
   "id": "d7247478-553f-48d0-ae26-27462c28cbe4",
   "metadata": {},
   "outputs": [
    {
     "data": {
      "text/plain": [
       "True"
      ]
     },
     "execution_count": 34,
     "metadata": {},
     "output_type": "execute_result"
    }
   ],
   "source": [
    "uses_any('banana', 'aeiou')"
   ]
  },
  {
   "cell_type": "code",
   "execution_count": 35,
   "id": "02590e1f-5e48-413d-b210-bd4b55f46ed4",
   "metadata": {},
   "outputs": [
    {
     "data": {
      "text/plain": [
       "False"
      ]
     },
     "execution_count": 35,
     "metadata": {},
     "output_type": "execute_result"
    }
   ],
   "source": [
    "uses_any('apple', 'xyz')"
   ]
  },
  {
   "cell_type": "markdown",
   "id": "001de73d-1c21-4ac9-91ca-bdf170ddd547",
   "metadata": {},
   "source": [
    "## Doctest"
   ]
  },
  {
   "cell_type": "code",
   "execution_count": 36,
   "id": "d3441ee5-13f1-418d-aca2-69fa0b8f08f6",
   "metadata": {},
   "outputs": [],
   "source": [
    "from doctest import run_docstring_examples\n",
    "\n",
    "def run_doctests(func):\n",
    "    run_docstring_examples(func, globals(), name=func.__name__)"
   ]
  },
  {
   "cell_type": "code",
   "execution_count": 43,
   "id": "70dfac4c-33bd-416f-abe4-27c944287df5",
   "metadata": {},
   "outputs": [],
   "source": [
    "run_doctests(uses_any)"
   ]
  },
  {
   "cell_type": "markdown",
   "id": "9bdd9e1b-10bf-400c-b41f-31b1ec225b1c",
   "metadata": {},
   "source": [
    "# Exercises"
   ]
  },
  {
   "cell_type": "markdown",
   "id": "de90847a-2f31-410c-8825-2e50e4d3a80f",
   "metadata": {},
   "source": [
    "### uses_none()"
   ]
  },
  {
   "cell_type": "code",
   "execution_count": 46,
   "id": "ce20f917-7b8d-4c9a-8d68-b9b2cfdface9",
   "metadata": {},
   "outputs": [],
   "source": [
    "# EX. 1\n",
    "def uses_none(word, forbidden):\n",
    "    \"\"\"\n",
    "    Checks whether a word avoids forbidden letters\n",
    "\n",
    "    >>> uses_none('banana', 'xyz')\n",
    "    True\n",
    "    >>> uses_none('apple', 'efg')\n",
    "    False\n",
    "    >>> uses_none('', 'abc')\n",
    "    False\n",
    "    \"\"\"\n",
    "    # check each letter in the word\n",
    "    for letter in word.lower():\n",
    "        # check the letter against forbidden\n",
    "        if letter in forbidden.lower():\n",
    "            return False\n",
    "    return True\n",
    "\n",
    "run_doctests(uses_any)"
   ]
  },
  {
   "cell_type": "markdown",
   "id": "40334f28-1ebc-4365-9c6f-830e622a5988",
   "metadata": {},
   "source": [
    "### uses_only()"
   ]
  },
  {
   "cell_type": "code",
   "execution_count": 47,
   "id": "d254c473-85e7-4f19-8822-4e0cf3d9d7dd",
   "metadata": {},
   "outputs": [],
   "source": [
    "# EX. 2\n",
    "def uses_only(word, available):\n",
    "    \"\"\"\n",
    "    Checks whether a word uses only the available letters\n",
    "\n",
    "    >>> uses_only('banana', 'ban')\n",
    "    True\n",
    "    >>> uses_only('apple', 'apl')\n",
    "    False\n",
    "    >>> uses_only('cattle', 'leta')\n",
    "    False\n",
    "    \"\"\"\n",
    "    # check each letter the word\n",
    "    for letter in word.lower():\n",
    "        if letter not in available.lower():\n",
    "            return False\n",
    "    return True\n",
    "\n",
    "run_doctests(uses_only)"
   ]
  },
  {
   "cell_type": "markdown",
   "id": "bfae773b-6faf-4898-841a-ba9ba53521ea",
   "metadata": {},
   "source": [
    "### uses_all()"
   ]
  },
  {
   "cell_type": "code",
   "execution_count": 48,
   "id": "176d9d77-ad4f-47da-9d05-4929df95654f",
   "metadata": {},
   "outputs": [],
   "source": [
    "# EX. 3\n",
    "def uses_all(word, required):\n",
    "    \"\"\"\n",
    "    Checks whether a word uses all required letters.\n",
    "\n",
    "    >>> uses_all('banana', 'ban')\n",
    "    True\n",
    "    >>> uses_all('apple', 'api')\n",
    "    False\n",
    "    >>> uses_all('funny', 'funy')\n",
    "    True\n",
    "    \"\"\"\n",
    "    for letter in required.lower():\n",
    "        if letter not in word.lower():\n",
    "            return False\n",
    "    return True\n",
    "\n",
    "run_doctests(uses_all)"
   ]
  },
  {
   "cell_type": "markdown",
   "id": "bf9cdc6a-d07d-4f51-9fda-c621779f5c63",
   "metadata": {},
   "source": [
    "### check_word()"
   ]
  },
  {
   "cell_type": "code",
   "execution_count": 54,
   "id": "70a6b09b-6a8c-47c9-aa8c-aabb80c4ab54",
   "metadata": {},
   "outputs": [],
   "source": [
    "# EX. 4\n",
    "def check_word(word, available, required):\n",
    "    \"\"\"\n",
    "    Check whether a word is acceptable.\n",
    "\n",
    "    >>> check_word('color', 'ACDLORT', 'R')\n",
    "    True\n",
    "    >>> check_word('ratatat', 'ACDLORT', 'R')\n",
    "    True\n",
    "    >>> check_word('rat', 'ACDLORT', 'R')\n",
    "    False\n",
    "    >>> check_word('told', 'ACDLORT', 'R')\n",
    "    False\n",
    "    >>> check_word('bee', 'ACDLORT', 'R')\n",
    "    False\n",
    "    \"\"\"\n",
    "    if len(word) < 4: \n",
    "        return False\n",
    "\n",
    "    # checks if the word contains the required letter\n",
    "    if not uses_all(word, required):\n",
    "        return False\n",
    "\n",
    "    # checks if word uses only available letters\n",
    "    return uses_only(word, available)\n",
    "\n",
    "run_doctests(check_word)"
   ]
  },
  {
   "cell_type": "markdown",
   "id": "d35a033a-b6ca-47e6-98ff-da6cd6889975",
   "metadata": {},
   "source": [
    "### uses_none()"
   ]
  },
  {
   "cell_type": "code",
   "execution_count": 56,
   "id": "43e518d5-ac83-493c-b0ba-3fd9b1008935",
   "metadata": {},
   "outputs": [],
   "source": [
    "def uses_none(word, forbidden):\n",
    "    \"\"\"Checks whether a word avoids forbidden letters.\n",
    "    \n",
    "    >>> uses_none('banana', 'xyz')\n",
    "    True\n",
    "    >>> uses_none('apple', 'efg')\n",
    "    False\n",
    "    >>> uses_none('', 'abc')\n",
    "    True\n",
    "    \"\"\"\n",
    "    return not uses_any(word, forbidden)\n",
    "\n",
    "run_doctests(uses_none)"
   ]
  },
  {
   "cell_type": "code",
   "execution_count": 58,
   "id": "710f3986-7a42-4303-ac5e-efb337c1fa6d",
   "metadata": {},
   "outputs": [],
   "source": [
    "def uses_all(word, required):\n",
    "    \"\"\"Checks whether a word uses all required letters.\n",
    "    \n",
    "    >>> uses_all('banana', 'ban')\n",
    "    True\n",
    "    >>> uses_all('ratatat', 'rat')\n",
    "    True\n",
    "    >>> uses_all('apple', 'api')\n",
    "    False\n",
    "    \"\"\"\n",
    "    return uses_only(required, word)\n",
    "\n",
    "run_doctests(uses_none)"
   ]
  },
  {
   "cell_type": "code",
   "execution_count": null,
   "id": "02d10c70-d75b-4bf2-bfef-1439d095dea8",
   "metadata": {},
   "outputs": [],
   "source": [
    "—————————————————————————————————————————————————"
   ]
  },
  {
   "cell_type": "code",
   "execution_count": 261,
   "id": "89ea871c-1c6f-497f-a929-90197991d3e8",
   "metadata": {},
   "outputs": [],
   "source": [
    "def word_score(word, available):\n",
    "    \"\"\"\n",
    "    Compute the score for an acceptable word.\n",
    "    \n",
    "    >>> word_score('card', 'ACDLORT')\n",
    "    1\n",
    "    >>> word_score('color', 'ACDLORT')\n",
    "    5\n",
    "    >>> word_score('cartload', 'ACDLORT')\n",
    "    15\n",
    "    \"\"\"\n",
    "    points = 0\n",
    "    \n",
    "    # Longer words -> 1 point per point\n",
    "    if len(word) > 4:\n",
    "        points += len(word)\n",
    "    # Four-letter words -> 1 point\n",
    "    else:\n",
    "        points += 1\n",
    "    \n",
    "    # Is a pangram? -> 7 extra points\n",
    "    if uses_all(word, available):\n",
    "        points += 7\n",
    "\n",
    "    return points"
   ]
  },
  {
   "cell_type": "code",
   "execution_count": 273,
   "id": "afa85eb1-4c04-491f-a985-b7d97850fec8",
   "metadata": {
    "collapsed": true,
    "jupyter": {
     "outputs_hidden": true
    },
    "scrolled": true
   },
   "outputs": [
    {
     "name": "stdout",
     "output_type": "stream",
     "text": [
      "acara 5\n",
      "acarol 6\n",
      "accord 6\n",
      "acor 1\n",
      "Acroa 5\n",
      "actor 5\n",
      "Adar 1\n",
      "adoral 6\n",
      "alar 1\n",
      "Alcor 5\n",
      "allocator 9\n",
      "alroot 6\n",
      "altar 5\n",
      "aorta 5\n",
      "aortal 6\n",
      "araca 5\n",
      "arad 1\n",
      "arado 5\n",
      "arar 1\n",
      "Arara 5\n",
      "arara 5\n",
      "ararao 6\n",
      "arca 1\n",
      "ardor 5\n",
      "aroar 5\n",
      "arolla 6\n",
      "artal 5\n",
      "artar 5\n",
      "attar 5\n",
      "attract 7\n",
      "attractor 9\n",
      "Cacara 6\n",
      "calcar 6\n",
      "calor 5\n",
      "Cara 1\n",
      "caracal 7\n",
      "caracara 8\n",
      "caracol 7\n",
      "caract 6\n",
      "Caradoc 7\n",
      "Carara 6\n",
      "carat 5\n",
      "card 1\n",
      "cardo 5\n",
      "cardol 6\n",
      "Carl 1\n",
      "carl 1\n",
      "carload 7\n",
      "carlot 6\n",
      "Caro 1\n",
      "caroa 5\n",
      "Carol 5\n",
      "carol 5\n",
      "carr 1\n",
      "Carrara 7\n",
      "carrot 6\n",
      "cart 1\n",
      "cartload 15\n",
      "catacorolla 11\n",
      "cataract 8\n",
      "cataractal 10\n",
      "Clara 5\n",
      "claro 5\n",
      "clart 5\n",
      "coactor 7\n",
      "cocoroot 8\n",
      "collar 6\n",
      "collard 7\n",
      "collator 8\n",
      "color 5\n",
      "Colorado 8\n",
      "colorado 8\n",
      "Cora 1\n",
      "cora 1\n",
      "coral 5\n",
      "coralroot 9\n",
      "cord 1\n",
      "coroa 5\n",
      "Coroado 7\n",
      "corol 5\n",
      "corolla 7\n",
      "corral 6\n",
      "corta 5\n",
      "cotoro 6\n",
      "Cracca 6\n",
      "Croat 5\n",
      "croc 1\n",
      "crocard 7\n",
      "crood 5\n",
      "crool 5\n",
      "crotal 6\n",
      "crotalo 7\n",
      "dalar 5\n",
      "darac 5\n",
      "darat 5\n",
      "Dard 1\n",
      "dardaol 7\n",
      "daroo 5\n",
      "darr 1\n",
      "dart 1\n",
      "doctor 6\n",
      "doctoral 15\n",
      "doddart 7\n",
      "dollar 6\n",
      "dolor 5\n",
      "door 1\n",
      "Dora 1\n",
      "dorad 5\n",
      "dorado 6\n",
      "dorlot 6\n",
      "dotard 6\n",
      "Draco 5\n",
      "drat 1\n",
      "droll 5\n",
      "drool 5\n",
      "lard 1\n",
      "latro 5\n",
      "locator 7\n",
      "Lollard 7\n",
      "Lora 1\n",
      "lora 1\n",
      "loral 5\n",
      "lord 1\n",
      "loro 1\n",
      "Octocoralla 11\n",
      "odor 1\n",
      "odorator 8\n",
      "Olor 1\n",
      "oord 1\n",
      "orad 1\n",
      "oral 1\n",
      "orator 6\n",
      "Orca 1\n",
      "orlo 1\n",
      "Ortol 5\n",
      "ottar 5\n",
      "raad 1\n",
      "raccroc 7\n",
      "rada 1\n",
      "radar 5\n",
      "rata 1\n",
      "ratal 5\n",
      "road 1\n",
      "roar 1\n",
      "rococo 6\n",
      "rocta 5\n",
      "rodd 1\n",
      "roll 1\n",
      "Rollo 5\n",
      "rood 1\n",
      "rool 1\n",
      "root 1\n",
      "roral 5\n",
      "rota 1\n",
      "Rotal 5\n",
      "rotal 5\n",
      "Rotala 6\n",
      "rotator 7\n",
      "roto 1\n",
      "rotor 5\n",
      "rottolo 7\n",
      "taar 1\n",
      "tactor 6\n",
      "talar 5\n",
      "tara 1\n",
      "tarata 6\n",
      "taro 1\n",
      "taroc 5\n",
      "tarocco 7\n",
      "tarot 5\n",
      "tarr 1\n",
      "tart 1\n",
      "Tartar 6\n",
      "tartar 6\n",
      "tartro 6\n",
      "Tatar 5\n",
      "toadroot 8\n",
      "tocororo 8\n",
      "tooroo 6\n",
      "tora 1\n",
      "toral 5\n",
      "torc 1\n",
      "toro 1\n",
      "torotoro 8\n",
      "tort 1\n",
      "torta 5\n",
      "totara 6\n",
      "totora 6\n",
      "Totoro 6\n",
      "tract 5\n",
      "tractator 9\n",
      "tractor 7\n",
      "tradal 6\n",
      "Troad 5\n",
      "troat 5\n",
      "troca 5\n",
      "trocar 6\n",
      "troco 5\n",
      "trod 1\n",
      "troll 5\n",
      "trollol 7\n",
      "troot 5\n",
      "trot 1\n",
      "trotol 6\n",
      "Total score: 954\n"
     ]
    }
   ],
   "source": [
    "available = 'ACDLORT'\n",
    "required = 'R'\n",
    "total = 0\n",
    "\n",
    "file_object = open('web2.txt')\n",
    "for line in file_object:\n",
    "    word = line.strip()\n",
    "    if check_word(word, available, required):\n",
    "        score = word_score(word, available)\n",
    "        total += score\n",
    "        print(word, score)\n",
    "\n",
    "print(\"Total score:\", total)"
   ]
  },
  {
   "cell_type": "code",
   "execution_count": 265,
   "id": "cf61be53-349a-4d90-b019-afdd1746620e",
   "metadata": {},
   "outputs": [],
   "source": [
    "run_doctests(word_score)"
   ]
  },
  {
   "cell_type": "code",
   "execution_count": 281,
   "id": "c9567ed8-ae00-4d91-859e-7b0c9adde390",
   "metadata": {},
   "outputs": [],
   "source": [
    "run_doctests(uses_none)"
   ]
  }
 ],
 "metadata": {
  "kernelspec": {
   "display_name": "Python 3 (ipykernel)",
   "language": "python",
   "name": "python3"
  },
  "language_info": {
   "codemirror_mode": {
    "name": "ipython",
    "version": 3
   },
   "file_extension": ".py",
   "mimetype": "text/x-python",
   "name": "python",
   "nbconvert_exporter": "python",
   "pygments_lexer": "ipython3",
   "version": "3.13.7"
  }
 },
 "nbformat": 4,
 "nbformat_minor": 5
}
