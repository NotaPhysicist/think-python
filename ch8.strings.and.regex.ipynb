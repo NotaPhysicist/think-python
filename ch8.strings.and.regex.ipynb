{
 "cells": [
  {
   "cell_type": "markdown",
   "id": "51867d4e-9bc9-4454-b36f-786c11e3d738",
   "metadata": {},
   "source": [
    "# Ch 8. Strings and Regular Expressions"
   ]
  },
  {
   "cell_type": "markdown",
   "id": "c6956668-5f8a-45cb-b4d5-cd46db34583d",
   "metadata": {},
   "source": [
    "## A String Is a Sequence"
   ]
  },
  {
   "cell_type": "code",
   "execution_count": 4,
   "id": "870a3bcb-64c0-4c4a-9ebc-f60a7b57d3cf",
   "metadata": {},
   "outputs": [
    {
     "data": {
      "text/plain": [
       "'a'"
      ]
     },
     "execution_count": 4,
     "metadata": {},
     "output_type": "execute_result"
    }
   ],
   "source": [
    "# select a character with the bracket operator\n",
    "fruit = \"banana\"\n",
    "letter = fruit[1]\n",
    "letter"
   ]
  },
  {
   "cell_type": "code",
   "execution_count": 6,
   "id": "1243a873-5ab4-44ad-80c7-b7de4ce1ede4",
   "metadata": {},
   "outputs": [
    {
     "data": {
      "text/plain": [
       "'a'"
      ]
     },
     "execution_count": 6,
     "metadata": {},
     "output_type": "execute_result"
    }
   ],
   "source": [
    "# the index can be a variable\n",
    "i = 1\n",
    "fruit[i]"
   ]
  },
  {
   "cell_type": "code",
   "execution_count": 7,
   "id": "f6b3db8c-1db5-4e88-838a-e8ea7372df37",
   "metadata": {},
   "outputs": [
    {
     "data": {
      "text/plain": [
       "'n'"
      ]
     },
     "execution_count": 7,
     "metadata": {},
     "output_type": "execute_result"
    }
   ],
   "source": [
    "# the index can be an expression\n",
    "fruit[i+1]"
   ]
  },
  {
   "cell_type": "code",
   "execution_count": 33,
   "id": "45e4b60e-c3b9-420b-8f0a-1422a4dd021c",
   "metadata": {},
   "outputs": [],
   "source": [
    "# the index has to be an integer\n",
    "# fruit[1.5]  # error"
   ]
  },
  {
   "cell_type": "code",
   "execution_count": 11,
   "id": "4df9e4ab-2ed4-4462-b67b-89080f32e5c5",
   "metadata": {},
   "outputs": [
    {
     "data": {
      "text/plain": [
       "6"
      ]
     },
     "execution_count": 11,
     "metadata": {},
     "output_type": "execute_result"
    }
   ],
   "source": [
    "# get the length of a string\n",
    "n = len(fruit)\n",
    "n"
   ]
  },
  {
   "cell_type": "code",
   "execution_count": 12,
   "id": "081782e1-7837-4782-939d-d3ffd5d6823b",
   "metadata": {},
   "outputs": [
    {
     "data": {
      "text/plain": [
       "'a'"
      ]
     },
     "execution_count": 12,
     "metadata": {},
     "output_type": "execute_result"
    }
   ],
   "source": [
    "# because we start counting at zero\n",
    "fruit[n-1]"
   ]
  },
  {
   "cell_type": "code",
   "execution_count": 13,
   "id": "189ac3fc-a414-4803-bcba-afd2f5c33aea",
   "metadata": {},
   "outputs": [
    {
     "data": {
      "text/plain": [
       "'a'"
      ]
     },
     "execution_count": 13,
     "metadata": {},
     "output_type": "execute_result"
    }
   ],
   "source": [
    "# but there's an easier way\n",
    "fruit[-1]"
   ]
  },
  {
   "cell_type": "markdown",
   "id": "03840346-c795-41a0-a361-25a43d5f3d29",
   "metadata": {},
   "source": [
    "## String Slices"
   ]
  },
  {
   "cell_type": "code",
   "execution_count": 17,
   "id": "6b9906d3-2c18-4357-9664-85db2306d15b",
   "metadata": {},
   "outputs": [
    {
     "data": {
      "text/plain": [
       "'ban'"
      ]
     },
     "execution_count": 17,
     "metadata": {},
     "output_type": "execute_result"
    }
   ],
   "source": [
    "# selecting a slice\n",
    "fruit = \"banana\"\n",
    "fruit[0:3]"
   ]
  },
  {
   "cell_type": "code",
   "execution_count": 19,
   "id": "014198d9-1d9a-4b78-a9bf-3fb34ae3edbd",
   "metadata": {},
   "outputs": [
    {
     "data": {
      "text/plain": [
       "'ban'"
      ]
     },
     "execution_count": 19,
     "metadata": {},
     "output_type": "execute_result"
    }
   ],
   "source": [
    "# start the slice at the beginning\n",
    "fruit[:3]"
   ]
  },
  {
   "cell_type": "code",
   "execution_count": 20,
   "id": "67a6143b-86e1-4551-9771-532d2ce19bc7",
   "metadata": {},
   "outputs": [
    {
     "data": {
      "text/plain": [
       "'ana'"
      ]
     },
     "execution_count": 20,
     "metadata": {},
     "output_type": "execute_result"
    }
   ],
   "source": [
    "# slice goes to the end\n",
    "fruit[3:]"
   ]
  },
  {
   "cell_type": "code",
   "execution_count": 21,
   "id": "a77bf5ab-f54c-4439-be66-f9162bf2e3af",
   "metadata": {},
   "outputs": [
    {
     "data": {
      "text/plain": [
       "''"
      ]
     },
     "execution_count": 21,
     "metadata": {},
     "output_type": "execute_result"
    }
   ],
   "source": [
    "# this makes an empty string\n",
    "fruit[3:3]"
   ]
  },
  {
   "cell_type": "code",
   "execution_count": 23,
   "id": "5c892037-ea6a-47f0-b65f-b5b88556c7ba",
   "metadata": {},
   "outputs": [
    {
     "data": {
      "text/plain": [
       "'banana'"
      ]
     },
     "execution_count": 23,
     "metadata": {},
     "output_type": "execute_result"
    }
   ],
   "source": [
    "# no index produces the entire string\n",
    "fruit[:]"
   ]
  },
  {
   "cell_type": "markdown",
   "id": "3014be11-386a-48d2-87c6-515f6a6a012d",
   "metadata": {},
   "source": [
    "## Strings are Immutable"
   ]
  },
  {
   "cell_type": "code",
   "execution_count": 29,
   "id": "afa7a0d2-29a9-4bc6-8167-16de93880db3",
   "metadata": {},
   "outputs": [],
   "source": [
    "greeting = \"Hello, world!\"\n",
    "# greeting[0] = 'J'  # error"
   ]
  },
  {
   "cell_type": "code",
   "execution_count": 30,
   "id": "507fdcaa-f86b-4698-9ce4-6344992f8b0c",
   "metadata": {},
   "outputs": [
    {
     "data": {
      "text/plain": [
       "'Jello, world!'"
      ]
     },
     "execution_count": 30,
     "metadata": {},
     "output_type": "execute_result"
    }
   ],
   "source": [
    "# do this instead\n",
    "new_greeting = 'J' + greeting[1:]\n",
    "new_greeting"
   ]
  },
  {
   "cell_type": "code",
   "execution_count": 32,
   "id": "50cb0956-a68f-4c94-accf-1b5f5a3afcac",
   "metadata": {},
   "outputs": [
    {
     "data": {
      "text/plain": [
       "'Hello, world!'"
      ]
     },
     "execution_count": 32,
     "metadata": {},
     "output_type": "execute_result"
    }
   ],
   "source": [
    "# original string intact\n",
    "greeting"
   ]
  },
  {
   "cell_type": "markdown",
   "id": "36ed2220-9748-409f-954e-5c99b84fffaa",
   "metadata": {},
   "source": [
    "## String Comparison"
   ]
  },
  {
   "cell_type": "code",
   "execution_count": 36,
   "id": "58f16668-08ce-4ba8-8dee-8ecd411bb929",
   "metadata": {},
   "outputs": [
    {
     "name": "stdout",
     "output_type": "stream",
     "text": [
      "All right, banana.\n"
     ]
    }
   ],
   "source": [
    "# relational operator on strings\n",
    "word = \"banana\"\n",
    "\n",
    "if word == \"banana\":\n",
    "    print(\"All right, banana.\")"
   ]
  },
  {
   "cell_type": "code",
   "execution_count": 38,
   "id": "2b6d3fe2-276f-45c1-9ff6-56d33219ed9b",
   "metadata": {},
   "outputs": [
    {
     "name": "stdout",
     "output_type": "stream",
     "text": [
      "apple comes before banana.\n"
     ]
    }
   ],
   "source": [
    "# other relational operators\n",
    "def compare_word(word):\n",
    "    if word < \"banana\":\n",
    "        print(word, \"comes before banana.\")\n",
    "    elif word > \"banana\":\n",
    "        print(word, \"comes after banana.\")\n",
    "    else:\n",
    "        print(\"All right, banana.\")\n",
    "\n",
    "compare_word(\"apple\")"
   ]
  },
  {
   "cell_type": "code",
   "execution_count": 45,
   "id": "2df152b3-633c-41d3-9bf2-1379d2dd1b3c",
   "metadata": {},
   "outputs": [
    {
     "name": "stdout",
     "output_type": "stream",
     "text": [
      "apple comes before banana\n",
      "banana comes after apple\n",
      "All right, banana is banana\n"
     ]
    }
   ],
   "source": [
    "def compare_words(word1, word2):\n",
    "    word1 = word1.lower()\n",
    "    word2 = word2.lower()\n",
    "    if word1 < word2:\n",
    "        print(f\"{word1} comes before {word2}\")\n",
    "    elif word1 > word2:\n",
    "        print(f\"{word1} comes after {word2}\")\n",
    "    else:\n",
    "        print(f\"All right, {word1} is {word2}\")\n",
    "\n",
    "compare_words(\"apple\", \"banana\")\n",
    "compare_words(\"Banana\", \"apple\")\n",
    "compare_words(\"banana\", \"banana\")"
   ]
  },
  {
   "cell_type": "markdown",
   "id": "1289d34a-529c-4821-91fc-706a28544e03",
   "metadata": {},
   "source": [
    "## String Methods"
   ]
  },
  {
   "cell_type": "code",
   "execution_count": 46,
   "id": "58e6c324-c1f0-416a-b9c5-a639d9082685",
   "metadata": {},
   "outputs": [
    {
     "data": {
      "text/plain": [
       "'BANANA'"
      ]
     },
     "execution_count": 46,
     "metadata": {},
     "output_type": "execute_result"
    }
   ],
   "source": [
    "# string methods\n",
    "word = \"banana\"\n",
    "new_word = word.upper()\n",
    "new_word"
   ]
  },
  {
   "cell_type": "markdown",
   "id": "07da6f63-43cf-40f3-b94b-ccca2a23ee9a",
   "metadata": {},
   "source": [
    "## Writing Files"
   ]
  },
  {
   "cell_type": "code",
   "execution_count": 63,
   "id": "70c6ab96-cbb1-437c-a298-61d47f8e8d91",
   "metadata": {},
   "outputs": [],
   "source": [
    "def is_special_line(line):\n",
    "    return line.startswith('*** ')"
   ]
  },
  {
   "cell_type": "code",
   "execution_count": 60,
   "id": "13e1299e-c52f-4183-ba9b-b723cb23184b",
   "metadata": {},
   "outputs": [],
   "source": []
  },
  {
   "cell_type": "code",
   "execution_count": 64,
   "id": "94423437-8a33-46b1-bef2-ffe34e6de737",
   "metadata": {},
   "outputs": [
    {
     "name": "stdout",
     "output_type": "stream",
     "text": [
      "*** START OF THE PROJECT GUTENBERG EBOOK DRACULA ***\n",
      "*** END OF THE PROJECT GUTENBERG EBOOK DRACULA ***\n"
     ]
    }
   ],
   "source": [
    "reader = open(\"pg345.txt\")\n",
    "\n",
    "for line in reader:\n",
    "    if is_special_line(line):\n",
    "        print(line.strip())\n",
    "\n",
    "reader.close()"
   ]
  },
  {
   "cell_type": "code",
   "execution_count": 73,
   "id": "40553e51-4d33-4b46-9d2d-4d049ff98ba8",
   "metadata": {},
   "outputs": [
    {
     "name": "stdout",
     "output_type": "stream",
     "text": [
      "﻿The Project Gutenberg eBook of Dracula\n",
      "\n",
      "    \n",
      "\n",
      "This ebook is for the use of anyone anywhere in the United States and\n",
      "\n",
      "most other parts of the world at no cost and with almost no restrictions\n",
      "\n",
      "whatsoever. You may copy it, give it away or re-use it under the terms\n",
      "\n",
      "of the Project Gutenberg License included with this ebook or online\n",
      "\n",
      "at www.gutenberg.org. If you are not located in the United States,\n",
      "\n",
      "you will have to check the laws of the country where you are located\n",
      "\n",
      "before using this eBook.\n",
      "\n",
      "\n",
      "\n",
      "Title: Dracula\n",
      "\n"
     ]
    }
   ],
   "source": [
    "reader = open(\"pg345.txt\")\n",
    "\n",
    "i = 0\n",
    "for line in reader:\n",
    "    print(line)\n",
    "    if i == 10:\n",
    "        break\n",
    "    i += 1\n",
    "\n",
    "reader.close()"
   ]
  },
  {
   "cell_type": "code",
   "execution_count": null,
   "id": "c800a086-44bd-4af6-a4a2-4a42f0905296",
   "metadata": {},
   "outputs": [],
   "source": []
  },
  {
   "cell_type": "code",
   "execution_count": 81,
   "id": "c596c03e-6ed0-4c1b-8b0d-fe7067a17d90",
   "metadata": {},
   "outputs": [
    {
     "name": "stdout",
     "output_type": "stream",
     "text": [
      "*** START OF THE PROJECT GUTENBERG EBOOK DRACULA ***\n",
      "*** END OF THE PROJECT GUTENBERG EBOOK DRACULA ***\n"
     ]
    }
   ],
   "source": [
    "# reader keeps track of where it is in the file\n",
    "reader = open('pg345.txt')\n",
    "writer = open('pg345)cleaned.txt', 'w')\n",
    "\n",
    "# this first loop takes us up the first first special line\n",
    "for line in reader:\n",
    "    if is_special_line(line):\n",
    "        break\n",
    "\n",
    "# when the loop breaks, line contains the special line\n",
    "print(line.strip())\n",
    "\n",
    "# this second loop continues thru the file to the next special line\n",
    "for line in reader:\n",
    "    if is_special_line(line):\n",
    "        break\n",
    "    # write the body of file to a new file\n",
    "    writer.write(line)\n",
    "\n",
    "print(line.strip())\n",
    "\n",
    "reader.close()\n",
    "writer.close()"
   ]
  },
  {
   "cell_type": "code",
   "execution_count": 84,
   "id": "ce4f4fd7-5240-4952-9bdf-98019a739bbf",
   "metadata": {},
   "outputs": [
    {
     "name": "stdout",
     "output_type": "stream",
     "text": [
      "DRACULA\n",
      "_by_\n",
      "Bram Stoker\n"
     ]
    }
   ],
   "source": [
    "# read the first few lines of the new file\n",
    "for line in open('pg345_cleaned.txt'):\n",
    "    line = line.strip()\n",
    "    # omit blank lines\n",
    "    if len(line) > 0:\n",
    "        print(line)\n",
    "    # set the break condition\n",
    "    if line.endswith('Stoker'):\n",
    "        break "
   ]
  },
  {
   "cell_type": "code",
   "execution_count": 85,
   "id": "8e43135a-890a-45e0-9e26-9c69860d9291",
   "metadata": {},
   "outputs": [
    {
     "name": "stdout",
     "output_type": "stream",
     "text": [
      "DRACULA\n",
      "_by_\n",
      "Bram Stoker\n"
     ]
    }
   ],
   "source": [
    "# use a with statement to automatically close the file\n",
    "with open('pg345_cleaned.txt') as f:\n",
    "    for line in f:\n",
    "        line = line.strip()\n",
    "        # omit blank lines\n",
    "        if len(line) > 0:\n",
    "            print(line)\n",
    "        # set the break condition\n",
    "        if line.endswith('Stoker'):\n",
    "            break"
   ]
  },
  {
   "cell_type": "markdown",
   "id": "5431884a-8515-4fbb-b140-2786e1b92bfb",
   "metadata": {},
   "source": [
    "## Find and Replace"
   ]
  },
  {
   "cell_type": "code",
   "execution_count": 86,
   "id": "07b5ae15-8d9d-420b-a36e-e64cd671447b",
   "metadata": {},
   "outputs": [
    {
     "data": {
      "text/plain": [
       "15477"
      ]
     },
     "execution_count": 86,
     "metadata": {},
     "output_type": "execute_result"
    }
   ],
   "source": [
    "# count the lines in the cleaned version \n",
    "total = 0\n",
    "with open('pg345_cleaned.txt') as f:\n",
    "    for line in f:\n",
    "        total += 1\n",
    "\n",
    "total"
   ]
  },
  {
   "cell_type": "code",
   "execution_count": 88,
   "id": "8320670b-35ed-446e-b0fa-fdd88a5a8ead",
   "metadata": {},
   "outputs": [
    {
     "data": {
      "text/plain": [
       "199"
      ]
     },
     "execution_count": 88,
     "metadata": {},
     "output_type": "execute_result"
    }
   ],
   "source": [
    "total = 0\n",
    "with open('pg345_cleaned.txt') as f:\n",
    "    for line in f:\n",
    "        if 'Jonathan' in line:\n",
    "            total += 1\n",
    "\n",
    "total"
   ]
  },
  {
   "cell_type": "code",
   "execution_count": 90,
   "id": "307b0069-9628-4b43-88d4-7bf3f84255ec",
   "metadata": {},
   "outputs": [
    {
     "data": {
      "text/plain": [
       "200"
      ]
     },
     "execution_count": 90,
     "metadata": {},
     "output_type": "execute_result"
    }
   ],
   "source": [
    "# use the count method to count all instances of a string\n",
    "total = 0\n",
    "with open('pg345_cleaned.txt') as f:\n",
    "    for line in f:\n",
    "        # look for each instance on a line, line by line\n",
    "        total += line.count('Jonathan')\n",
    "\n",
    "total"
   ]
  },
  {
   "cell_type": "code",
   "execution_count": 93,
   "id": "6f93f8b7-d02a-4ed0-8917-8e78e77d2899",
   "metadata": {},
   "outputs": [],
   "source": [
    "# replace a word\n",
    "writer = open('pg345_replaced.txt', 'w')\n",
    "\n",
    "with open('pg345_cleaned.txt') as f:\n",
    "    for line in f:\n",
    "        line = line.replace('Jonathon', 'Thomas')\n",
    "        writer.write(line)\n",
    "\n",
    "writer.close()"
   ]
  },
  {
   "cell_type": "code",
   "execution_count": 95,
   "id": "19f616d8-3ba2-4b40-a3ca-dab7ffdd7fc5",
   "metadata": {},
   "outputs": [],
   "source": [
    "# rewritten to open multiple files with a single with statement\n",
    "with open('pg345_cleaned.txt') as reader, open('pg345_replaced.txt', 'w') as writer:\n",
    "    for line in reader:\n",
    "        line = line.replace('Jonathon', 'Thomas')\n",
    "        writer.write(line)"
   ]
  },
  {
   "cell_type": "markdown",
   "id": "a22f43f2-3f73-45bf-9caa-6ef5e2eb69d9",
   "metadata": {},
   "source": [
    "## Regular Expressions"
   ]
  },
  {
   "cell_type": "code",
   "execution_count": 96,
   "id": "98581740-e683-43b8-a80b-3a8e3d40018b",
   "metadata": {},
   "outputs": [
    {
     "data": {
      "text/plain": [
       "<re.Match object; span=(5, 12), match='Dracula'>"
      ]
     },
     "execution_count": 96,
     "metadata": {},
     "output_type": "execute_result"
    }
   ],
   "source": [
    "import re\n",
    "\n",
    "text = \"I am Dracula; and I bid you welcome, Mr. Harker, to my house.\"\n",
    "pattern = 'Dracula'\n",
    "\n",
    "result = re.search(pattern, text)\n",
    "\n",
    "result"
   ]
  },
  {
   "cell_type": "code",
   "execution_count": 101,
   "id": "78286a34-f089-4a96-9a92-1d711110dcf9",
   "metadata": {},
   "outputs": [
    {
     "name": "stdout",
     "output_type": "stream",
     "text": [
      "I am Dracula; and I bid you welcome, Mr. Harker, to my house.\n",
      "Dracula\n",
      "(5, 12)\n"
     ]
    }
   ],
   "source": [
    "print(result.string)\n",
    "\n",
    "# return the part of the string that matched\n",
    "print(result.group())\n",
    "print(result.span())"
   ]
  },
  {
   "cell_type": "code",
   "execution_count": 105,
   "id": "5b6cc108-754c-4c52-8817-ec3d6f5820bc",
   "metadata": {},
   "outputs": [
    {
     "data": {
      "text/plain": [
       "True"
      ]
     },
     "execution_count": 105,
     "metadata": {},
     "output_type": "execute_result"
    }
   ],
   "source": [
    "# when no match found\n",
    "result = re.search('Count', text)\n",
    "result == None"
   ]
  },
  {
   "cell_type": "code",
   "execution_count": 108,
   "id": "c96e1567-132a-4d7e-8aac-799f7c456544",
   "metadata": {},
   "outputs": [
    {
     "data": {
      "text/plain": [
       "'CHAPTER I. Jonathan Harker’s Journal\\n'"
      ]
     },
     "execution_count": 108,
     "metadata": {},
     "output_type": "execute_result"
    }
   ],
   "source": [
    "# putting it all together\n",
    "import re \n",
    "\n",
    "def find_first_in_file(file, pattern):\n",
    "    with open(file) as f:\n",
    "        for line in f:\n",
    "            result = re.search(pattern, line)\n",
    "            # looking for the first match\n",
    "            if result != None:\n",
    "                return result\n",
    "\n",
    "file = 'pg345_cleaned.txt' \n",
    "pattern = 'Harker'\n",
    "result = find_first_in_file(file, pattern)\n",
    "result.string"
   ]
  },
  {
   "cell_type": "code",
   "execution_count": 113,
   "id": "73fa2249-6dc3-49af-b218-170f5823ff0e",
   "metadata": {},
   "outputs": [
    {
     "data": {
      "text/plain": [
       "'CHAPTER V. Letters—Lucy and Mina\\n'"
      ]
     },
     "execution_count": 113,
     "metadata": {},
     "output_type": "execute_result"
    }
   ],
   "source": [
    "# OR\n",
    "pattern = r'Mina|Murray'\n",
    "result = find_first_in_file(file, pattern)\n",
    "result.string"
   ]
  },
  {
   "cell_type": "code",
   "execution_count": 117,
   "id": "0d62fead-c15d-43f0-b1d4-be8cc41c8e9e",
   "metadata": {},
   "outputs": [
    {
     "data": {
      "text/plain": [
       "229"
      ]
     },
     "execution_count": 117,
     "metadata": {},
     "output_type": "execute_result"
    }
   ],
   "source": [
    "# count the number of lines that match the pattern\n",
    "def count_matches(file, pattern):\n",
    "    count = 0\n",
    "    with open(file) as f:\n",
    "        for line in f:\n",
    "            result = re.search(pattern, line)\n",
    "            if result != None:\n",
    "                count += 1\n",
    "    return count\n",
    "\n",
    "count_matches(file, pattern)"
   ]
  },
  {
   "cell_type": "code",
   "execution_count": 119,
   "id": "1ffbfb7d-12df-45c2-aaa3-78961782c6ee",
   "metadata": {},
   "outputs": [
    {
     "data": {
      "text/plain": [
       "'Dracula, jumping to his feet, said:--\\n'"
      ]
     },
     "execution_count": 119,
     "metadata": {},
     "output_type": "execute_result"
    }
   ],
   "source": [
    "# find a pattern at the beginning of string\n",
    "pattern = '^Dracula'\n",
    "result = find_first_in_file(file, pattern)\n",
    "result.string"
   ]
  },
  {
   "cell_type": "code",
   "execution_count": 124,
   "id": "7c3e29b7-900a-47bf-b909-cbb481e91e24",
   "metadata": {},
   "outputs": [
    {
     "data": {
      "text/plain": [
       "'by five o’clock, we must start off; for it won’t do to leave Mrs. Harker\\n'"
      ]
     },
     "execution_count": 124,
     "metadata": {},
     "output_type": "execute_result"
    }
   ],
   "source": [
    "# find a patter at the end of a string\n",
    "pattern = 'Harker$'\n",
    "result = find_first_in_file(file, pattern)\n",
    "result.string"
   ]
  },
  {
   "cell_type": "markdown",
   "id": "ff801136-9550-43a9-8630-441f746fed6d",
   "metadata": {},
   "source": [
    "## String Substitution"
   ]
  },
  {
   "cell_type": "markdown",
   "id": "28fc0b9c-2221-4d00-bc4c-16b772db3dfd",
   "metadata": {},
   "source": [
    "## String Substitution"
   ]
  },
  {
   "cell_type": "code",
   "execution_count": null,
   "id": "a3b4893e-d99f-4055-b5c6-36e67f325ab9",
   "metadata": {},
   "outputs": [],
   "source": [
    "# hello\n"
   ]
  },
  {
   "cell_type": "markdown",
   "id": "022bdd1b-e468-41a2-b428-66f862460d00",
   "metadata": {},
   "source": [
    "# ehll"
   ]
  },
  {
   "cell_type": "code",
   "execution_count": null,
   "id": "e9933246-f62e-42ab-aeb0-8d6507f7184a",
   "metadata": {},
   "outputs": [],
   "source": [
    "dkdd "
   ]
  },
  {
   "cell_type": "markdown",
   "id": "b865c21d-d696-46ba-a4e1-4bf3b898d785",
   "metadata": {},
   "source": [
    "## EXERCISES"
   ]
  },
  {
   "cell_type": "code",
   "execution_count": null,
   "id": "b4d642f8-b8ed-4285-94e5-551f83789e56",
   "metadata": {},
   "outputs": [],
   "source": [
    "# LOST WORK. Markdown cells disappearing. File not saving, losing work on a reload. \n",
    "# GPT 4.1 doesn't know what I'm talking about.  "
   ]
  }
 ],
 "metadata": {
  "kernelspec": {
   "display_name": "Python 3 (ipykernel)",
   "language": "python",
   "name": "python3"
  },
  "language_info": {
   "codemirror_mode": {
    "name": "ipython",
    "version": 3
   },
   "file_extension": ".py",
   "mimetype": "text/x-python",
   "name": "python",
   "nbconvert_exporter": "python",
   "pygments_lexer": "ipython3",
   "version": "3.13.7"
  }
 },
 "nbformat": 4,
 "nbformat_minor": 5
}
