{
 "cells": [
  {
   "cell_type": "markdown",
   "id": "83957e26-9ae7-4a1c-84db-b807a4b4193e",
   "metadata": {},
   "source": [
    "# Think Python. How to Think LIke a Computer Scientist 3e. Downey. 2014"
   ]
  },
  {
   "cell_type": "markdown",
   "id": "d7eb552d-c40a-40a1-b878-2ed7600d0766",
   "metadata": {},
   "source": [
    "### Links:\n",
    "\n",
    "- [Website](https://allendowney.github.io/ThinkPython/) Runs of Colab.\n",
    "- Get the token to run in a different browser\n",
    "  - `jupyter notebook list`"
   ]
  },
  {
   "cell_type": "markdown",
   "id": "d58cfdba-037f-44ee-b1bb-8cc422e414dc",
   "metadata": {
    "jp-MarkdownHeadingCollapsed": true
   },
   "source": [
    "## 5. Iteration and Search"
   ]
  },
  {
   "cell_type": "markdown",
   "id": "c5782144-2969-4e6d-90c8-fca53f8e4a9d",
   "metadata": {},
   "source": [
    "### EXAMPLES"
   ]
  },
  {
   "cell_type": "markdown",
   "id": "d62d4b82-781f-482c-9c35-27375ff148a6",
   "metadata": {
    "jp-MarkdownHeadingCollapsed": true
   },
   "source": [
    "#### Interger Division and Modulus"
   ]
  },
  {
   "cell_type": "code",
   "execution_count": 25,
   "id": "1093d4d3-4bc6-4d10-98cc-e1196cc8fcb6",
   "metadata": {},
   "outputs": [
    {
     "name": "stdout",
     "output_type": "stream",
     "text": [
      "1:45\n"
     ]
    }
   ],
   "source": [
    "minutes = 105\n",
    "hours = minutes // 60\n",
    "minutes = 105 % 60\n",
    "print(f\"{hours}:{minutes}\")"
   ]
  },
  {
   "cell_type": "code",
   "execution_count": 21,
   "id": "c7749171-df93-4aa2-a8d8-2165706a08e1",
   "metadata": {},
   "outputs": [
    {
     "name": "stdout",
     "output_type": "stream",
     "text": [
      "2\n"
     ]
    }
   ],
   "source": [
    "# an event starts at 11am and lasts 3 hours\n",
    "start = 11\n",
    "duration = 3\n",
    "end = (start + duration) % 12\n",
    "print(end)"
   ]
  },
  {
   "cell_type": "code",
   "execution_count": 31,
   "id": "28523f63-b598-4c1f-93bc-ca3cf8dfe0b4",
   "metadata": {},
   "outputs": [
    {
     "data": {
      "text/plain": [
       "(2, 5)"
      ]
     },
     "execution_count": 31,
     "metadata": {},
     "output_type": "execute_result"
    }
   ],
   "source": [
    "a = 25 // 10\n",
    "b = 25 % 10\n",
    "a, b"
   ]
  },
  {
   "cell_type": "markdown",
   "id": "1283a6fa-f0c7-4489-9c5e-ed48a64a4606",
   "metadata": {
    "jp-MarkdownHeadingCollapsed": true
   },
   "source": [
    "#### Boolean Expressions"
   ]
  },
  {
   "cell_type": "code",
   "execution_count": 36,
   "id": "eb849a78-ba84-446c-8a0d-63fbac9aa96d",
   "metadata": {},
   "outputs": [
    {
     "data": {
      "text/plain": [
       "True"
      ]
     },
     "execution_count": 36,
     "metadata": {},
     "output_type": "execute_result"
    }
   ],
   "source": [
    "5 == 5"
   ]
  },
  {
   "cell_type": "code",
   "execution_count": 40,
   "id": "3f983f99-2ff6-487c-bd07-bfad6cc16103",
   "metadata": {},
   "outputs": [
    {
     "data": {
      "text/plain": [
       "False"
      ]
     },
     "execution_count": 40,
     "metadata": {},
     "output_type": "execute_result"
    }
   ],
   "source": [
    "5 == 7"
   ]
  },
  {
   "cell_type": "code",
   "execution_count": 44,
   "id": "e8b16a24-52a7-4a0d-b0d2-f79ed23b4809",
   "metadata": {},
   "outputs": [
    {
     "data": {
      "text/plain": [
       "bool"
      ]
     },
     "execution_count": 44,
     "metadata": {},
     "output_type": "execute_result"
    }
   ],
   "source": [
    "type(True)"
   ]
  },
  {
   "cell_type": "code",
   "execution_count": 48,
   "id": "cd8fdd07-68b1-4b4d-9521-0737c529e5a5",
   "metadata": {},
   "outputs": [
    {
     "data": {
      "text/plain": [
       "bool"
      ]
     },
     "execution_count": 48,
     "metadata": {},
     "output_type": "execute_result"
    }
   ],
   "source": [
    "type(False)"
   ]
  },
  {
   "cell_type": "code",
   "execution_count": 60,
   "id": "3371b12c-dfc9-41c7-9f10-8ad312c4b307",
   "metadata": {},
   "outputs": [
    {
     "data": {
      "text/plain": [
       "True"
      ]
     },
     "execution_count": 60,
     "metadata": {},
     "output_type": "execute_result"
    }
   ],
   "source": [
    "x = 10\n",
    "x % 2 == 0 or x % 3 == 0"
   ]
  },
  {
   "cell_type": "code",
   "execution_count": 66,
   "id": "5bc83ea6-92c8-419b-8ad6-f8730f21601a",
   "metadata": {},
   "outputs": [
    {
     "data": {
      "text/plain": [
       "False"
      ]
     },
     "execution_count": 66,
     "metadata": {},
     "output_type": "execute_result"
    }
   ],
   "source": [
    "not True"
   ]
  },
  {
   "cell_type": "markdown",
   "id": "6b31eb7c-15cd-43b8-ab62-c640f0657699",
   "metadata": {
    "jp-MarkdownHeadingCollapsed": true
   },
   "source": [
    "#### `if` Statements"
   ]
  },
  {
   "cell_type": "code",
   "execution_count": 72,
   "id": "66a599d2-0b4e-474e-be61-68fce4e153b6",
   "metadata": {},
   "outputs": [
    {
     "name": "stdout",
     "output_type": "stream",
     "text": [
      "x is positive\n"
     ]
    }
   ],
   "source": [
    "x = 1\n",
    "if x > 0:\n",
    "    print('x is positive')"
   ]
  },
  {
   "cell_type": "code",
   "execution_count": 82,
   "id": "8c5c5b59-0511-465f-8e09-0e232f8a9bb3",
   "metadata": {},
   "outputs": [],
   "source": [
    "if x < 0:\n",
    "    pass     # TODO: something to do later"
   ]
  },
  {
   "cell_type": "markdown",
   "id": "4642ad8c-29ff-4e0f-9547-35e2a14e3254",
   "metadata": {},
   "source": [
    "#### The `else` Clause"
   ]
  },
  {
   "cell_type": "code",
   "execution_count": 85,
   "id": "f559756e-4f7a-4328-9c7e-e8b48fa12e72",
   "metadata": {},
   "outputs": [
    {
     "name": "stdout",
     "output_type": "stream",
     "text": [
      "x is odd\n"
     ]
    }
   ],
   "source": [
    "if x % 2 == 0:\n",
    "    print('x is even')\n",
    "else:\n",
    "    print('x is odd')"
   ]
  },
  {
   "cell_type": "markdown",
   "id": "1aa4855f-974a-4095-91cc-3fc46d11978f",
   "metadata": {},
   "source": [
    "#### Chained Conditionals"
   ]
  },
  {
   "cell_type": "code",
   "execution_count": 93,
   "id": "c1a23daa-57ba-44fb-8470-be1365ffcf18",
   "metadata": {},
   "outputs": [
    {
     "name": "stdout",
     "output_type": "stream",
     "text": [
      "x is less than y\n"
     ]
    }
   ],
   "source": [
    "x = 1\n",
    "y = 2\n",
    "if x < y:\n",
    "    print('x is less than y')\n",
    "elif x > y:\n",
    "    print('x is greater then y')\n",
    "else:\n",
    "    print('x and y are equal')"
   ]
  },
  {
   "cell_type": "markdown",
   "id": "549de652-e702-4872-845c-651ae68441d5",
   "metadata": {
    "jp-MarkdownHeadingCollapsed": true
   },
   "source": [
    "#### Nested Conditionals"
   ]
  },
  {
   "cell_type": "code",
   "execution_count": 101,
   "id": "cf4a0329-9e5a-4c51-8579-598db398079c",
   "metadata": {},
   "outputs": [
    {
     "name": "stdout",
     "output_type": "stream",
     "text": [
      "x is less than y\n"
     ]
    }
   ],
   "source": [
    "if x == y:\n",
    "    print('x and y are equal')\n",
    "else:\n",
    "    if x < y:\n",
    "        print('x is less than y')\n",
    "    else:\n",
    "        print('x is greater than y')"
   ]
  },
  {
   "cell_type": "code",
   "execution_count": 105,
   "id": "8d7583ac-44c3-49e6-a34d-7263d0da7077",
   "metadata": {},
   "outputs": [
    {
     "name": "stdout",
     "output_type": "stream",
     "text": [
      "x is a positive single-digit number.\n"
     ]
    }
   ],
   "source": [
    "if 0 < x:\n",
    "    if x < 10:\n",
    "        print('x is a positive single-digit number.')"
   ]
  },
  {
   "cell_type": "code",
   "execution_count": 109,
   "id": "472639c1-6d3c-419a-9fee-d6d491b751d4",
   "metadata": {},
   "outputs": [
    {
     "name": "stdout",
     "output_type": "stream",
     "text": [
      "x is a postive single-digit number.\n"
     ]
    }
   ],
   "source": [
    "if 0 < x and x < 10:\n",
    "    print('x is a postive single-digit number.')"
   ]
  },
  {
   "cell_type": "markdown",
   "id": "694edc0f-9bcf-4ea8-aa22-75d3280c3d01",
   "metadata": {},
   "source": [
    "#### Recursion"
   ]
  },
  {
   "cell_type": "code",
   "execution_count": 119,
   "id": "3482fb75-5835-4f4b-967f-22a62059c0b9",
   "metadata": {},
   "outputs": [],
   "source": [
    "def countdown(n):\n",
    "    if n <= 0:  # the base case - down not make a recursive call\n",
    "        print('Blastoff!')\n",
    "    else:\n",
    "        print(n)\n",
    "        countdown(n-1)"
   ]
  },
  {
   "cell_type": "code",
   "execution_count": 117,
   "id": "72a851e7-f40a-4e40-bad6-359905952864",
   "metadata": {},
   "outputs": [
    {
     "name": "stdout",
     "output_type": "stream",
     "text": [
      "3\n",
      "2\n",
      "1\n",
      "Blastoff!\n"
     ]
    }
   ],
   "source": [
    "countdown(3)"
   ]
  },
  {
   "cell_type": "code",
   "execution_count": 123,
   "id": "8de83b60-cf17-40f9-8d30-cd8073c15173",
   "metadata": {},
   "outputs": [],
   "source": [
    "def print_n_times(string, n):\n",
    "    if n > 0:\n",
    "        print(string)\n",
    "        print_n_times(string, n-1)"
   ]
  },
  {
   "cell_type": "code",
   "execution_count": 127,
   "id": "c7806988-29db-4061-a9d1-b70a177e14b0",
   "metadata": {},
   "outputs": [
    {
     "name": "stdout",
     "output_type": "stream",
     "text": [
      "Spam\n",
      "Spam\n",
      "Spam\n",
      "Spam\n"
     ]
    }
   ],
   "source": [
    "print_n_times('Spam', 4)"
   ]
  },
  {
   "cell_type": "markdown",
   "id": "6d098362-9dfd-403f-a842-8d0c5de08e7f",
   "metadata": {},
   "source": [
    "#### Keyboard Input"
   ]
  },
  {
   "cell_type": "code",
   "execution_count": 141,
   "id": "3411c4a6-ed1e-4788-acae-cb688b40ad1e",
   "metadata": {},
   "outputs": [
    {
     "name": "stdin",
     "output_type": "stream",
     "text": [
      "What is your name?\n",
      " dgf\n"
     ]
    }
   ],
   "source": [
    "name = input(\"What is your name?\\n\")"
   ]
  },
  {
   "cell_type": "markdown",
   "id": "523b5da4-f778-4164-8acf-f07f9d263db5",
   "metadata": {},
   "source": [
    "### EXERCISES"
   ]
  },
  {
   "cell_type": "code",
   "execution_count": 165,
   "id": "8a908939-f784-4318-b032-9c00b7fa254c",
   "metadata": {},
   "outputs": [
    {
     "data": {
      "text/plain": [
       "20008.399928454466"
      ]
     },
     "execution_count": 165,
     "metadata": {},
     "output_type": "execute_result"
    }
   ],
   "source": [
    "from time import time\n",
    "\n",
    "now = time()\n",
    "minutes = now / 60\n",
    "hours = minutes / 60 \n",
    "days = hours / 24\n",
    "days"
   ]
  },
  {
   "cell_type": "code",
   "execution_count": 170,
   "id": "c0bdcbc9-a496-417e-9f12-bd5f465ef297",
   "metadata": {},
   "outputs": [
    {
     "name": "stdout",
     "output_type": "stream",
     "text": [
      "Days since January 1, 1970: 20008\n",
      "Current time of day: 18 hours, 25 minutes, 20 seconds\n"
     ]
    }
   ],
   "source": [
    "import datetime\n",
    "\n",
    "# Get the current date and time\n",
    "now = datetime.datetime.now()\n",
    "\n",
    "# Define the epoch start date\n",
    "epoch = datetime.datetime(1970, 1, 1)\n",
    "\n",
    "# Calculate the total number of seconds since the epoch\n",
    "total_seconds = int((now - epoch).total_seconds())\n",
    "\n",
    "# Calculate the number of days\n",
    "days = total_seconds // (24 * 3600)\n",
    "\n",
    "# Calculate the remaining seconds after extracting days\n",
    "remaining_seconds = total_seconds % (24 * 3600)\n",
    "\n",
    "# Calculate hours, minutes, and seconds from the remaining seconds\n",
    "hours = remaining_seconds // 3600\n",
    "remaining_seconds %= 3600\n",
    "minutes = remaining_seconds // 60\n",
    "seconds = remaining_seconds % 60\n",
    "\n",
    "# Output the results\n",
    "print(f\"Days since January 1, 1970: {days}\")\n",
    "print(f\"Current time of day: {hours} hours, {minutes} minutes, {seconds} seconds\")"
   ]
  },
  {
   "cell_type": "code",
   "execution_count": 188,
   "id": "41d6cfd1-7038-43e2-bb86-fcd240dd7135",
   "metadata": {},
   "outputs": [
    {
     "name": "stdout",
     "output_type": "stream",
     "text": [
      "Days since January 1, 1970: 20008\n",
      "Current time of day: 10 hours, 34 minutes, 46 seconds\n"
     ]
    }
   ],
   "source": [
    "from time import time\n",
    "\n",
    "now = time()\n",
    "\n",
    "# Calculate the number of days\n",
    "total_seconds = now\n",
    "days = total_seconds // (24 * 60 * 60)\n",
    "# print(f\"{int(days)} days since the epoch\")\n",
    "\n",
    "# Seconds remaining after extracting days\n",
    "remaining_seconds = total_seconds % (24 * 60 * 60)\n",
    "\n",
    "# Calculate hours minutes and seconds\n",
    "hours = remaining_seconds // 3600\n",
    "remaining_seconds %= 3600\n",
    "minutes = remaining_seconds // 60\n",
    "seconds = remaining_seconds % 60\n",
    "\n",
    "print(f\"Days since January 1, 1970: {int(days)}\")\n",
    "print(f\"Current time of day: {int(hours)} hours, {int(minutes)} minutes, {int(seconds)} seconds\")\n"
   ]
  },
  {
   "cell_type": "code",
   "execution_count": 202,
   "id": "5e129a3c-2e8c-4fa5-abcf-8571ef6069ca",
   "metadata": {},
   "outputs": [
    {
     "name": "stdout",
     "output_type": "stream",
     "text": [
      "Yes\n",
      "No\n"
     ]
    }
   ],
   "source": [
    "# (a + b > c)\n",
    "# (a + c > b)\n",
    "# (b + c > a)\n",
    "\n",
    "def is_triangle(a, b, c):\n",
    "    if a + b > c:\n",
    "        if a + c > b:\n",
    "            if b + c > a:\n",
    "                print(\"Yes\")\n",
    "    else:\n",
    "        print(\"No\")\n",
    "\n",
    "is_triangle(3, 4, 5)\n",
    "is_triangle(3, 4, 20)"
   ]
  },
  {
   "cell_type": "code",
   "execution_count": 26,
   "id": "af2251d6-26eb-482b-960f-2525cd076bb0",
   "metadata": {},
   "outputs": [
    {
     "name": "stdout",
     "output_type": "stream",
     "text": [
      "0\n",
      "3\n",
      "5\n",
      "6\n"
     ]
    }
   ],
   "source": [
    "def recurse(n, s):\n",
    "    if n == 0:\n",
    "        print(s)\n",
    "    else:\n",
    "        print(s)                                                  \n",
    "        recurse(n-1, n+s)\n",
    "        \n",
    "recurse(3, 0)"
   ]
  },
  {
   "cell_type": "markdown",
   "id": "34e580cc-fc7a-4430-8ffa-b6aa221af388",
   "metadata": {
    "jp-MarkdownHeadingCollapsed": true
   },
   "source": [
    "## 6. Return Values"
   ]
  },
  {
   "cell_type": "markdown",
   "id": "45de586a-a842-42a8-98d4-cb2dd978287c",
   "metadata": {},
   "source": [
    "#### Some Functions Have Return Values"
   ]
  },
  {
   "cell_type": "code",
   "execution_count": 11,
   "id": "9e70c482-d09c-4d97-85eb-b8878548d6b5",
   "metadata": {},
   "outputs": [
    {
     "data": {
      "text/plain": [
       "3.656366395715726"
      ]
     },
     "execution_count": 11,
     "metadata": {},
     "output_type": "execute_result"
    }
   ],
   "source": [
    "import math\n",
    "\n",
    "radius = math.sqrt(42 / math.pi)\n",
    "radius"
   ]
  },
  {
   "cell_type": "markdown",
   "id": "f1f006f1-ad97-45c0-ba88-7c0aa0daba7f",
   "metadata": {},
   "source": [
    "#### And Some Have None"
   ]
  },
  {
   "cell_type": "code",
   "execution_count": 22,
   "id": "bd200508-4e5e-4ec1-a73d-b7368c40136d",
   "metadata": {},
   "outputs": [
    {
     "name": "stdout",
     "output_type": "stream",
     "text": [
      "Teapot, Teapot, Teapot, \n"
     ]
    }
   ],
   "source": [
    "def repeat(word, n):\n",
    "    print(word * n)\n",
    "repeat('Teapot, ', 3)"
   ]
  },
  {
   "cell_type": "code",
   "execution_count": 26,
   "id": "125ef3d9-df38-422b-83c6-c52594ca38d4",
   "metadata": {},
   "outputs": [
    {
     "name": "stdout",
     "output_type": "stream",
     "text": [
      "Finland, Finland, Finland, \n",
      "None\n"
     ]
    }
   ],
   "source": [
    "result = repeat('Finland, ', 3)\n",
    "print(result)"
   ]
  },
  {
   "cell_type": "code",
   "execution_count": 32,
   "id": "46eb2529-4711-44c5-9468-471ac8dacf7c",
   "metadata": {},
   "outputs": [
    {
     "data": {
      "text/plain": [
       "'Spam, Spam, Spam, Spam, '"
      ]
     },
     "execution_count": 32,
     "metadata": {},
     "output_type": "execute_result"
    }
   ],
   "source": [
    "def repeat_string(word, n):\n",
    "    return word * n\n",
    "\n",
    "line = repeat_string('Spam, ', 4)\n",
    "line"
   ]
  },
  {
   "cell_type": "markdown",
   "id": "dd3caf7c-aa27-4dfc-8587-19dad4fc298e",
   "metadata": {},
   "source": [
    "#### Incremental Development"
   ]
  },
  {
   "cell_type": "code",
   "execution_count": 78,
   "id": "370103db-2d82-412f-a510-9f491bdbbe26",
   "metadata": {},
   "outputs": [],
   "source": [
    "def distance(x1, y1, x2, y2):\n",
    "    dx = x2 - x1\n",
    "    dy = y2 - y1\n",
    "    dsquared = dx**2 + dy**2\n",
    "    result = math.sqrt(dsquared)\n",
    "    return result"
   ]
  },
  {
   "cell_type": "code",
   "execution_count": 80,
   "id": "685faaf1-80df-42eb-be9d-3671178bbd0e",
   "metadata": {},
   "outputs": [
    {
     "data": {
      "text/plain": [
       "5.0"
      ]
     },
     "execution_count": 80,
     "metadata": {},
     "output_type": "execute_result"
    }
   ],
   "source": [
    "# Test\n",
    "distance(1, 2, 4, 6)"
   ]
  },
  {
   "cell_type": "markdown",
   "id": "50859e71-a7fa-4ee8-b961-10d4f628dfbd",
   "metadata": {},
   "source": [
    "#### Boolean Functions"
   ]
  },
  {
   "cell_type": "code",
   "execution_count": 89,
   "id": "1ce9490f-ca5f-46f9-9393-cf30d88a592f",
   "metadata": {},
   "outputs": [
    {
     "data": {
      "text/plain": [
       "True"
      ]
     },
     "execution_count": 89,
     "metadata": {},
     "output_type": "execute_result"
    }
   ],
   "source": [
    "def is_divisible(x, y):\n",
    "    return x % y == 0\n",
    "\n",
    "is_divisible(6, 3)"
   ]
  },
  {
   "cell_type": "markdown",
   "id": "3f024b6d-204d-424e-969d-886da29ce82e",
   "metadata": {},
   "source": [
    "#### Recursion with Return Values"
   ]
  },
  {
   "cell_type": "code",
   "execution_count": 112,
   "id": "d04bb0e5-1431-45e7-918d-d06406927dd5",
   "metadata": {},
   "outputs": [],
   "source": [
    "def factorial(n):\n",
    "    if n == 0:\n",
    "        return 1\n",
    "    else:\n",
    "        recurse = factorial(n-1)\n",
    "        return n * recurse"
   ]
  },
  {
   "cell_type": "code",
   "execution_count": 110,
   "id": "89a37278-d76e-429f-a232-c0bf793804c0",
   "metadata": {},
   "outputs": [
    {
     "data": {
      "text/plain": [
       "24"
      ]
     },
     "execution_count": 110,
     "metadata": {},
     "output_type": "execute_result"
    }
   ],
   "source": [
    "factorial(4)"
   ]
  },
  {
   "cell_type": "markdown",
   "id": "73e7d8de-0e7b-4727-b7e6-131cfe04808e",
   "metadata": {},
   "source": [
    "#### Fibonacci"
   ]
  },
  {
   "cell_type": "code",
   "execution_count": 118,
   "id": "55a5bcb0-5643-4c7f-9775-c441a51f5ffa",
   "metadata": {},
   "outputs": [],
   "source": [
    "def fibonacci(n):\n",
    "    if n == 0:\n",
    "        return 0\n",
    "    elif n == 1:\n",
    "        return 1\n",
    "    else:\n",
    "        return fibonacci(n-1) + fibonacci(n-2)"
   ]
  },
  {
   "cell_type": "code",
   "execution_count": 140,
   "id": "7912285f-3b1d-43e3-8476-a7bd54d09162",
   "metadata": {},
   "outputs": [
    {
     "data": {
      "text/plain": [
       "3"
      ]
     },
     "execution_count": 140,
     "metadata": {},
     "output_type": "execute_result"
    }
   ],
   "source": [
    "fibonacci(4)"
   ]
  },
  {
   "cell_type": "markdown",
   "id": "d42b4de2-488a-4153-9638-7c7a176032d3",
   "metadata": {},
   "source": [
    "#### Checking Types (Input Validation)"
   ]
  },
  {
   "cell_type": "code",
   "execution_count": 146,
   "id": "b19b8f4c-f5cc-4a29-8536-52cb7eadf304",
   "metadata": {},
   "outputs": [],
   "source": [
    "def factorial(n):\n",
    "    if not isinstance(n, int):\n",
    "        print('factorial is only defined for integers.')\n",
    "        return None\n",
    "    elif n < 0:\n",
    "        print('factorial is not defined for negative numbers.')\n",
    "        return None\n",
    "    elif n == 0:\n",
    "        return 1\n",
    "    else:\n",
    "        return n * factorial(n-1)"
   ]
  },
  {
   "cell_type": "code",
   "execution_count": 150,
   "id": "9cc6fafc-cf3d-41b9-b4bf-55a9fb6ece43",
   "metadata": {},
   "outputs": [
    {
     "name": "stdout",
     "output_type": "stream",
     "text": [
      "factorial is only defined for integers.\n"
     ]
    }
   ],
   "source": [
    "factorial('crunchy dog')"
   ]
  },
  {
   "cell_type": "code",
   "execution_count": 155,
   "id": "15eea9c0-5758-4071-8051-b65e024567dd",
   "metadata": {},
   "outputs": [
    {
     "name": "stdout",
     "output_type": "stream",
     "text": [
      "factorial is not defined for negative numbers.\n"
     ]
    }
   ],
   "source": [
    "factorial(-2)"
   ]
  },
  {
   "cell_type": "markdown",
   "id": "ed145329-5f9b-4448-92d3-9a84f1ac166d",
   "metadata": {},
   "source": [
    "#### Debugging"
   ]
  },
  {
   "cell_type": "code",
   "execution_count": 164,
   "id": "8b8031b7-712f-4960-8b0a-8f8f6981b97a",
   "metadata": {},
   "outputs": [],
   "source": [
    "def factorial(n):\n",
    "    space = ' ' * (4 * n)\n",
    "    print(space, 'factorial', n)\n",
    "    if n == 0:\n",
    "        print(space, 'returning 1')\n",
    "        return 1\n",
    "    else:\n",
    "        recurse = factorial(n-1)\n",
    "        result = n * recurse\n",
    "        print(space, 'returning', result)\n",
    "        return result"
   ]
  },
  {
   "cell_type": "code",
   "execution_count": 162,
   "id": "b5c9bb60-9817-4fc7-af3f-9e615f97e46a",
   "metadata": {},
   "outputs": [
    {
     "name": "stdout",
     "output_type": "stream",
     "text": [
      "             factorial 3\n",
      "         factorial 2\n",
      "     factorial 1\n",
      " factorial 0\n",
      " returning 1\n",
      "     returning 1\n",
      "         returning 2\n",
      "             returning 6\n"
     ]
    },
    {
     "data": {
      "text/plain": [
       "6"
      ]
     },
     "execution_count": 162,
     "metadata": {},
     "output_type": "execute_result"
    }
   ],
   "source": [
    "factorial(3)"
   ]
  },
  {
   "cell_type": "markdown",
   "id": "dd1eef77-417a-4fa1-9b9d-cc47b3388f66",
   "metadata": {},
   "source": [
    "### EXERCISES"
   ]
  },
  {
   "cell_type": "code",
   "execution_count": 174,
   "id": "f8432e8a-8188-4352-8342-b988e722e20c",
   "metadata": {},
   "outputs": [],
   "source": [
    "def hypot(x, y):\n",
    "    x_squared = x * x\n",
    "    y_squared = y * y\n",
    "    root = math.sqrt(x_squared + y_squared)\n",
    "    return root\n"
   ]
  },
  {
   "cell_type": "code",
   "execution_count": 180,
   "id": "86fea620-9034-4ca3-a8d2-c91cf1e40d5d",
   "metadata": {},
   "outputs": [
    {
     "data": {
      "text/plain": [
       "5.0"
      ]
     },
     "execution_count": 180,
     "metadata": {},
     "output_type": "execute_result"
    }
   ],
   "source": [
    "hypot(3, 4)"
   ]
  },
  {
   "cell_type": "code",
   "execution_count": 200,
   "id": "b4774a50-4715-4b87-b5df-18eb0d6ea011",
   "metadata": {},
   "outputs": [],
   "source": [
    "def is_between(x, y, z):\n",
    "    if x < y < z or z < y < x:\n",
    "        return True\n",
    "    else:\n",
    "        return False"
   ]
  },
  {
   "cell_type": "code",
   "execution_count": 196,
   "id": "47664a22-b9bf-4752-941c-7660c1388d17",
   "metadata": {},
   "outputs": [
    {
     "data": {
      "text/plain": [
       "False"
      ]
     },
     "execution_count": 196,
     "metadata": {},
     "output_type": "execute_result"
    }
   ],
   "source": [
    "is_between(3,2,2)"
   ]
  },
  {
   "cell_type": "code",
   "execution_count": 208,
   "id": "7f7b0aba-60e2-4205-9455-f35b69486c1c",
   "metadata": {},
   "outputs": [
    {
     "name": "stdout",
     "output_type": "stream",
     "text": [
      "Ackermann(3, 4) = 125\n"
     ]
    }
   ],
   "source": [
    "# The Ackerman Function (AA)\n",
    "def ackermann(m, n):\n",
    "    \"\"\"\n",
    "    Compute the Ackermann function A(m, n).\n",
    "\n",
    "    Parameters:\n",
    "    m (int): The first non-negative integer.\n",
    "    n (int): The second non-negative integer.\n",
    "\n",
    "    Returns:\n",
    "    int: The result of the Ackermann function A(m, n).\n",
    "    \"\"\"\n",
    "    if m == 0:\n",
    "        return n + 1\n",
    "    elif m == 1:\n",
    "        return n + 2\n",
    "    elif m == 2:\n",
    "        return 2 * n + 3\n",
    "    elif m == 3:\n",
    "        return 2 ** (n + 3) - 3\n",
    "    else:\n",
    "        return ackermann(m - 1, ackermann(m, n - 1))\n",
    "\n",
    "# Example usage:\n",
    "result = ackermann(3, 4)\n",
    "print(\"Ackermann(3, 4) =\", result)"
   ]
  },
  {
   "cell_type": "code",
   "execution_count": null,
   "id": "da4d1096-ebec-41c3-ac7f-e41ee310b2cc",
   "metadata": {},
   "outputs": [],
   "source": [
    "# GCD (AA)\n",
    "def gcd(a, b):\n",
    "    \"\"\"\n",
    "    Compute the greatest common divisor (GCD) of two integers.\n",
    "\n",
    "    Parameters:\n",
    "    a (int): The first integer.\n",
    "    b (int): The second integer.\n",
    "\n",
    "    Returns:\n",
    "    int: The greatest common divisor of a and b.\n",
    "    \"\"\"\n",
    "    while b != 0:\n",
    "        a, b = b, a % b  # Update a and b\n",
    "    return abs(a)  # Return the absolute value of the GCD\n",
    "\n",
    "# Example usage:\n",
    "result = gcd(48, 18)\n",
    "print(\"GCD(48, 18) =\", result)\n",
    "    "
   ]
  },
  {
   "cell_type": "markdown",
   "id": "669ed982-e193-46af-b901-072ebde4d09c",
   "metadata": {},
   "source": []
  },
  {
   "cell_type": "markdown",
   "id": "b0ae75d1-8f02-4cba-855a-eb6e1c668f82",
   "metadata": {},
   "source": [
    "## 7. Iteration and Search"
   ]
  },
  {
   "cell_type": "markdown",
   "id": "c826f313-da5e-4cb7-bc6e-4e8d84857883",
   "metadata": {},
   "source": [
    "### EXAMPLES"
   ]
  },
  {
   "cell_type": "markdown",
   "id": "41a5e7d7-1b82-4248-af07-129bd0f24b48",
   "metadata": {
    "jp-MarkdownHeadingCollapsed": true
   },
   "source": [
    "#### Loops and Strings"
   ]
  },
  {
   "cell_type": "code",
   "execution_count": 198,
   "id": "72a874a9-bff5-42e2-930a-23c03fa18a22",
   "metadata": {},
   "outputs": [
    {
     "name": "stdout",
     "output_type": "stream",
     "text": [
      "0 1 2 "
     ]
    }
   ],
   "source": [
    "for i in range(3):\n",
    "   print(i, end=' ')"
   ]
  },
  {
   "cell_type": "code",
   "execution_count": 12,
   "id": "7919994d-e821-457c-9250-79ab933be7d7",
   "metadata": {},
   "outputs": [
    {
     "name": "stdout",
     "output_type": "stream",
     "text": [
      "G a d s b y "
     ]
    }
   ],
   "source": [
    "for letter in 'Gadsby':\n",
    "    print(letter, end=' ')"
   ]
  },
  {
   "cell_type": "code",
   "execution_count": 16,
   "id": "bec518af-25bc-4ef0-b82e-55898efdbfb8",
   "metadata": {},
   "outputs": [],
   "source": [
    "for letter in \"Gadsby\":\n",
    "    if letter == 'E' or letter == 'e':\n",
    "        print('This word has an \"e\"')"
   ]
  },
  {
   "cell_type": "code",
   "execution_count": 52,
   "id": "54a61834-0921-40f9-801f-9017da98d7f7",
   "metadata": {},
   "outputs": [],
   "source": [
    "def word_has_s(word, s):\n",
    "    word = word.lower()\n",
    "    s = s.lower()\n",
    "    \n",
    "    for letter in word:\n",
    "        if letter == s:\n",
    "            # Found s in word\n",
    "            return True\n",
    "\n",
    "    # Did not find s in word\n",
    "    return False"
   ]
  },
  {
   "cell_type": "code",
   "execution_count": 59,
   "id": "42a9fe5a-db17-484c-8acd-4882304b79c5",
   "metadata": {},
   "outputs": [
    {
     "data": {
      "text/plain": [
       "True"
      ]
     },
     "execution_count": 59,
     "metadata": {},
     "output_type": "execute_result"
    }
   ],
   "source": [
    "word_has_s(\"Gadsby\", \"d\")"
   ]
  },
  {
   "cell_type": "markdown",
   "id": "058ac32b-84ec-466d-8f7d-cacd3e1bda54",
   "metadata": {
    "jp-MarkdownHeadingCollapsed": true
   },
   "source": [
    "#### Reading the Word List"
   ]
  },
  {
   "cell_type": "code",
   "execution_count": 63,
   "id": "0d39da0c-c483-47d2-9682-f64f8de9794b",
   "metadata": {},
   "outputs": [
    {
     "data": {
      "text/plain": [
       "'A\\n'"
      ]
     },
     "execution_count": 63,
     "metadata": {},
     "output_type": "execute_result"
    }
   ],
   "source": [
    "file_object = open('web2.txt')\n",
    "line = file_object.readline()\n",
    "line"
   ]
  },
  {
   "cell_type": "code",
   "execution_count": 110,
   "id": "5762f124-df70-4a84-bdb6-9974c2251f3b",
   "metadata": {},
   "outputs": [
    {
     "data": {
      "text/plain": [
       "'a\\n'"
      ]
     },
     "execution_count": 110,
     "metadata": {},
     "output_type": "execute_result"
    }
   ],
   "source": [
    "line = file_object.readline()\n",
    "line"
   ]
  },
  {
   "cell_type": "code",
   "execution_count": 130,
   "id": "d19c4d81-faf4-4d37-be6c-62405df5d3ec",
   "metadata": {},
   "outputs": [
    {
     "data": {
      "text/plain": [
       "'Zyzzogeton'"
      ]
     },
     "execution_count": 130,
     "metadata": {},
     "output_type": "execute_result"
    }
   ],
   "source": [
    "word = line.strip()\n",
    "word"
   ]
  },
  {
   "cell_type": "code",
   "execution_count": 69,
   "id": "d16cf64f-fd3b-4c7c-a57e-8c30f4e9ec0b",
   "metadata": {},
   "outputs": [],
   "source": [
    "def has_e(word):\n",
    "    return 'e' in word.lower()"
   ]
  },
  {
   "cell_type": "code",
   "execution_count": 71,
   "id": "f79f0d8e-d393-4985-8380-935fbb5c8b4d",
   "metadata": {},
   "outputs": [
    {
     "name": "stdout",
     "output_type": "stream",
     "text": [
      "        total words: 234936\n",
      "           with 'E': 157642\n",
      "percentage of total: 67.1%\n"
     ]
    }
   ],
   "source": [
    "# Count the number of words\n",
    "# Count the number of words that contain 'E'\n",
    "total = 0\n",
    "count = 0\n",
    "\n",
    "for line in open('web2.txt'):\n",
    "    word = line.strip()\n",
    "    total += 1\n",
    "    if has_e(word):\n",
    "        count += 1\n",
    "\n",
    "percentage = round(count / total * 100, 1)\n",
    "\n",
    "print(f\"        total words: {total}\")\n",
    "print(f\"           with 'E': {count}\")\n",
    "print(f\"percentage of total: {percentage}%\")"
   ]
  },
  {
   "cell_type": "markdown",
   "id": "d8b4c33d-0cdc-490e-a81b-d029e65bc8fc",
   "metadata": {
    "jp-MarkdownHeadingCollapsed": true
   },
   "source": [
    "#### The `in` Operator"
   ]
  },
  {
   "cell_type": "code",
   "execution_count": null,
   "id": "0c066d43-8988-4afc-b136-63e03015415e",
   "metadata": {},
   "outputs": [],
   "source": []
  },
  {
   "cell_type": "code",
   "execution_count": null,
   "id": "61a04cb8-dd2d-432a-974e-e7b17bfaa9a3",
   "metadata": {},
   "outputs": [],
   "source": []
  },
  {
   "cell_type": "code",
   "execution_count": 83,
   "id": "99b0cc89-edd0-420d-bfc2-e1f9c0c8b118",
   "metadata": {},
   "outputs": [
    {
     "data": {
      "text/plain": [
       "False"
      ]
     },
     "execution_count": 83,
     "metadata": {},
     "output_type": "execute_result"
    }
   ],
   "source": [
    "word = 'Gadsby'\n",
    "'e' in word"
   ]
  },
  {
   "cell_type": "code",
   "execution_count": 87,
   "id": "6ba48934-262c-4619-a25d-a8850ba50f0e",
   "metadata": {},
   "outputs": [],
   "source": [
    "def has_e(word):\n",
    "    return 'e' in word.lower()"
   ]
  },
  {
   "cell_type": "markdown",
   "id": "d2f03306-bbfc-437a-9151-13c911dca288",
   "metadata": {
    "jp-MarkdownHeadingCollapsed": true
   },
   "source": [
    "#### Search"
   ]
  },
  {
   "cell_type": "code",
   "execution_count": 91,
   "id": "263d7302-471c-4c52-a06b-6a0304e50713",
   "metadata": {},
   "outputs": [],
   "source": [
    "# Linear search. \n",
    "def uses_any(word, letters):\n",
    "    \"\"\"\n",
    "        Check if word uses any of a list of letters\n",
    "\n",
    "        >>> uses_any('banana', 'aeiou')\n",
    "        True\n",
    "        >>> uses_any('apple', 'xyz')\n",
    "        False\n",
    "    \"\"\"\n",
    "    # Check each letter in the word\n",
    "    for letter in word.lower():\n",
    "        # Check if the letter is contained letters\n",
    "        if letter in letters.lower():\n",
    "            # Match found\n",
    "            return True\n",
    "    # None found. \n",
    "    return False"
   ]
  },
  {
   "cell_type": "code",
   "execution_count": null,
   "id": "396ada48-16ee-4f05-ab3c-b8e4b5e3d341",
   "metadata": {},
   "outputs": [],
   "source": []
  },
  {
   "cell_type": "code",
   "execution_count": 170,
   "id": "6ad11c13-dbe2-4271-a2e6-e45051ba76bb",
   "metadata": {},
   "outputs": [
    {
     "data": {
      "text/plain": [
       "True"
      ]
     },
     "execution_count": 170,
     "metadata": {},
     "output_type": "execute_result"
    }
   ],
   "source": [
    "uses_any('banana', 'aeiou')"
   ]
  },
  {
   "cell_type": "code",
   "execution_count": 178,
   "id": "0f0ceec8-3bd5-44d1-a579-1cd0ae6bd3b6",
   "metadata": {},
   "outputs": [
    {
     "data": {
      "text/plain": [
       "False"
      ]
     },
     "execution_count": 178,
     "metadata": {},
     "output_type": "execute_result"
    }
   ],
   "source": [
    "uses_any('apple', 'xyz')"
   ]
  },
  {
   "cell_type": "code",
   "execution_count": 94,
   "id": "dbe93baf-3ac8-4012-abfc-76a5899e0141",
   "metadata": {},
   "outputs": [],
   "source": [
    "from doctest import run_docstring_examples\n",
    "\n",
    "def run_doctests(func):\n",
    "    run_docstring_examples(func, globals(), name=func.__name__)"
   ]
  },
  {
   "cell_type": "code",
   "execution_count": 96,
   "id": "92d7f925-25c2-40be-93c9-27751f3976d9",
   "metadata": {},
   "outputs": [],
   "source": [
    "run_doctests(uses_any)"
   ]
  },
  {
   "cell_type": "code",
   "execution_count": 205,
   "id": "dd4e9937-8d5e-473f-9d97-eefe737a4f11",
   "metadata": {
    "jupyter": {
     "source_hidden": true
    }
   },
   "outputs": [],
   "source": [
    "def uses_any_incorrect(word, letters):\n",
    "    \"\"\"\n",
    "        Checks if a word uses any of a list of letters.\n",
    "\n",
    "        >>> uses_any_incorrect('banana', 'aeiou')\n",
    "        True\n",
    "        >>> uses_any_incorrect('apple', 'xyz')\n",
    "        False\n",
    "    \"\"\"\n",
    "    for letter in word.lower():\n",
    "        if letter in letters.lower():\n",
    "            return True\n",
    "        else:\n",
    "            return False  # INCORRECT!"
   ]
  },
  {
   "cell_type": "code",
   "execution_count": null,
   "id": "c481ea59-eb2a-4db8-bda2-bd2bf54db9c7",
   "metadata": {},
   "outputs": [],
   "source": []
  },
  {
   "cell_type": "markdown",
   "id": "5e2cee23-cd74-4462-9b3e-37e30c035001",
   "metadata": {
    "jp-MarkdownHeadingCollapsed": true
   },
   "source": [
    "### EXERCISES"
   ]
  },
  {
   "cell_type": "code",
   "execution_count": 118,
   "id": "bbb52f41-7d92-4c6b-ae7e-e7ef41516839",
   "metadata": {},
   "outputs": [],
   "source": [
    "def uses_none(word, forbidden):\n",
    "    \"\"\"\n",
    "    Checks whether a word avoids forbidden letters\n",
    "\n",
    "    >>> uses_none('banana', 'xyz')\n",
    "    True\n",
    "    >>> uses_none('apple', 'efg')\n",
    "    False\n",
    "    >>> uses_none('', 'abc')\n",
    "    False\n",
    "    \"\"\"\n",
    "    for letter in word.lower():\n",
    "        if letter in forbidden.lower():\n",
    "            return False  \n",
    "\n",
    "    return True"
   ]
  },
  {
   "cell_type": "code",
   "execution_count": 120,
   "id": "d61db8fd-7717-4895-a4b6-05cb687adfa9",
   "metadata": {},
   "outputs": [],
   "source": [
    "run_doctests(uses_any)"
   ]
  },
  {
   "cell_type": "code",
   "execution_count": 114,
   "id": "fbb51e3e-1bbf-4ea3-b7cc-7511ec19967b",
   "metadata": {},
   "outputs": [],
   "source": [
    "def uses_only(word, available):\n",
    "    \"\"\"\n",
    "    Checks whether a word uses only the available letters\n",
    "\n",
    "    >>> uses_only('banana', 'ban')\n",
    "    True\n",
    "    >>> uses_only('apple', 'apl')\n",
    "    False\n",
    "    >>> uses_only('cattle', 'leta')\n",
    "    False\n",
    "    \"\"\"\n",
    "    for letter in word.lower():\n",
    "        if letter not in available.lower():\n",
    "            return False\n",
    " \n",
    "    return True   "
   ]
  },
  {
   "cell_type": "code",
   "execution_count": 2,
   "id": "ec7b3baf-0617-4d31-9ce7-fdd9c2c7283e",
   "metadata": {},
   "outputs": [
    {
     "ename": "NameError",
     "evalue": "name 'run_doctests' is not defined",
     "output_type": "error",
     "traceback": [
      "\u001b[0;31m---------------------------------------------------------------------------\u001b[0m",
      "\u001b[0;31mNameError\u001b[0m                                 Traceback (most recent call last)",
      "Cell \u001b[0;32mIn[2], line 1\u001b[0m\n\u001b[0;32m----> 1\u001b[0m \u001b[43mrun_doctests\u001b[49m(uses_only)\n",
      "\u001b[0;31mNameError\u001b[0m: name 'run_doctests' is not defined"
     ]
    }
   ],
   "source": [
    "run_doctests(uses_only)"
   ]
  },
  {
   "cell_type": "code",
   "execution_count": 232,
   "id": "6f64f9d0-c6f1-4be8-8793-dc8d835cf42d",
   "metadata": {},
   "outputs": [],
   "source": [
    "def uses_all(word, required):\n",
    "    \"\"\"\n",
    "    Checks whether a word uses all required letters.\n",
    "\n",
    "    >>> uses_all('banana', 'ban')\n",
    "    True\n",
    "    >>> uses_all('apple', 'api')\n",
    "    False\n",
    "    >>> uses_all('funny', 'funy')\n",
    "    True\n",
    "    \"\"\"\n",
    "    for letter in required.lower():\n",
    "        if letter not in word.lower():\n",
    "            return False\n",
    "    return True"
   ]
  },
  {
   "cell_type": "code",
   "execution_count": 236,
   "id": "bd4d045a-6df9-4794-b852-717a206df4b4",
   "metadata": {},
   "outputs": [],
   "source": [
    "run_doctests(uses_all)"
   ]
  },
  {
   "cell_type": "code",
   "execution_count": 244,
   "id": "35df6c33-6541-45fe-9598-ccc59fee68b3",
   "metadata": {},
   "outputs": [],
   "source": [
    "def check_word(word, available, required):\n",
    "    \"\"\"\n",
    "    Check whether a word is acceptable.\n",
    "\n",
    "    >>> check_word('color', 'ACDLORT', 'R')\n",
    "    True\n",
    "    >>> check_word('ratatat', 'ACDLORT', 'R')\n",
    "    True\n",
    "    >>> check_word('rat', 'ACDLORT', 'R')\n",
    "    False\n",
    "    >>> check_word('told', 'ACDLORT', 'R')\n",
    "    False\n",
    "    >>> check_word('bee', 'ACDLORT', 'R')\n",
    "    False\n",
    "    \"\"\"\n",
    "    if len(word) < 4: \n",
    "        return False\n",
    "\n",
    "    # if required not in word\n",
    "    if not uses_all(word, required):\n",
    "        return False\n",
    "\n",
    "    return uses_only(word, available)"
   ]
  },
  {
   "cell_type": "code",
   "execution_count": 246,
   "id": "edf4fea3-641c-45dc-bf2d-85ac47515eef",
   "metadata": {},
   "outputs": [],
   "source": [
    "run_doctests(check_word)"
   ]
  },
  {
   "cell_type": "code",
   "execution_count": 261,
   "id": "a08c62a3-7ff5-46fd-95d7-c9822edcc44d",
   "metadata": {},
   "outputs": [],
   "source": [
    "def word_score(word, available):\n",
    "    \"\"\"\n",
    "    Compute the score for an acceptable word.\n",
    "    \n",
    "    >>> word_score('card', 'ACDLORT')\n",
    "    1\n",
    "    >>> word_score('color', 'ACDLORT')\n",
    "    5\n",
    "    >>> word_score('cartload', 'ACDLORT')\n",
    "    15\n",
    "    \"\"\"\n",
    "    points = 0\n",
    "    \n",
    "    # Longer words -> 1 point per point\n",
    "    if len(word) > 4:\n",
    "        points += len(word)\n",
    "    # Four-letter words -> 1 point\n",
    "    else:\n",
    "        points += 1\n",
    "    \n",
    "    # Is a pangram? -> 7 extra points\n",
    "    if uses_all(word, available):\n",
    "        points += 7\n",
    "\n",
    "    return points"
   ]
  },
  {
   "cell_type": "code",
   "execution_count": 265,
   "id": "d7b4c2ff-5310-40fc-bf09-3b21cf76b428",
   "metadata": {},
   "outputs": [],
   "source": [
    "run_doctests(word_score)"
   ]
  },
  {
   "cell_type": "code",
   "execution_count": 273,
   "id": "91f25568-e3f5-49d2-b4dc-88dc84db35a6",
   "metadata": {
    "collapsed": true,
    "jupyter": {
     "outputs_hidden": true
    },
    "scrolled": true
   },
   "outputs": [
    {
     "name": "stdout",
     "output_type": "stream",
     "text": [
      "acara 5\n",
      "acarol 6\n",
      "accord 6\n",
      "acor 1\n",
      "Acroa 5\n",
      "actor 5\n",
      "Adar 1\n",
      "adoral 6\n",
      "alar 1\n",
      "Alcor 5\n",
      "allocator 9\n",
      "alroot 6\n",
      "altar 5\n",
      "aorta 5\n",
      "aortal 6\n",
      "araca 5\n",
      "arad 1\n",
      "arado 5\n",
      "arar 1\n",
      "Arara 5\n",
      "arara 5\n",
      "ararao 6\n",
      "arca 1\n",
      "ardor 5\n",
      "aroar 5\n",
      "arolla 6\n",
      "artal 5\n",
      "artar 5\n",
      "attar 5\n",
      "attract 7\n",
      "attractor 9\n",
      "Cacara 6\n",
      "calcar 6\n",
      "calor 5\n",
      "Cara 1\n",
      "caracal 7\n",
      "caracara 8\n",
      "caracol 7\n",
      "caract 6\n",
      "Caradoc 7\n",
      "Carara 6\n",
      "carat 5\n",
      "card 1\n",
      "cardo 5\n",
      "cardol 6\n",
      "Carl 1\n",
      "carl 1\n",
      "carload 7\n",
      "carlot 6\n",
      "Caro 1\n",
      "caroa 5\n",
      "Carol 5\n",
      "carol 5\n",
      "carr 1\n",
      "Carrara 7\n",
      "carrot 6\n",
      "cart 1\n",
      "cartload 15\n",
      "catacorolla 11\n",
      "cataract 8\n",
      "cataractal 10\n",
      "Clara 5\n",
      "claro 5\n",
      "clart 5\n",
      "coactor 7\n",
      "cocoroot 8\n",
      "collar 6\n",
      "collard 7\n",
      "collator 8\n",
      "color 5\n",
      "Colorado 8\n",
      "colorado 8\n",
      "Cora 1\n",
      "cora 1\n",
      "coral 5\n",
      "coralroot 9\n",
      "cord 1\n",
      "coroa 5\n",
      "Coroado 7\n",
      "corol 5\n",
      "corolla 7\n",
      "corral 6\n",
      "corta 5\n",
      "cotoro 6\n",
      "Cracca 6\n",
      "Croat 5\n",
      "croc 1\n",
      "crocard 7\n",
      "crood 5\n",
      "crool 5\n",
      "crotal 6\n",
      "crotalo 7\n",
      "dalar 5\n",
      "darac 5\n",
      "darat 5\n",
      "Dard 1\n",
      "dardaol 7\n",
      "daroo 5\n",
      "darr 1\n",
      "dart 1\n",
      "doctor 6\n",
      "doctoral 15\n",
      "doddart 7\n",
      "dollar 6\n",
      "dolor 5\n",
      "door 1\n",
      "Dora 1\n",
      "dorad 5\n",
      "dorado 6\n",
      "dorlot 6\n",
      "dotard 6\n",
      "Draco 5\n",
      "drat 1\n",
      "droll 5\n",
      "drool 5\n",
      "lard 1\n",
      "latro 5\n",
      "locator 7\n",
      "Lollard 7\n",
      "Lora 1\n",
      "lora 1\n",
      "loral 5\n",
      "lord 1\n",
      "loro 1\n",
      "Octocoralla 11\n",
      "odor 1\n",
      "odorator 8\n",
      "Olor 1\n",
      "oord 1\n",
      "orad 1\n",
      "oral 1\n",
      "orator 6\n",
      "Orca 1\n",
      "orlo 1\n",
      "Ortol 5\n",
      "ottar 5\n",
      "raad 1\n",
      "raccroc 7\n",
      "rada 1\n",
      "radar 5\n",
      "rata 1\n",
      "ratal 5\n",
      "road 1\n",
      "roar 1\n",
      "rococo 6\n",
      "rocta 5\n",
      "rodd 1\n",
      "roll 1\n",
      "Rollo 5\n",
      "rood 1\n",
      "rool 1\n",
      "root 1\n",
      "roral 5\n",
      "rota 1\n",
      "Rotal 5\n",
      "rotal 5\n",
      "Rotala 6\n",
      "rotator 7\n",
      "roto 1\n",
      "rotor 5\n",
      "rottolo 7\n",
      "taar 1\n",
      "tactor 6\n",
      "talar 5\n",
      "tara 1\n",
      "tarata 6\n",
      "taro 1\n",
      "taroc 5\n",
      "tarocco 7\n",
      "tarot 5\n",
      "tarr 1\n",
      "tart 1\n",
      "Tartar 6\n",
      "tartar 6\n",
      "tartro 6\n",
      "Tatar 5\n",
      "toadroot 8\n",
      "tocororo 8\n",
      "tooroo 6\n",
      "tora 1\n",
      "toral 5\n",
      "torc 1\n",
      "toro 1\n",
      "torotoro 8\n",
      "tort 1\n",
      "torta 5\n",
      "totara 6\n",
      "totora 6\n",
      "Totoro 6\n",
      "tract 5\n",
      "tractator 9\n",
      "tractor 7\n",
      "tradal 6\n",
      "Troad 5\n",
      "troat 5\n",
      "troca 5\n",
      "trocar 6\n",
      "troco 5\n",
      "trod 1\n",
      "troll 5\n",
      "trollol 7\n",
      "troot 5\n",
      "trot 1\n",
      "trotol 6\n",
      "Total score: 954\n"
     ]
    }
   ],
   "source": [
    "available = 'ACDLORT'\n",
    "required = 'R'\n",
    "total = 0\n",
    "\n",
    "file_object = open('web2.txt')\n",
    "for line in file_object:\n",
    "    word = line.strip()\n",
    "    if check_word(word, available, required):\n",
    "        score = word_score(word, available)\n",
    "        total += score\n",
    "        print(word, score)\n",
    "\n",
    "print(\"Total score:\", total)"
   ]
  },
  {
   "cell_type": "code",
   "execution_count": 277,
   "id": "53124d03-b36c-4a8d-b395-44bc78c1d9da",
   "metadata": {},
   "outputs": [],
   "source": [
    "def uses_none(word, forbidden):\n",
    "    \"\"\"Checks whether a word avoids forbidden letters.\n",
    "    \n",
    "    >>> uses_none('banana', 'xyz')\n",
    "    True\n",
    "    >>> uses_none('apple', 'efg')\n",
    "    False\n",
    "    >>> uses_none('', 'abc')\n",
    "    True\n",
    "    \"\"\"\n",
    "    return not uses_any(word, forbidden)"
   ]
  },
  {
   "cell_type": "code",
   "execution_count": 281,
   "id": "b83f0409-3517-4f25-9d20-811af2021beb",
   "metadata": {},
   "outputs": [],
   "source": [
    "run_doctests(uses_none)"
   ]
  },
  {
   "cell_type": "code",
   "execution_count": 7,
   "id": "4597fad5-a76c-4e91-b7b5-7e28683b50eb",
   "metadata": {},
   "outputs": [],
   "source": [
    "def uses_all(word, required):\n",
    "    \"\"\"Checks whether a word uses all required letters.\n",
    "    \n",
    "    >>> uses_all('banana', 'ban')\n",
    "    True\n",
    "    >>> uses_all('ratatat', 'rat')\n",
    "    True\n",
    "    >>> uses_all('apple', 'api')\n",
    "    False\n",
    "    \"\"\"\n",
    "    return uses_only(required, word)"
   ]
  },
  {
   "cell_type": "markdown",
   "id": "98abeb8b-c81e-430a-b959-d717f4cce6ed",
   "metadata": {},
   "source": [
    "## 8. Strings and Regular Expressions"
   ]
  },
  {
   "cell_type": "markdown",
   "id": "71c99db0-f07f-4481-ba22-84c6084e1494",
   "metadata": {
    "jp-MarkdownHeadingCollapsed": true
   },
   "source": [
    "### EXAMPLES"
   ]
  },
  {
   "cell_type": "markdown",
   "id": "65a535df-5fc7-49ea-b715-7351489ff150",
   "metadata": {
    "jp-MarkdownHeadingCollapsed": true
   },
   "source": [
    "#### A string is a sequence"
   ]
  },
  {
   "cell_type": "code",
   "execution_count": 57,
   "id": "a7ee9dd1-053e-40f2-a9a7-a7cb81adc039",
   "metadata": {},
   "outputs": [
    {
     "data": {
      "text/plain": [
       "'a'"
      ]
     },
     "execution_count": 57,
     "metadata": {},
     "output_type": "execute_result"
    }
   ],
   "source": [
    "fruit = 'banana'\n",
    "letter = fruit[1]\n",
    "letter"
   ]
  },
  {
   "cell_type": "code",
   "execution_count": 67,
   "id": "00c0d9fc-8413-4083-a21f-51b490b986ba",
   "metadata": {},
   "outputs": [
    {
     "data": {
      "text/plain": [
       "'a'"
      ]
     },
     "execution_count": 67,
     "metadata": {},
     "output_type": "execute_result"
    }
   ],
   "source": [
    "n = len(fruit)\n",
    "n\n",
    "\n",
    "# get the last letter of a string\n",
    "fruit[n-1]"
   ]
  },
  {
   "cell_type": "markdown",
   "id": "2ebcd072-b8a0-4da3-b7e7-2b86c431c68c",
   "metadata": {
    "jp-MarkdownHeadingCollapsed": true
   },
   "source": [
    "#### String Slices"
   ]
  },
  {
   "cell_type": "code",
   "execution_count": 77,
   "id": "5a569896-580a-400f-ab32-de053e4b2f48",
   "metadata": {},
   "outputs": [
    {
     "data": {
      "text/plain": [
       "'ban'"
      ]
     },
     "execution_count": 77,
     "metadata": {},
     "output_type": "execute_result"
    }
   ],
   "source": [
    "fruit = 'banana'\n",
    "fruit[0:3]"
   ]
  },
  {
   "cell_type": "code",
   "execution_count": 81,
   "id": "6d1828e1-b3e0-4d45-b6cd-7738000bdbc2",
   "metadata": {},
   "outputs": [
    {
     "data": {
      "text/plain": [
       "'ban'"
      ]
     },
     "execution_count": 81,
     "metadata": {},
     "output_type": "execute_result"
    }
   ],
   "source": [
    "fruit[:3]"
   ]
  },
  {
   "cell_type": "code",
   "execution_count": 87,
   "id": "4e331b01-b930-43d3-b917-844551a8454b",
   "metadata": {},
   "outputs": [
    {
     "data": {
      "text/plain": [
       "'ana'"
      ]
     },
     "execution_count": 87,
     "metadata": {},
     "output_type": "execute_result"
    }
   ],
   "source": [
    "fruit[3:]"
   ]
  },
  {
   "cell_type": "code",
   "execution_count": 91,
   "id": "c1a54200-1d83-44ca-8950-185badea1b1f",
   "metadata": {},
   "outputs": [
    {
     "data": {
      "text/plain": [
       "''"
      ]
     },
     "execution_count": 91,
     "metadata": {},
     "output_type": "execute_result"
    }
   ],
   "source": [
    "fruit[3:3]"
   ]
  },
  {
   "cell_type": "code",
   "execution_count": 95,
   "id": "d93378cd-745b-46c7-a311-b780e0f9a2f9",
   "metadata": {},
   "outputs": [
    {
     "data": {
      "text/plain": [
       "'banana'"
      ]
     },
     "execution_count": 95,
     "metadata": {},
     "output_type": "execute_result"
    }
   ],
   "source": [
    "fruit[:]"
   ]
  },
  {
   "cell_type": "markdown",
   "id": "efded84d-d28e-4d3b-8110-2a99cd836d33",
   "metadata": {
    "jp-MarkdownHeadingCollapsed": true
   },
   "source": [
    "#### Strings are immutable"
   ]
  },
  {
   "cell_type": "code",
   "execution_count": 104,
   "id": "4bf828e3-3a21-4665-9779-2be664fa86af",
   "metadata": {},
   "outputs": [
    {
     "ename": "TypeError",
     "evalue": "'str' object does not support item assignment",
     "output_type": "error",
     "traceback": [
      "\u001b[0;31m---------------------------------------------------------------------------\u001b[0m",
      "\u001b[0;31mTypeError\u001b[0m                                 Traceback (most recent call last)",
      "Cell \u001b[0;32mIn[104], line 2\u001b[0m\n\u001b[1;32m      1\u001b[0m greeting \u001b[38;5;241m=\u001b[39m \u001b[38;5;124m'\u001b[39m\u001b[38;5;124mHello, World!\u001b[39m\u001b[38;5;124m'\u001b[39m\n\u001b[0;32m----> 2\u001b[0m greeting[\u001b[38;5;241m0\u001b[39m] \u001b[38;5;241m=\u001b[39m \u001b[38;5;124m'\u001b[39m\u001b[38;5;124mJ\u001b[39m\u001b[38;5;124m'\u001b[39m\n",
      "\u001b[0;31mTypeError\u001b[0m: 'str' object does not support item assignment"
     ]
    }
   ],
   "source": [
    "greeting = 'Hello, World!'\n",
    "greeting[0] = 'J'"
   ]
  },
  {
   "cell_type": "code",
   "execution_count": 108,
   "id": "ace1c36c-da07-4276-a720-a1715f97069b",
   "metadata": {},
   "outputs": [
    {
     "data": {
      "text/plain": [
       "'Jello, World!'"
      ]
     },
     "execution_count": 108,
     "metadata": {},
     "output_type": "execute_result"
    }
   ],
   "source": [
    "# All you can do is create a new string\n",
    "new_greeting = 'J' + greeting[1:]\n",
    "new_greeting"
   ]
  },
  {
   "cell_type": "code",
   "execution_count": 113,
   "id": "94f702d0-2c5b-4bc6-8b92-106d44d73dcd",
   "metadata": {},
   "outputs": [
    {
     "data": {
      "text/plain": [
       "'Hello, World!'"
      ]
     },
     "execution_count": 113,
     "metadata": {},
     "output_type": "execute_result"
    }
   ],
   "source": [
    "# Which has no effect on the orginal string\n",
    "greeting"
   ]
  },
  {
   "cell_type": "markdown",
   "id": "5f4cbd98-6c8b-493f-8b3b-d520e318fc1e",
   "metadata": {
    "jp-MarkdownHeadingCollapsed": true
   },
   "source": [
    "#### String Comparison"
   ]
  },
  {
   "cell_type": "code",
   "execution_count": 121,
   "id": "8f50cc75-8d11-40ed-9849-cd2879970085",
   "metadata": {},
   "outputs": [
    {
     "name": "stdout",
     "output_type": "stream",
     "text": [
      "All right, banana.\n"
     ]
    }
   ],
   "source": [
    "word = 'banana'\n",
    "\n",
    "if word == 'banana':\n",
    "    print('All right, banana.')"
   ]
  },
  {
   "cell_type": "code",
   "execution_count": 131,
   "id": "d2d352f2-f199-4fd0-8eb3-baf0fecbc374",
   "metadata": {},
   "outputs": [
    {
     "name": "stdout",
     "output_type": "stream",
     "text": [
      "apple comes before banana.\n",
      "Pineapple comes before banana.\n"
     ]
    }
   ],
   "source": [
    "# Putting words in alphabetical order\n",
    "def compare_word(word):\n",
    "    if word < 'banana':\n",
    "        print(word, 'comes before banana.')\n",
    "    elif word > 'banana':\n",
    "        print(word, 'comes after banana.')\n",
    "    else:\n",
    "        print('All right, banana.')\n",
    "\n",
    "compare_word('apple')\n",
    "compare_word('Pineapple')"
   ]
  },
  {
   "cell_type": "markdown",
   "id": "26abbda3-17e0-4799-85bd-a58385c60587",
   "metadata": {},
   "source": [
    "#### Writing Files"
   ]
  },
  {
   "cell_type": "code",
   "execution_count": 9,
   "id": "19c6eaa5-d488-46f6-a24e-60c79badafc1",
   "metadata": {},
   "outputs": [],
   "source": [
    "reader = open('pg345.txt')"
   ]
  },
  {
   "cell_type": "code",
   "execution_count": 10,
   "id": "39fd93cb-0070-47c0-9caf-869f00cce2ee",
   "metadata": {},
   "outputs": [],
   "source": [
    "def is_special_line(line):\n",
    "    return line.startswith('*** ')"
   ]
  },
  {
   "cell_type": "code",
   "execution_count": 13,
   "id": "856996a8-6ca5-42cb-b4f8-682bfd86fce2",
   "metadata": {},
   "outputs": [
    {
     "name": "stdout",
     "output_type": "stream",
     "text": [
      "*** START OF THE PROJECT GUTENBERG EBOOK DRACULA ***\n",
      "*** END OF THE PROJECT GUTENBERG EBOOK DRACULA ***\n"
     ]
    }
   ],
   "source": [
    "# Extract the special lines from the text\n",
    "for line in reader: \n",
    "    if is_special_line(line):\n",
    "        print(line.strip())"
   ]
  },
  {
   "cell_type": "code",
   "execution_count": 12,
   "id": "8c8c7665-3891-496a-9ed0-b3c72a5f2a43",
   "metadata": {},
   "outputs": [
    {
     "name": "stdout",
     "output_type": "stream",
     "text": [
      "line:  *** START OF THE PROJECT GUTENBERG EBOOK DRACULA ***\n",
      "line:  *** END OF THE PROJECT GUTENBERG EBOOK DRACULA ***\n"
     ]
    }
   ],
   "source": [
    "# Create a new file that contains only the text of the book. \n",
    "# Open the files\n",
    "reader = open('pg345.txt')\n",
    "writer = open('pg345_cleaned.txt', 'w')\n",
    "\n",
    "# Loop thru the fine until the first special line\n",
    "for line in reader:\n",
    "    if is_special_line(line):\n",
    "        break\n",
    "\n",
    "# Print the special line\n",
    "print(\"line: \", line.strip())\n",
    "\n",
    "# Copy the body text of the book into a new file up to the next special line\n",
    "for line in reader: \n",
    "    if is_special_line(line):\n",
    "        break;\n",
    "    writer.write(line)    \n",
    "\n",
    "# Print the second special likne\n",
    "print(\"line: \", line.strip())\n",
    "\n",
    "# Close the files\n",
    "reader.close()\n",
    "writer.close()"
   ]
  },
  {
   "cell_type": "code",
   "execution_count": 25,
   "id": "ec318dc2-b28b-4795-b9e7-9f1178ad55f5",
   "metadata": {},
   "outputs": [
    {
     "name": "stdout",
     "output_type": "stream",
     "text": [
      "DRACULA\n",
      "_by_\n",
      "Bram Stoker\n"
     ]
    }
   ],
   "source": [
    "# Check that this was successful. Print the first 3 lines\n",
    "for line in open('pg345_cleaned.txt'):\n",
    "    # Get ready to print all the lines\n",
    "    line = line.strip()\n",
    "    count = 0\n",
    "    if len(line) > 0:\n",
    "        print(line)\n",
    "        count += 1 \n",
    "    # Stop printing at the third line\n",
    "    if line.endswith('Stoker'):\n",
    "        break"
   ]
  },
  {
   "cell_type": "markdown",
   "id": "1febd6a7-1a48-4745-89d8-a962dfc00fa8",
   "metadata": {
    "jp-MarkdownHeadingCollapsed": true
   },
   "source": [
    "#### Find and Replace"
   ]
  },
  {
   "cell_type": "code",
   "execution_count": 27,
   "id": "95187468-5fc9-4456-9b05-ea13dd15e670",
   "metadata": {},
   "outputs": [
    {
     "data": {
      "text/plain": [
       "15477"
      ]
     },
     "execution_count": 27,
     "metadata": {},
     "output_type": "execute_result"
    }
   ],
   "source": [
    "# Count the number of lines in a file\n",
    "total = 0\n",
    "for line in open('pg345_cleaned.txt'):\n",
    "    total += 1\n",
    "\n",
    "total"
   ]
  },
  {
   "cell_type": "code",
   "execution_count": 29,
   "id": "434f3cf9-b216-4974-9119-b082e9790dd5",
   "metadata": {},
   "outputs": [
    {
     "data": {
      "text/plain": [
       "199"
      ]
     },
     "execution_count": 29,
     "metadata": {},
     "output_type": "execute_result"
    }
   ],
   "source": [
    "# Count the number of lines that contain a particular word\n",
    "total = 0\n",
    "for line in open('pg345_cleaned.txt'):\n",
    "    if 'Jonathan' in line:\n",
    "        total += 1\n",
    "\n",
    "total"
   ]
  },
  {
   "cell_type": "code",
   "execution_count": 31,
   "id": "002f96c6-1a01-4d44-866d-2714bdd30f44",
   "metadata": {},
   "outputs": [
    {
     "data": {
      "text/plain": [
       "200"
      ]
     },
     "execution_count": 31,
     "metadata": {},
     "output_type": "execute_result"
    }
   ],
   "source": [
    "# Count the number of times that a word appears\n",
    "total = 0\n",
    "for line in open('pg345_cleaned.txt'):\n",
    "    total += line.count('Jonathan')\n",
    "\n",
    "total"
   ]
  },
  {
   "cell_type": "code",
   "execution_count": 35,
   "id": "53ebb495-7179-43a8-a1fa-5e21442773b2",
   "metadata": {},
   "outputs": [],
   "source": [
    "# Replace a word\n",
    "writer = open('pg345_replaced.txt', 'w')\n",
    "\n",
    "for line in open('pg345_cleaned.txt'):\n",
    "    line = line.replace('Jonathan', 'Thomas')\n",
    "    writer.write(line)"
   ]
  },
  {
   "cell_type": "code",
   "execution_count": 39,
   "id": "52c30f18-59cb-40a6-91ec-080bfbede147",
   "metadata": {},
   "outputs": [
    {
     "data": {
      "text/plain": [
       "207"
      ]
     },
     "execution_count": 39,
     "metadata": {},
     "output_type": "execute_result"
    }
   ],
   "source": [
    "total = 0\n",
    "for line in open(\"pg345_replaced.txt\"):\n",
    "    total += line.count('Thomas')\n",
    "\n",
    "total"
   ]
  },
  {
   "cell_type": "markdown",
   "id": "9717c531-35f7-4306-aab6-188ef8cbeeac",
   "metadata": {
    "jp-MarkdownHeadingCollapsed": true
   },
   "source": [
    "#### Regular Expressions"
   ]
  },
  {
   "cell_type": "code",
   "execution_count": 17,
   "id": "f9471eb4-c614-4f61-8a11-feae8f5ee3f1",
   "metadata": {},
   "outputs": [],
   "source": [
    "text = \"I am Dracula; and I bid you welcome, Mr. Harker, to my house.\"\n",
    "pattern = 'Dracula'"
   ]
  },
  {
   "cell_type": "code",
   "execution_count": 19,
   "id": "ca798e08-583c-40fa-8e4a-ad838a6cfd04",
   "metadata": {},
   "outputs": [
    {
     "data": {
      "text/plain": [
       "<re.Match object; span=(5, 12), match='Dracula'>"
      ]
     },
     "execution_count": 19,
     "metadata": {},
     "output_type": "execute_result"
    }
   ],
   "source": [
    "# Regular expression module\n",
    "import re\n",
    "\n",
    "result = re.search(pattern, text)\n",
    "result"
   ]
  },
  {
   "cell_type": "code",
   "execution_count": 51,
   "id": "ef60243b-fabd-42ec-82e4-1a71b7ec533f",
   "metadata": {},
   "outputs": [
    {
     "data": {
      "text/plain": [
       "'I am Dracula; and I bid you welcome, Mr. Harker, to my house.'"
      ]
     },
     "execution_count": 51,
     "metadata": {},
     "output_type": "execute_result"
    }
   ],
   "source": [
    "# Variable that holds the string that holds the match. \n",
    "result.string"
   ]
  },
  {
   "cell_type": "code",
   "execution_count": 57,
   "id": "6c8fc8a3-3231-4615-a975-dd7fbd3ba2bf",
   "metadata": {},
   "outputs": [
    {
     "data": {
      "text/plain": [
       "'Dracula'"
      ]
     },
     "execution_count": 57,
     "metadata": {},
     "output_type": "execute_result"
    }
   ],
   "source": [
    "# Return the match\n",
    "result.group()"
   ]
  },
  {
   "cell_type": "code",
   "execution_count": 63,
   "id": "43b24609-9e51-439e-9128-267e32c42779",
   "metadata": {},
   "outputs": [
    {
     "data": {
      "text/plain": [
       "(5, 12)"
      ]
     },
     "execution_count": 63,
     "metadata": {},
     "output_type": "execute_result"
    }
   ],
   "source": [
    "# Return the span of the match in the string\n",
    "result.span()"
   ]
  },
  {
   "cell_type": "code",
   "execution_count": 67,
   "id": "29b11ce5-a5a3-43ef-9f69-f47d4cee60fd",
   "metadata": {},
   "outputs": [
    {
     "name": "stdout",
     "output_type": "stream",
     "text": [
      "None\n"
     ]
    }
   ],
   "source": [
    "# No result found\n",
    "result = re.search('Count', text)\n",
    "print(result)"
   ]
  },
  {
   "cell_type": "code",
   "execution_count": 71,
   "id": "cc9025f3-6332-41ee-9bbb-3a86500e8830",
   "metadata": {},
   "outputs": [
    {
     "data": {
      "text/plain": [
       "True"
      ]
     },
     "execution_count": 71,
     "metadata": {},
     "output_type": "execute_result"
    }
   ],
   "source": [
    "# To check if the search was successful\n",
    "result == None"
   ]
  },
  {
   "cell_type": "code",
   "execution_count": 75,
   "id": "8a1ee52c-c396-47fd-99e2-c1ecdfe2be0c",
   "metadata": {},
   "outputs": [],
   "source": [
    "# Putting it all together. Find and return the first match. \n",
    "def find_first(pattern):\n",
    "    # For each line of the text\n",
    "    for line in open(\"pg345_cleaned.txt\"):\n",
    "        # Search for the pattern in the line\n",
    "        result = re.search(pattern, line)\n",
    "        # If a match found\n",
    "        if result != None:\n",
    "            # Return the result\n",
    "            return result"
   ]
  },
  {
   "cell_type": "code",
   "execution_count": 81,
   "id": "6a397fd7-1a5d-4cc1-b7e3-1fafcc93893f",
   "metadata": {},
   "outputs": [
    {
     "data": {
      "text/plain": [
       "'CHAPTER I. Jonathan Harker’s Journal\\n'"
      ]
     },
     "execution_count": 81,
     "metadata": {},
     "output_type": "execute_result"
    }
   ],
   "source": [
    "result = find_first(\"Harker\")\n",
    "result.string"
   ]
  },
  {
   "cell_type": "code",
   "execution_count": 87,
   "id": "91a7e4a5-294e-41a2-84dc-208200b6e4c1",
   "metadata": {},
   "outputs": [
    {
     "data": {
      "text/plain": [
       "'CHAPTER V. Letters—Lucy and Mina\\n'"
      ]
     },
     "execution_count": 87,
     "metadata": {},
     "output_type": "execute_result"
    }
   ],
   "source": [
    "pattern = r\"Mina|Murray\"\n",
    "result = find_first(pattern)\n",
    "result.string"
   ]
  },
  {
   "cell_type": "code",
   "execution_count": 21,
   "id": "77480f76-6ce4-46fc-82cf-e47bf30894c2",
   "metadata": {},
   "outputs": [],
   "source": [
    "def count_matches(pattern):\n",
    "    count = 0\n",
    "    for line in open(\"pg345_cleaned.txt\"):\n",
    "        result = re.search(pattern, line)\n",
    "        if result != None: \n",
    "            count += 1\n",
    "    return count"
   ]
  },
  {
   "cell_type": "code",
   "execution_count": 23,
   "id": "a619e22a-640f-42c3-997a-9b2c40d344b2",
   "metadata": {},
   "outputs": [
    {
     "data": {
      "text/plain": [
       "229"
      ]
     },
     "execution_count": 23,
     "metadata": {},
     "output_type": "execute_result"
    }
   ],
   "source": [
    "count_matches('Mina|Murray')"
   ]
  },
  {
   "cell_type": "code",
   "execution_count": 107,
   "id": "ce586b7d-6174-4482-a622-b56de419e1a0",
   "metadata": {},
   "outputs": [
    {
     "data": {
      "text/plain": [
       "'Dracula, jumping to his feet, said:--\\n'"
      ]
     },
     "execution_count": 107,
     "metadata": {},
     "output_type": "execute_result"
    }
   ],
   "source": [
    "# Find matches at the beginning of a string\n",
    "result = find_first(\"^Dracula\")\n",
    "result.string"
   ]
  },
  {
   "cell_type": "code",
   "execution_count": 111,
   "id": "74aef884-3690-4240-b2a7-a3c67ac19a4a",
   "metadata": {},
   "outputs": [
    {
     "data": {
      "text/plain": [
       "'by five o’clock, we must start off; for it won’t do to leave Mrs. Harker\\n'"
      ]
     },
     "execution_count": 111,
     "metadata": {},
     "output_type": "execute_result"
    }
   ],
   "source": [
    "# Match the end of a string\n",
    "result = find_first(\"Harker$\")\n",
    "result.string"
   ]
  },
  {
   "cell_type": "markdown",
   "id": "ea79964e-0442-4655-b20c-803cfbb414aa",
   "metadata": {
    "jp-MarkdownHeadingCollapsed": true
   },
   "source": [
    "#### String Substitution"
   ]
  },
  {
   "cell_type": "code",
   "execution_count": 122,
   "id": "3dcdd54e-682d-4648-b600-d56d41d36950",
   "metadata": {},
   "outputs": [
    {
     "data": {
      "text/plain": [
       "'horseshoe of the Carpathians, as if it were the centre of some sort of\\n'"
      ]
     },
     "execution_count": 122,
     "metadata": {},
     "output_type": "execute_result"
    }
   ],
   "source": [
    "pattern = r'cent(er|re)'  # er OR re\n",
    "result = find_first(pattern)\n",
    "result.string"
   ]
  },
  {
   "cell_type": "code",
   "execution_count": 128,
   "id": "3f9f7cf8-5981-438a-aa34-b3965f069849",
   "metadata": {},
   "outputs": [
    {
     "data": {
      "text/plain": [
       "'undergarment with long double apron, front, and back, of coloured stuff\\n'"
      ]
     },
     "execution_count": 128,
     "metadata": {},
     "output_type": "execute_result"
    }
   ],
   "source": [
    "pattern = r'colou?r'\n",
    "result = find_first(pattern)\n",
    "result.string"
   ]
  },
  {
   "cell_type": "code",
   "execution_count": 154,
   "id": "86f43c74-fcb0-47e9-a046-1cf180128e86",
   "metadata": {},
   "outputs": [
    {
     "data": {
      "text/plain": [
       "'undergarment with long double apron, front, and back, of colored stuff\\n'"
      ]
     },
     "execution_count": 154,
     "metadata": {},
     "output_type": "execute_result"
    }
   ],
   "source": [
    "# find and repalce\n",
    "re.sub(pattern, 'color', result.string)"
   ]
  },
  {
   "cell_type": "markdown",
   "id": "2bee156a-6f87-4557-b1fa-4420114ff291",
   "metadata": {
    "jp-MarkdownHeadingCollapsed": true
   },
   "source": [
    "#### Debugging"
   ]
  },
  {
   "cell_type": "code",
   "execution_count": 8,
   "id": "80456afd-0add-4a41-a622-b1f1081abe51",
   "metadata": {},
   "outputs": [
    {
     "name": "stdout",
     "output_type": "stream",
     "text": [
      "\n",
      "\n",
      "\n",
      "\n",
      "                                DRACULA\n",
      "\n",
      "                                  _by_\n",
      "\n",
      "                              Bram Stoker\n",
      "\n"
     ]
    }
   ],
   "source": [
    "# Use shell commands withing Jupyter\n",
    "!head pg345_cleaned.txt"
   ]
  },
  {
   "cell_type": "code",
   "execution_count": 10,
   "id": "205b766b-42ee-423c-a4c9-1a7ae5f2899f",
   "metadata": {},
   "outputs": [
    {
     "name": "stdout",
     "output_type": "stream",
     "text": [
      "\n",
      "_Ask for Complete free list of G. & D. Popular Copyrighted Fiction_\n",
      "\n",
      "GROSSET & DUNLAP, _Publishers_, NEW YORK\n",
      "\n",
      "\n",
      "\n",
      "\n",
      "\n",
      "\n"
     ]
    }
   ],
   "source": [
    "!tail pg345_cleaned.txt"
   ]
  },
  {
   "cell_type": "code",
   "execution_count": 14,
   "id": "dbd197c6-608d-49c4-bf04-4e34a8fb9b1f",
   "metadata": {},
   "outputs": [],
   "source": [
    "!head pg345_cleaned.txt > pg345_cleaned_10_lines.txt"
   ]
  },
  {
   "cell_type": "code",
   "execution_count": 18,
   "id": "7dc5d5ae-05db-41dc-82ac-1a1fef9e5efa",
   "metadata": {},
   "outputs": [
    {
     "name": "stdout",
     "output_type": "stream",
     "text": [
      "\n",
      "\n",
      "\n",
      "\n",
      "                                DRACULA\n",
      "\n",
      "                                  _by_\n",
      "\n",
      "                              Bram Stoker\n",
      "\n"
     ]
    }
   ],
   "source": [
    "! cat pg345_cleaned_10_lines.txt"
   ]
  },
  {
   "cell_type": "code",
   "execution_count": 6,
   "id": "fb0f0d6a-e40e-42f2-983e-3862db64a45b",
   "metadata": {},
   "outputs": [],
   "source": [
    "!head -100 pg345_cleaned.txt > pg345_cleaned_10_lines.txt"
   ]
  },
  {
   "cell_type": "markdown",
   "id": "fd281cf2-671b-4ab8-8e23-62274836e540",
   "metadata": {},
   "source": [
    "### EXERCISES"
   ]
  },
  {
   "cell_type": "code",
   "execution_count": null,
   "id": "4c0a650b-3b1a-4851-987f-1c6f1d9df944",
   "metadata": {},
   "outputs": [],
   "source": []
  },
  {
   "cell_type": "code",
   "execution_count": null,
   "id": "a5c762af-c92d-49b7-924d-b85773e88347",
   "metadata": {},
   "outputs": [],
   "source": []
  },
  {
   "cell_type": "code",
   "execution_count": null,
   "id": "bd7e6c01-22a9-482c-bf95-a09597f3e07c",
   "metadata": {},
   "outputs": [],
   "source": [
    "# EXERCISE:A function that does the same thing as the shell command !head.\n",
    "# ChatGPT version: \n",
    "\n",
    "def head(file_to_read, num_lines, output_file=None):\n",
    "    \"\"\"\n",
    "    Mimics the functionality of the shell `head` command.\n",
    "    \n",
    "    :param file_to_read: The name of the file to read from.\n",
    "    :param num_lines: The number of lines to read from the beginning of the file.\n",
    "    :param output_file: The name of the file to write the lines into (optional).\n",
    "                        If None, displays the lines instead of writing them.\n",
    "    \"\"\"\n",
    "    try:\n",
    "        with open(file_to_read, 'r') as f:\n",
    "            lines = [next(f) for _ in range(num_lines)]\n",
    "    except FileNotFoundError:\n",
    "        print(f\"Error: The file '{file_to_read}' does not exist.\")\n",
    "        return\n",
    "    except StopIteration:\n",
    "        # Handle the case where the file has fewer lines than requested\n",
    "        pass  # The lines list will contain whatever could be read\n",
    "\n",
    "    if output_file:\n",
    "        try:\n",
    "            with open(output_file, 'w') as f:\n",
    "                f.writelines(lines)\n",
    "        except IOError:\n",
    "            print(f\"Error: Could not write to the file '{output_file}'.\")\n",
    "    else:\n",
    "        # Print the lines if no output file is provided\n",
    "        for line in lines:\n",
    "            print(line, end='')\n",
    "\n",
    "\n",
    "# Example usage:\n",
    "# head('input.txt', 10)  # Display the first 10 lines of 'input.txt'\n",
    "# head('input.txt', 10, 'output.txt')  # Write the first 10 lines to 'output.txt'\n"
   ]
  },
  {
   "cell_type": "code",
   "execution_count": 39,
   "id": "4fd178ce-3bf2-4c81-ae19-2de7b61704d4",
   "metadata": {
    "jupyter": {
     "source_hidden": true
    }
   },
   "outputs": [],
   "source": [
    "# EXERCISE:A function that does the same thing as the shell command !head.\n",
    "# No attempt to validate input \n",
    "# DOES NOT WORK. \n",
    "def head(file_in, n_lines, file_out=None):\n",
    "    # Open the file\n",
    "    reader = open(file_in)\n",
    "    \n",
    "    # Optionally, open the file to write into\n",
    "    if file_out:\n",
    "        writer = open(file_out, \"w\")\n",
    "    \n",
    "    # Access the first n_lines of the file, and either\n",
    "    if n_lines > 0:\n",
    "         for line in reader:\n",
    "             while n_lines > 0:\n",
    "                 if file_out:\n",
    "                     writer.write(line)\n",
    "                 else:\n",
    "                     print(line)\n",
    "                 n_lines -= 1\n",
    "             break\n",
    "    else:\n",
    "        return\n",
    "        print(\"ERROR: Cannot print zero lines.\")\n",
    "    \n",
    "    # Write them to the new file, or \n",
    "    # Print them to the console"
   ]
  },
  {
   "cell_type": "code",
   "execution_count": 45,
   "id": "eb95f237-14c2-4678-bf84-5997b75629b8",
   "metadata": {
    "collapsed": true,
    "jupyter": {
     "outputs_hidden": true
    }
   },
   "outputs": [
    {
     "name": "stdout",
     "output_type": "stream",
     "text": [
      "﻿The Project Gutenberg eBook of Dracula\n",
      "\n",
      "﻿The Project Gutenberg eBook of Dracula\n",
      "\n",
      "﻿The Project Gutenberg eBook of Dracula\n",
      "\n",
      "﻿The Project Gutenberg eBook of Dracula\n",
      "\n",
      "﻿The Project Gutenberg eBook of Dracula\n",
      "\n",
      "﻿The Project Gutenberg eBook of Dracula\n",
      "\n",
      "﻿The Project Gutenberg eBook of Dracula\n",
      "\n",
      "﻿The Project Gutenberg eBook of Dracula\n",
      "\n",
      "﻿The Project Gutenberg eBook of Dracula\n",
      "\n",
      "﻿The Project Gutenberg eBook of Dracula\n",
      "\n"
     ]
    }
   ],
   "source": [
    "head(\"pg345.txt\", 10)"
   ]
  },
  {
   "cell_type": "code",
   "execution_count": 63,
   "id": "19565305-73d8-4aa1-877f-768b26b05318",
   "metadata": {},
   "outputs": [],
   "source": [
    "def head(file_to_read, num_lines, output_file=None):\n",
    "    try:\n",
    "        # with is context managment variable. It will automatically close the file.\n",
    "        with open(file_to_read, \"r\") as f:\n",
    "            # Get the n lines of the file\n",
    "            lines = [next(f) for line in range(num_lines)]\n",
    "    except FileNotFoundError:\n",
    "        print(f\"Error: The file '{file_to_read}' does not exit\")\n",
    "        return\n",
    "    except StopIteration:\n",
    "        # Handle the case where the file has fewer lines than expected\n",
    "        pass\n",
    "\n",
    "    if output_file:\n",
    "        try:\n",
    "            with open(output_file, 'w') as f:\n",
    "                f.writelines(lines)\n",
    "        except IOError: \n",
    "            print(f\"Error: Counld not write to the file '{output_file}'.\")\n",
    "    else:\n",
    "        for line in lines:\n",
    "            print(line, end='')"
   ]
  },
  {
   "cell_type": "code",
   "execution_count": 69,
   "id": "1b01b693-3a54-4fd5-9ada-444b36a1c372",
   "metadata": {
    "scrolled": true
   },
   "outputs": [],
   "source": [
    "head(\"pg345.txt\", 10, \"output.txt\")"
   ]
  },
  {
   "cell_type": "code",
   "execution_count": null,
   "id": "ea6fe6dc-41af-4d89-a21a-6a26cd068373",
   "metadata": {},
   "outputs": [],
   "source": [
    "# "
   ]
  },
  {
   "cell_type": "code",
   "execution_count": 91,
   "id": "ce6d2b47-0b39-4ea5-9dd7-15efa8a8016d",
   "metadata": {},
   "outputs": [],
   "source": [
    "# From a word list, how many words match a specified five letter word\n",
    "# Unfinished...\n",
    "import re\n",
    "\n",
    "def count_matches(wordlist, pattern):\n",
    "    count = 0\n",
    "    pattern\n",
    "    try:\n",
    "        with open(wordlist, \"r\") as fin:\n",
    "            # Iteratate through the file\n",
    "            for line in fin:\n",
    "                result = re.search(pattern, line)\n",
    "                if result != None:\n",
    "                    count += 1\n",
    "    except FileNotFoundError:\n",
    "        print(f\"Error: The file '{wordlist}' does not exst\")\n",
    "        return\n",
    "\n",
    "    return count"
   ]
  },
  {
   "cell_type": "code",
   "execution_count": 120,
   "id": "55906915-1ee3-40ea-9c96-3421a51b8f72",
   "metadata": {},
   "outputs": [
    {
     "data": {
      "text/plain": [
       "237"
      ]
     },
     "execution_count": 120,
     "metadata": {},
     "output_type": "execute_result"
    }
   ],
   "source": [
    "pattern = r\"\\b(pale|pales|paled|paleness|pallor)\"\n",
    "count_matches(\"pg1184.txt\", pattern)"
   ]
  },
  {
   "cell_type": "code",
   "execution_count": 107,
   "id": "3d510b65-2e03-4ce2-b93a-c197591a302b",
   "metadata": {},
   "outputs": [],
   "source": [
    "# Download the book from the web. \n",
    "import os\n",
    "\n",
    "if not os.path.exists('pg1184.txt'):\n",
    "    !wget https://www.gutenberg.org/cache/epub/1184/pg1184.txt"
   ]
  },
  {
   "cell_type": "code",
   "execution_count": null,
   "id": "9aa3f44f-ad11-4197-a9ec-89be3f32776b",
   "metadata": {},
   "outputs": [],
   "source": []
  },
  {
   "cell_type": "markdown",
   "id": "7e761de8-9584-4b7f-97fb-c8dfb1d98870",
   "metadata": {},
   "source": [
    "## 9. Lists"
   ]
  },
  {
   "cell_type": "markdown",
   "id": "2525b581-0cc7-461c-bc86-cff4ec7f7000",
   "metadata": {},
   "source": [
    "### EXAMPLES"
   ]
  },
  {
   "cell_type": "markdown",
   "id": "73d6b6fa-da5e-43e4-9010-69ae1eeddf57",
   "metadata": {},
   "source": [
    "#### A List is a Sequence"
   ]
  },
  {
   "cell_type": "code",
   "execution_count": 7,
   "id": "e85d1285-7b88-4473-b387-1be4186f0e71",
   "metadata": {},
   "outputs": [],
   "source": [
    "numbers = [42, 123]\n",
    "cheeses = ['Cheddar', 'Edam', 'Gouda']\n",
    "t = ['spam', 2.0, 5, [10, 20]]"
   ]
  },
  {
   "cell_type": "code",
   "execution_count": 9,
   "id": "39706ff2-d829-483a-bb63-23ba7b256e1f",
   "metadata": {},
   "outputs": [],
   "source": [
    "empty = []"
   ]
  },
  {
   "cell_type": "code",
   "execution_count": 11,
   "id": "3d874880-eab4-426a-9f88-658759f66339",
   "metadata": {},
   "outputs": [
    {
     "data": {
      "text/plain": [
       "3"
      ]
     },
     "execution_count": 11,
     "metadata": {},
     "output_type": "execute_result"
    }
   ],
   "source": [
    "len(cheeses)"
   ]
  },
  {
   "cell_type": "markdown",
   "id": "439d3c59-8e19-460f-a0c0-096e883882c6",
   "metadata": {},
   "source": [
    "#### Lists are Mutable"
   ]
  },
  {
   "cell_type": "code",
   "execution_count": 27,
   "id": "4e98bca9-6ab8-4d76-8c76-7c301dd12b5d",
   "metadata": {},
   "outputs": [
    {
     "data": {
      "text/plain": [
       "'Cheddar'"
      ]
     },
     "execution_count": 27,
     "metadata": {},
     "output_type": "execute_result"
    }
   ],
   "source": [
    "cheeses[0]"
   ]
  },
  {
   "cell_type": "code",
   "execution_count": 32,
   "id": "3a26076d-cdbb-4dc9-8ebb-7f6dbc135e86",
   "metadata": {},
   "outputs": [
    {
     "data": {
      "text/plain": [
       "[42, 17]"
      ]
     },
     "execution_count": 32,
     "metadata": {},
     "output_type": "execute_result"
    }
   ],
   "source": [
    "numbers[1] = 17\n",
    "numbers"
   ]
  },
  {
   "cell_type": "code",
   "execution_count": 38,
   "id": "d7f7257d-0864-4cc2-bf7d-527ee9ae255f",
   "metadata": {},
   "outputs": [
    {
     "data": {
      "text/plain": [
       "True"
      ]
     },
     "execution_count": 38,
     "metadata": {},
     "output_type": "execute_result"
    }
   ],
   "source": [
    "'Edam' in cheeses"
   ]
  },
  {
   "cell_type": "code",
   "execution_count": 42,
   "id": "bba7a9c9-444d-4eab-80aa-99209def87f4",
   "metadata": {},
   "outputs": [
    {
     "data": {
      "text/plain": [
       "False"
      ]
     },
     "execution_count": 42,
     "metadata": {},
     "output_type": "execute_result"
    }
   ],
   "source": [
    "'Wensleydale' in cheeses"
   ]
  },
  {
   "cell_type": "code",
   "execution_count": 51,
   "id": "93ab062c-04c0-4d40-9148-e07f42759895",
   "metadata": {},
   "outputs": [
    {
     "data": {
      "text/plain": [
       "4"
      ]
     },
     "execution_count": 51,
     "metadata": {},
     "output_type": "execute_result"
    }
   ],
   "source": [
    "len(t)"
   ]
  },
  {
   "cell_type": "code",
   "execution_count": 57,
   "id": "1b7a0f7f-0689-4fd6-8a5a-8b60050221f3",
   "metadata": {},
   "outputs": [
    {
     "data": {
      "text/plain": [
       "False"
      ]
     },
     "execution_count": 57,
     "metadata": {},
     "output_type": "execute_result"
    }
   ],
   "source": [
    "# in operator does not look into nested lists\n",
    "10 in t"
   ]
  },
  {
   "cell_type": "markdown",
   "id": "0372ffa2-80c7-4800-8a08-97b69cb106eb",
   "metadata": {},
   "source": [
    "#### List Slices"
   ]
  },
  {
   "cell_type": "code",
   "execution_count": 65,
   "id": "f93ceb4e-d93a-40cd-a18e-18e79ae63922",
   "metadata": {},
   "outputs": [
    {
     "data": {
      "text/plain": [
       "['b', 'c']"
      ]
     },
     "execution_count": 65,
     "metadata": {},
     "output_type": "execute_result"
    }
   ],
   "source": [
    "letters = ['a', 'b', 'c', 'd']\n",
    "letters[1:3]"
   ]
  },
  {
   "cell_type": "code",
   "execution_count": 69,
   "id": "b7a384c9-bc32-46df-aee1-8dbe103cca8d",
   "metadata": {},
   "outputs": [
    {
     "data": {
      "text/plain": [
       "['a', 'b']"
      ]
     },
     "execution_count": 69,
     "metadata": {},
     "output_type": "execute_result"
    }
   ],
   "source": [
    "letters[:2]"
   ]
  },
  {
   "cell_type": "code",
   "execution_count": 73,
   "id": "56ce5ec9-77ff-4870-bce2-5f92864b11fe",
   "metadata": {},
   "outputs": [
    {
     "data": {
      "text/plain": [
       "['c', 'd']"
      ]
     },
     "execution_count": 73,
     "metadata": {},
     "output_type": "execute_result"
    }
   ],
   "source": [
    "letters[2:]"
   ]
  },
  {
   "cell_type": "code",
   "execution_count": 81,
   "id": "2cc6ea54-aff1-4a3a-b8ef-a6f3dd872fb0",
   "metadata": {},
   "outputs": [
    {
     "data": {
      "text/plain": [
       "['a', 'b', 'c', 'd']"
      ]
     },
     "execution_count": 81,
     "metadata": {},
     "output_type": "execute_result"
    }
   ],
   "source": [
    "# Copy a list with the list function\n",
    "letters_copy = list(letters)\n",
    "letters_copy"
   ]
  },
  {
   "cell_type": "markdown",
   "id": "3e7cb383-4b03-472a-adbf-bcafaa1c8f5c",
   "metadata": {},
   "source": [
    "#### List Operations"
   ]
  },
  {
   "cell_type": "code",
   "execution_count": 89,
   "id": "9748ff7f-a255-4b8c-b09f-b2e5ab61036e",
   "metadata": {},
   "outputs": [
    {
     "data": {
      "text/plain": [
       "[1, 2, 3, 4]"
      ]
     },
     "execution_count": 89,
     "metadata": {},
     "output_type": "execute_result"
    }
   ],
   "source": [
    "# '+' operator concatentate lists\n",
    "t1 = [1, 2]\n",
    "t2 = [3, 4]\n",
    "t1 + t2"
   ]
  },
  {
   "cell_type": "code",
   "execution_count": 93,
   "id": "be8371dd-6052-470b-9a7c-6d458ca7d5bb",
   "metadata": {},
   "outputs": [
    {
     "data": {
      "text/plain": [
       "['spam', 'spam', 'spam', 'spam']"
      ]
     },
     "execution_count": 93,
     "metadata": {},
     "output_type": "execute_result"
    }
   ],
   "source": [
    "['spam'] * 4"
   ]
  },
  {
   "cell_type": "code",
   "execution_count": 97,
   "id": "93a5476a-a677-454a-80ee-8e2ef414dfbe",
   "metadata": {},
   "outputs": [
    {
     "data": {
      "text/plain": [
       "3"
      ]
     },
     "execution_count": 97,
     "metadata": {},
     "output_type": "execute_result"
    }
   ],
   "source": [
    "# No other mathematical operators work with lists, but sum, min and max do.\n",
    "sum(t1)"
   ]
  },
  {
   "cell_type": "code",
   "execution_count": 101,
   "id": "4d984a17-6a80-42dc-a3a5-fdcce06666bf",
   "metadata": {},
   "outputs": [
    {
     "name": "stdout",
     "output_type": "stream",
     "text": [
      "1 2\n"
     ]
    }
   ],
   "source": [
    "minimum = min(t1)\n",
    "maximum = max(t1)\n",
    "print(minimum, maximum)"
   ]
  },
  {
   "cell_type": "markdown",
   "id": "7bb070a9-e6d8-466e-a1dd-5b6b6b5cfe77",
   "metadata": {},
   "source": [
    "#### List Methods"
   ]
  },
  {
   "cell_type": "code",
   "execution_count": 115,
   "id": "d3d46110-10bf-4ae6-af4a-998052399fb8",
   "metadata": {},
   "outputs": [
    {
     "name": "stdout",
     "output_type": "stream",
     "text": [
      "['a', 'b', 'c', 'd', 'e', 'e', 'f', 'g']\n",
      "['a', 'b', 'c', 'd', 'e', 'e', 'f', 'g', 'e']\n",
      "['a', 'b', 'c', 'd', 'e', 'e', 'f', 'g', 'e', 'f', 'g']\n"
     ]
    }
   ],
   "source": [
    "print(letters)\n",
    "letters.append('e')\n",
    "print(letters)\n",
    "letters.extend(['f', 'g'])\n",
    "print(letters)"
   ]
  },
  {
   "cell_type": "code",
   "execution_count": 121,
   "id": "74f27b34-4af6-4078-8cff-9e762680db13",
   "metadata": {},
   "outputs": [
    {
     "name": "stdout",
     "output_type": "stream",
     "text": [
      "['a', 'b', 'c']\n",
      "['a', 'c']\n"
     ]
    }
   ],
   "source": [
    "# Remove an element from a list\n",
    "# If you know the index\n",
    "t = ['a', 'b', 'c']\n",
    "print(t)\n",
    "t.pop(1)\n",
    "print(t)\n"
   ]
  },
  {
   "cell_type": "code",
   "execution_count": 125,
   "id": "aa552f20-6037-422a-a460-3490c86c21d3",
   "metadata": {},
   "outputs": [
    {
     "name": "stdout",
     "output_type": "stream",
     "text": [
      "['a', 'b', 'c']\n",
      "['a', 'c']\n"
     ]
    }
   ],
   "source": [
    "# If you don't know the index\n",
    "t = ['a', 'b', 'c']\n",
    "print(t)\n",
    "t.remove('b')\n",
    "print(t)"
   ]
  },
  {
   "cell_type": "code",
   "execution_count": 129,
   "id": "11600b8e-de46-45d0-a85f-dd8f82b8624c",
   "metadata": {},
   "outputs": [
    {
     "ename": "ValueError",
     "evalue": "list.remove(x): x not in list",
     "output_type": "error",
     "traceback": [
      "\u001b[0;31m---------------------------------------------------------------------------\u001b[0m",
      "\u001b[0;31mValueError\u001b[0m                                Traceback (most recent call last)",
      "Cell \u001b[0;32mIn[129], line 2\u001b[0m\n\u001b[1;32m      1\u001b[0m \u001b[38;5;66;03m# If the element is not in the list..\u001b[39;00m\n\u001b[0;32m----> 2\u001b[0m \u001b[43mt\u001b[49m\u001b[38;5;241;43m.\u001b[39;49m\u001b[43mremove\u001b[49m\u001b[43m(\u001b[49m\u001b[38;5;124;43m'\u001b[39;49m\u001b[38;5;124;43md\u001b[39;49m\u001b[38;5;124;43m'\u001b[39;49m\u001b[43m)\u001b[49m\n",
      "\u001b[0;31mValueError\u001b[0m: list.remove(x): x not in list"
     ]
    }
   ],
   "source": [
    "# If the element is not in the list..\n",
    "t.remove('d')"
   ]
  },
  {
   "cell_type": "markdown",
   "id": "c67c436c-ec4d-4b98-937b-9e05e0e37424",
   "metadata": {},
   "source": [
    "#### List and Strings"
   ]
  },
  {
   "cell_type": "code",
   "execution_count": 136,
   "id": "1b27ba32-77bd-49f3-865e-7b67455e0cd4",
   "metadata": {},
   "outputs": [
    {
     "data": {
      "text/plain": [
       "['s', 'p', 'a', 'm']"
      ]
     },
     "execution_count": 136,
     "metadata": {},
     "output_type": "execute_result"
    }
   ],
   "source": [
    "# Convert a string to a list of characters\n",
    "s = 'spam'\n",
    "t = list(s)\n",
    "t"
   ]
  },
  {
   "cell_type": "code",
   "execution_count": 140,
   "id": "071f4746-ca41-4a3c-b00a-ea0c82ba17a4",
   "metadata": {},
   "outputs": [
    {
     "data": {
      "text/plain": [
       "['I', 'can', 'see', 'a', 'teapot']"
      ]
     },
     "execution_count": 140,
     "metadata": {},
     "output_type": "execute_result"
    }
   ],
   "source": [
    "# Break a string into words\n",
    "s = 'I can see a teapot'\n",
    "t = s.split()\n",
    "t"
   ]
  },
  {
   "cell_type": "code",
   "execution_count": 144,
   "id": "67595dd2-3d18-44da-a43f-8598a4d7c2a7",
   "metadata": {},
   "outputs": [
    {
     "data": {
      "text/plain": [
       "['ex', 'parrot']"
      ]
     },
     "execution_count": 144,
     "metadata": {},
     "output_type": "execute_result"
    }
   ],
   "source": [
    "# With the use of a delimiter\n",
    "s = 'ex-parrot'\n",
    "t = s.split('-')\n",
    "t"
   ]
  },
  {
   "cell_type": "code",
   "execution_count": 148,
   "id": "e6046640-5c4f-4428-907a-76c96e2e9323",
   "metadata": {},
   "outputs": [
    {
     "data": {
      "text/plain": [
       "'I can see a teapot'"
      ]
     },
     "execution_count": 148,
     "metadata": {},
     "output_type": "execute_result"
    }
   ],
   "source": [
    "# Join a list of strings\n",
    "delimeter = ' '\n",
    "t = ['I', 'can', 'see', 'a', 'teapot']\n",
    "s = delimeter.join(t)\n",
    "s"
   ]
  },
  {
   "cell_type": "markdown",
   "id": "b35b845a-ba66-4ff3-a72e-839799f952e2",
   "metadata": {},
   "source": [
    "#### Looping Through a List"
   ]
  },
  {
   "cell_type": "code",
   "execution_count": 153,
   "id": "59fb90fd-122e-4a4a-8e5e-405cd77340d5",
   "metadata": {},
   "outputs": [
    {
     "name": "stdout",
     "output_type": "stream",
     "text": [
      "Cheddar\n",
      "Edam\n",
      "Gouda\n"
     ]
    }
   ],
   "source": [
    "for cheese in cheeses:\n",
    "    print(cheese)"
   ]
  },
  {
   "cell_type": "code",
   "execution_count": 157,
   "id": "6322bde2-efbe-4ead-a359-355da7023a6d",
   "metadata": {},
   "outputs": [
    {
     "name": "stdout",
     "output_type": "stream",
     "text": [
      "I\n",
      "can\n",
      "see\n",
      "a\n",
      "teapot\n"
     ]
    }
   ],
   "source": [
    "s = 'I can see a teapot'\n",
    "\n",
    "for word in s.split():\n",
    "    print(word)"
   ]
  },
  {
   "cell_type": "code",
   "execution_count": 161,
   "id": "6cbb4003-e0bf-43d8-9acf-43ceb9fcc022",
   "metadata": {},
   "outputs": [],
   "source": [
    "# A for loop over an empty list never runs the indented statements\n",
    "for x in []:\n",
    "    print('This never happens')"
   ]
  },
  {
   "cell_type": "markdown",
   "id": "06fb6497-09c9-4040-8532-cdba913c1c91",
   "metadata": {},
   "source": [
    "#### Sorting Lists"
   ]
  },
  {
   "cell_type": "code",
   "execution_count": 166,
   "id": "1516a5b1-c31a-46e6-b6a1-62a9e77bc4fd",
   "metadata": {},
   "outputs": [
    {
     "data": {
      "text/plain": [
       "['a', 'b', 'c']"
      ]
     },
     "execution_count": 166,
     "metadata": {},
     "output_type": "execute_result"
    }
   ],
   "source": [
    "# Built-in function, sorted\n",
    "scramble = ['c', 'a', 'b']\n",
    "sorted(scramble)"
   ]
  },
  {
   "cell_type": "code",
   "execution_count": 170,
   "id": "33fb3d05-6aef-4970-8a52-396d5061c041",
   "metadata": {},
   "outputs": [
    {
     "data": {
      "text/plain": [
       "['c', 'a', 'b']"
      ]
     },
     "execution_count": 170,
     "metadata": {},
     "output_type": "execute_result"
    }
   ],
   "source": [
    "scramble"
   ]
  },
  {
   "cell_type": "code",
   "execution_count": 174,
   "id": "910ecc2a-fa55-4f8c-9c34-218e6c2c737f",
   "metadata": {},
   "outputs": [
    {
     "data": {
      "text/plain": [
       "['e', 'e', 'l', 'r', 's', 't', 't']"
      ]
     },
     "execution_count": 174,
     "metadata": {},
     "output_type": "execute_result"
    }
   ],
   "source": [
    "# Sorted works with any kind of sequence\n",
    "sorted('letters')"
   ]
  },
  {
   "cell_type": "code",
   "execution_count": 178,
   "id": "62b13224-e78f-426c-aba4-186db34d0d24",
   "metadata": {},
   "outputs": [
    {
     "data": {
      "text/plain": [
       "'eelrstt'"
      ]
     },
     "execution_count": 178,
     "metadata": {},
     "output_type": "execute_result"
    }
   ],
   "source": [
    "# Convert result to a list\n",
    "''.join(sorted('letters'))"
   ]
  },
  {
   "cell_type": "markdown",
   "id": "d3f81209-f432-4edc-b149-bd81fffdc02e",
   "metadata": {},
   "source": [
    "#### Objects and Values"
   ]
  },
  {
   "cell_type": "code",
   "execution_count": 183,
   "id": "500d5d6a-8599-4ea5-b064-f9526126cfab",
   "metadata": {},
   "outputs": [
    {
     "data": {
      "text/plain": [
       "True"
      ]
     },
     "execution_count": 183,
     "metadata": {},
     "output_type": "execute_result"
    }
   ],
   "source": [
    "# Identical objects\n",
    "a = 'banana'\n",
    "b = 'banana'\n",
    "a is b"
   ]
  },
  {
   "cell_type": "code",
   "execution_count": 187,
   "id": "a63c388c-75ad-42e3-b829-70b3667c4ca6",
   "metadata": {},
   "outputs": [
    {
     "data": {
      "text/plain": [
       "False"
      ]
     },
     "execution_count": 187,
     "metadata": {},
     "output_type": "execute_result"
    }
   ],
   "source": [
    "# Equivalent objects\n",
    "a = [1, 2, 3]\n",
    "b = [1, 2, 3]\n",
    "a is b"
   ]
  },
  {
   "cell_type": "markdown",
   "id": "766a37ac-ab7e-4425-904b-a8b09b30ab95",
   "metadata": {},
   "source": [
    "#### Aliasing"
   ]
  },
  {
   "cell_type": "code",
   "execution_count": 195,
   "id": "8f68ea30-8083-49d0-9f50-5ef0a8458cc6",
   "metadata": {},
   "outputs": [
    {
     "data": {
      "text/plain": [
       "True"
      ]
     },
     "execution_count": 195,
     "metadata": {},
     "output_type": "execute_result"
    }
   ],
   "source": [
    "a = [1, 2, 3]\n",
    "b = a\n",
    "b is a"
   ]
  },
  {
   "cell_type": "code",
   "execution_count": 199,
   "id": "87f28255-56ba-40ae-bdda-fe37f267223d",
   "metadata": {},
   "outputs": [
    {
     "data": {
      "text/plain": [
       "[5, 2, 3]"
      ]
     },
     "execution_count": 199,
     "metadata": {},
     "output_type": "execute_result"
    }
   ],
   "source": [
    "b[0] = 5\n",
    "a"
   ]
  },
  {
   "cell_type": "markdown",
   "id": "970c8c49-ad7f-40b8-b43f-fe9f3122bdfc",
   "metadata": {},
   "source": [
    "#### List Auguments"
   ]
  },
  {
   "cell_type": "code",
   "execution_count": 210,
   "id": "3a16971b-2c75-4013-8c18-4181e919e309",
   "metadata": {},
   "outputs": [],
   "source": [
    "def pop_first(lst):\n",
    "    return lst.pop(0)"
   ]
  },
  {
   "cell_type": "code",
   "execution_count": 214,
   "id": "a2c7fb5c-8979-4448-89b5-0c66062c402c",
   "metadata": {},
   "outputs": [
    {
     "data": {
      "text/plain": [
       "'a'"
      ]
     },
     "execution_count": 214,
     "metadata": {},
     "output_type": "execute_result"
    }
   ],
   "source": [
    "letters = ['a', 'b', 'c']\n",
    "pop_first(letters)"
   ]
  },
  {
   "cell_type": "code",
   "execution_count": 218,
   "id": "9f7c7613-2e99-4466-8b87-beb7b555587f",
   "metadata": {},
   "outputs": [
    {
     "data": {
      "text/plain": [
       "['b', 'c']"
      ]
     },
     "execution_count": 218,
     "metadata": {},
     "output_type": "execute_result"
    }
   ],
   "source": [
    "letters"
   ]
  },
  {
   "cell_type": "markdown",
   "id": "8152cef0-2538-486f-8fc8-b35dc2268b55",
   "metadata": {},
   "source": [
    "#### Making a Word List"
   ]
  },
  {
   "cell_type": "code",
   "execution_count": 223,
   "id": "133514ba-11e1-4f29-9974-0900cb2bfc76",
   "metadata": {},
   "outputs": [
    {
     "data": {
      "text/plain": [
       "234936"
      ]
     },
     "execution_count": 223,
     "metadata": {},
     "output_type": "execute_result"
    }
   ],
   "source": [
    "# Read a word list file and put it in a list\n",
    "word_list = []\n",
    "\n",
    "for line in open('web2.txt'):\n",
    "    word = line.strip()\n",
    "    word_list.append(word)\n",
    "\n",
    "len(word_list)"
   ]
  },
  {
   "cell_type": "code",
   "execution_count": 227,
   "id": "4e972405-a967-4514-98da-31d27234ab47",
   "metadata": {},
   "outputs": [
    {
     "data": {
      "text/plain": [
       "234936"
      ]
     },
     "execution_count": 227,
     "metadata": {},
     "output_type": "execute_result"
    }
   ],
   "source": [
    "# Another way to do it\n",
    "string = open('web2.txt').read()\n",
    "word_list = string.split()\n",
    "len(word_list)"
   ]
  },
  {
   "cell_type": "code",
   "execution_count": 231,
   "id": "c099b5e8-6f74-4a23-9de3-847510c2031d",
   "metadata": {},
   "outputs": [
    {
     "data": {
      "text/plain": [
       "True"
      ]
     },
     "execution_count": 231,
     "metadata": {},
     "output_type": "execute_result"
    }
   ],
   "source": [
    "# Search for a word in the list\n",
    "'demotic' in word_list"
   ]
  },
  {
   "cell_type": "code",
   "execution_count": 235,
   "id": "442544f4-8beb-49fd-a901-e2843245f098",
   "metadata": {},
   "outputs": [
    {
     "data": {
      "text/plain": [
       "False"
      ]
     },
     "execution_count": 235,
     "metadata": {},
     "output_type": "execute_result"
    }
   ],
   "source": [
    "'contrafibularities' in word_list"
   ]
  },
  {
   "cell_type": "markdown",
   "id": "719df018-26d5-4ee3-9b09-a5fcd28da46c",
   "metadata": {},
   "source": [
    "#### Debugging"
   ]
  },
  {
   "cell_type": "code",
   "execution_count": null,
   "id": "ae0963a4-98d3-4a39-9e3d-791c6e579f6f",
   "metadata": {},
   "outputs": [],
   "source": []
  },
  {
   "cell_type": "markdown",
   "id": "e790d5d8-e214-4448-bd0b-0dcc1a41a77a",
   "metadata": {},
   "source": [
    "## 10. Dictionaries"
   ]
  },
  {
   "cell_type": "markdown",
   "id": "6217f40b-1490-4c64-b4cf-45ac3e1d8eb2",
   "metadata": {},
   "source": [
    "#### A Dictionary is a Mapping"
   ]
  },
  {
   "cell_type": "code",
   "execution_count": 241,
   "id": "ca0d3d04-e619-41a0-b8b1-fc16ddc1721e",
   "metadata": {},
   "outputs": [
    {
     "data": {
      "text/plain": [
       "{}"
      ]
     },
     "execution_count": 241,
     "metadata": {},
     "output_type": "execute_result"
    }
   ],
   "source": [
    "numbers = {}\n",
    "numbers"
   ]
  },
  {
   "cell_type": "code",
   "execution_count": 247,
   "id": "3d3e2b38-43bc-45ce-bd94-b92cbee3f904",
   "metadata": {},
   "outputs": [
    {
     "data": {
      "text/plain": [
       "{'zero': 0}"
      ]
     },
     "execution_count": 247,
     "metadata": {},
     "output_type": "execute_result"
    }
   ],
   "source": [
    "numbers['zero'] = 0\n",
    "numbers"
   ]
  },
  {
   "cell_type": "code",
   "execution_count": 253,
   "id": "d3784f65-7020-47b7-ac83-d2823e0b7c17",
   "metadata": {},
   "outputs": [
    {
     "data": {
      "text/plain": [
       "{'zero': 0, 'one': 1, 'two': 2}"
      ]
     },
     "execution_count": 253,
     "metadata": {},
     "output_type": "execute_result"
    }
   ],
   "source": [
    "numbers['one'] = 1\n",
    "numbers['two'] = 2\n",
    "numbers"
   ]
  },
  {
   "cell_type": "code",
   "execution_count": 257,
   "id": "dce1c55a-9744-420c-86b9-5cc456e0ad60",
   "metadata": {},
   "outputs": [
    {
     "data": {
      "text/plain": [
       "2"
      ]
     },
     "execution_count": 257,
     "metadata": {},
     "output_type": "execute_result"
    }
   ],
   "source": [
    "numbers['two']"
   ]
  },
  {
   "cell_type": "code",
   "execution_count": 261,
   "id": "998b9658-3cfc-4959-a9af-4d8099168e92",
   "metadata": {},
   "outputs": [
    {
     "ename": "NameError",
     "evalue": "name 'number' is not defined",
     "output_type": "error",
     "traceback": [
      "\u001b[0;31m---------------------------------------------------------------------------\u001b[0m",
      "\u001b[0;31mNameError\u001b[0m                                 Traceback (most recent call last)",
      "Cell \u001b[0;32mIn[261], line 1\u001b[0m\n\u001b[0;32m----> 1\u001b[0m \u001b[43mnumber\u001b[49m[\u001b[38;5;124m'\u001b[39m\u001b[38;5;124mthree\u001b[39m\u001b[38;5;124m'\u001b[39m]\n",
      "\u001b[0;31mNameError\u001b[0m: name 'number' is not defined"
     ]
    }
   ],
   "source": [
    "number['three']"
   ]
  },
  {
   "cell_type": "code",
   "execution_count": 265,
   "id": "17958c5b-4057-405a-9cb3-8f749f50a99e",
   "metadata": {},
   "outputs": [
    {
     "data": {
      "text/plain": [
       "3"
      ]
     },
     "execution_count": 265,
     "metadata": {},
     "output_type": "execute_result"
    }
   ],
   "source": [
    "len(numbers)"
   ]
  },
  {
   "cell_type": "markdown",
   "id": "3f1854b0-5205-4c3b-971a-00f0ce9d52e3",
   "metadata": {},
   "source": [
    "#### Creating Dictionaries"
   ]
  },
  {
   "cell_type": "code",
   "execution_count": 270,
   "id": "a6a97953-3c89-4521-8d6e-20e4a9b830b2",
   "metadata": {},
   "outputs": [],
   "source": [
    "numbers = {'zero': 0, 'one': 1, 'two': 2}"
   ]
  },
  {
   "cell_type": "code",
   "execution_count": 274,
   "id": "a3ee9d02-71b6-49bc-949c-b1e026c19765",
   "metadata": {},
   "outputs": [
    {
     "data": {
      "text/plain": [
       "{}"
      ]
     },
     "execution_count": 274,
     "metadata": {},
     "output_type": "execute_result"
    }
   ],
   "source": [
    "empty = dict()\n",
    "empty"
   ]
  },
  {
   "cell_type": "code",
   "execution_count": 278,
   "id": "e2021908-ebc4-4189-b203-8e353fc54913",
   "metadata": {},
   "outputs": [
    {
     "data": {
      "text/plain": [
       "{'zero': 0, 'one': 1, 'two': 2}"
      ]
     },
     "execution_count": 278,
     "metadata": {},
     "output_type": "execute_result"
    }
   ],
   "source": [
    "# Make a copy of a dictionary\n",
    "numbers_copy = dict(numbers)\n",
    "numbers_copy"
   ]
  },
  {
   "cell_type": "markdown",
   "id": "e24316ba-a5b0-4b53-b73e-61035a038479",
   "metadata": {},
   "source": [
    "#### The `in` Operator"
   ]
  },
  {
   "cell_type": "code",
   "execution_count": 283,
   "id": "6028d641-3f35-4617-ac33-5008deafdf24",
   "metadata": {},
   "outputs": [
    {
     "data": {
      "text/plain": [
       "True"
      ]
     },
     "execution_count": 283,
     "metadata": {},
     "output_type": "execute_result"
    }
   ],
   "source": [
    "# Works on the key\n",
    "'one' in numbers"
   ]
  },
  {
   "cell_type": "code",
   "execution_count": 287,
   "id": "ace1f468-7d6f-4dbf-a1ca-69f207cd1ee1",
   "metadata": {},
   "outputs": [
    {
     "data": {
      "text/plain": [
       "False"
      ]
     },
     "execution_count": 287,
     "metadata": {},
     "output_type": "execute_result"
    }
   ],
   "source": [
    "1 in numbers"
   ]
  },
  {
   "cell_type": "code",
   "execution_count": 291,
   "id": "61846e48-e62a-453e-9da8-71e75d71fee0",
   "metadata": {},
   "outputs": [
    {
     "data": {
      "text/plain": [
       "True"
      ]
     },
     "execution_count": 291,
     "metadata": {},
     "output_type": "execute_result"
    }
   ],
   "source": [
    "# To find a value\n",
    "1 in numbers.values()"
   ]
  },
  {
   "cell_type": "code",
   "execution_count": 313,
   "id": "475629c1-9bb5-4219-b47e-3f446b57c428",
   "metadata": {},
   "outputs": [
    {
     "data": {
      "text/plain": [
       "234936"
      ]
     },
     "execution_count": 313,
     "metadata": {},
     "output_type": "execute_result"
    }
   ],
   "source": [
    "# Demonstrating the efficiency of the in operator\n",
    "file = 'web2.txt'\n",
    "\n",
    "try:\n",
    "    with open(file, 'r') as word_list:\n",
    "        word_list = word_list.read().split()\n",
    "        n = len(word_list)\n",
    "except FileNotFoundError:\n",
    "    print(\"File not found\")\n",
    "\n",
    "n"
   ]
  },
  {
   "cell_type": "code",
   "execution_count": 317,
   "id": "ee75d7c0-b4f6-45af-a315-ab2c2c38c305",
   "metadata": {},
   "outputs": [],
   "source": [
    "def reverse_word(word):\n",
    "    return ''.join(reversed(word))"
   ]
  },
  {
   "cell_type": "code",
   "execution_count": 321,
   "id": "ec58a04d-36be-47b7-8205-a5d144a29c25",
   "metadata": {},
   "outputs": [],
   "source": [
    "# Loop thru the wordlist and check if the reversed word is in the list\n",
    "def too_slow():\n",
    "    count = 0\n",
    "    for word in word_list:\n",
    "        if reverse_word(word) in word_list:\n",
    "            count += 1\n",
    "    return count"
   ]
  },
  {
   "cell_type": "code",
   "execution_count": 325,
   "id": "32ae7494-16c2-4850-97e7-8a3409891f7d",
   "metadata": {},
   "outputs": [],
   "source": [
    "# result = too_slow()\n",
    "# result"
   ]
  },
  {
   "cell_type": "code",
   "execution_count": 331,
   "id": "43474c9a-4ef4-4690-a295-2c9b3b7a9bc0",
   "metadata": {},
   "outputs": [],
   "source": [
    "# A faster way to do it using a dictionary\n",
    "word_dict = {}\n",
    "# Copy the word list into a dictionary\n",
    "for word in word_list:\n",
    "    word_dict[word] = 1"
   ]
  },
  {
   "cell_type": "code",
   "execution_count": 339,
   "id": "bfefeb5a-93e6-4a0a-8767-815654c23c65",
   "metadata": {},
   "outputs": [],
   "source": [
    "def much_faster():\n",
    "    count = 0\n",
    "    for word in word_dict:\n",
    "        if reverse_word(word) in word_dict:\n",
    "            count += 1\n",
    "    return count"
   ]
  },
  {
   "cell_type": "code",
   "execution_count": 343,
   "id": "9fffdeb6-77a3-478a-8c6f-7d46da39b497",
   "metadata": {},
   "outputs": [
    {
     "name": "stdout",
     "output_type": "stream",
     "text": [
      "1091\n"
     ]
    }
   ],
   "source": [
    "print(much_faster())"
   ]
  },
  {
   "cell_type": "markdown",
   "id": "ff83a11f-2ba6-43e7-bcda-7e12657a7222",
   "metadata": {},
   "source": [
    "#### A Collection of Counters"
   ]
  },
  {
   "cell_type": "code",
   "execution_count": 346,
   "id": "2c050491-25b4-496c-a803-7a5393ea1543",
   "metadata": {},
   "outputs": [],
   "source": [
    "# Count how many times each letter appears in a string\n",
    "def value_counts(string):\n",
    "    counter = {}\n",
    "    for letter in string:\n",
    "        if letter not in counter:\n",
    "            counter[letter] = 1\n",
    "        else:\n",
    "            counter[letter] += 1\n",
    "    return counter"
   ]
  },
  {
   "cell_type": "code",
   "execution_count": 350,
   "id": "cf117113-9f01-4f5a-820d-7a37431c1ac4",
   "metadata": {},
   "outputs": [
    {
     "data": {
      "text/plain": [
       "{'I': 1,\n",
       " ' ': 4,\n",
       " 'c': 1,\n",
       " 'a': 3,\n",
       " 'n': 1,\n",
       " 's': 1,\n",
       " 'e': 3,\n",
       " 't': 2,\n",
       " 'p': 1,\n",
       " 'o': 1}"
      ]
     },
     "execution_count": 350,
     "metadata": {},
     "output_type": "execute_result"
    }
   ],
   "source": [
    "counter = value_counts(\"I can see a teapot\")\n",
    "counter"
   ]
  },
  {
   "cell_type": "markdown",
   "id": "013ad329-642f-48ca-a955-0a356e434df8",
   "metadata": {},
   "source": [
    "#### Looping and Dictionaries"
   ]
  },
  {
   "cell_type": "code",
   "execution_count": 356,
   "id": "f4917ff3-b3fc-4c87-b56a-f7365d065ed1",
   "metadata": {},
   "outputs": [
    {
     "data": {
      "text/plain": [
       "{'b': 1, 'a': 3, 'n': 2}"
      ]
     },
     "execution_count": 356,
     "metadata": {},
     "output_type": "execute_result"
    }
   ],
   "source": [
    "counter = value_counts('banana')\n",
    "counter"
   ]
  },
  {
   "cell_type": "code",
   "execution_count": 360,
   "id": "c627e544-f650-4575-bdc3-14ef980406a2",
   "metadata": {},
   "outputs": [
    {
     "name": "stdout",
     "output_type": "stream",
     "text": [
      "b\n",
      "a\n",
      "n\n"
     ]
    }
   ],
   "source": [
    "# Print the keys\n",
    "for key in counter:\n",
    "    print(key)"
   ]
  },
  {
   "cell_type": "code",
   "execution_count": 366,
   "id": "2b2e10ba-dc7b-425f-95a5-e91f61c26e27",
   "metadata": {},
   "outputs": [
    {
     "name": "stdout",
     "output_type": "stream",
     "text": [
      "1\n",
      "3\n",
      "2\n"
     ]
    }
   ],
   "source": [
    "# Print the values\n",
    "for value in counter.values():\n",
    "    print(value)"
   ]
  },
  {
   "cell_type": "code",
   "execution_count": 370,
   "id": "d6a815f5-0348-4508-807c-d495ad8e9fcb",
   "metadata": {},
   "outputs": [
    {
     "name": "stdout",
     "output_type": "stream",
     "text": [
      "b 1\n",
      "a 3\n",
      "n 2\n"
     ]
    }
   ],
   "source": [
    "# Print both key and value\n",
    "for key in counter:\n",
    "    value = counter[key]\n",
    "    print(key, value)"
   ]
  },
  {
   "cell_type": "markdown",
   "id": "19bc03b6-b20e-4e43-8ddf-2d56768844a2",
   "metadata": {},
   "source": [
    "#### Lists and Dictionaries"
   ]
  },
  {
   "cell_type": "code",
   "execution_count": 375,
   "id": "9df6d8ba-4158-4d2d-bc51-7de316a7cfe8",
   "metadata": {},
   "outputs": [
    {
     "data": {
      "text/plain": [
       "{4: ['r', 'o', 'u', 's']}"
      ]
     },
     "execution_count": 375,
     "metadata": {},
     "output_type": "execute_result"
    }
   ],
   "source": [
    "d = {4: ['r', 'o', 'u', 's']}\n",
    "d"
   ]
  },
  {
   "cell_type": "markdown",
   "id": "992a987d-4e08-4180-bfd9-ff133302c171",
   "metadata": {},
   "source": [
    "#### Accumulating a List"
   ]
  },
  {
   "cell_type": "code",
   "execution_count": 380,
   "id": "54afdc44-acd6-486b-bfbb-ff008368e009",
   "metadata": {},
   "outputs": [],
   "source": [
    "def is_palindrome(word):\n",
    "    \"\"\"Check if a word is a palindrome\"\"\"\n",
    "    return reverse_word(word) == word"
   ]
  },
  {
   "cell_type": "code",
   "execution_count": 384,
   "id": "7733c20e-d554-43ed-978c-e0524ed8d432",
   "metadata": {},
   "outputs": [
    {
     "data": {
      "text/plain": [
       "161"
      ]
     },
     "execution_count": 384,
     "metadata": {},
     "output_type": "execute_result"
    }
   ],
   "source": [
    "# Count the the number of palindromes\n",
    "count = 0\n",
    "\n",
    "for word in word_dict:\n",
    "    if is_palindrome(word): \n",
    "        count += 1\n",
    "\n",
    "count"
   ]
  },
  {
   "cell_type": "code",
   "execution_count": 388,
   "id": "d5cd2c9c-f700-4e86-b5f7-0e89a9dbb9aa",
   "metadata": {},
   "outputs": [
    {
     "data": {
      "text/plain": [
       "['A', 'a', 'aa', 'aba', 'acca', 'adda', 'affa', 'aga', 'aha', 'ajaja']"
      ]
     },
     "execution_count": 388,
     "metadata": {},
     "output_type": "execute_result"
    }
   ],
   "source": [
    "# Make a list of palindromes\n",
    "palindromes = []\n",
    "\n",
    "for word in word_dict:\n",
    "    if is_palindrome(word):\n",
    "        palindromes.append(word)\n",
    "\n",
    "palindromes[:10]"
   ]
  },
  {
   "cell_type": "code",
   "execution_count": 392,
   "id": "ce9ddc7c-1ae0-4606-8861-06a1ca7f7aca",
   "metadata": {},
   "outputs": [
    {
     "data": {
      "text/plain": [
       "['deedeed', 'murdrum', 'repaper', 'reviver', 'rotator', 'sooloos']"
      ]
     },
     "execution_count": 392,
     "metadata": {},
     "output_type": "execute_result"
    }
   ],
   "source": [
    "# Refine the list of palindromes\n",
    "long_palindromes = []\n",
    "\n",
    "for word in palindromes: \n",
    "    if len(word) >= 7:\n",
    "        long_palindromes.append(word)\n",
    "\n",
    "long_palindromes"
   ]
  },
  {
   "cell_type": "markdown",
   "id": "7b2575be-9c82-427a-966b-209783b74e5d",
   "metadata": {},
   "source": [
    "#### Memos"
   ]
  },
  {
   "cell_type": "code",
   "execution_count": 405,
   "id": "205433fd-b967-47e5-bbb4-616fd4cc77ce",
   "metadata": {},
   "outputs": [],
   "source": [
    "def fibonacci(n):\n",
    "    \"\"\"Generate the nth fibonacci number\"\"\"\n",
    "    if n == 0:\n",
    "        return 0\n",
    "\n",
    "    if n == 1:\n",
    "        return 1\n",
    "\n",
    "    return fibonacci(n-1) + fibonacci(n-2)"
   ]
  },
  {
   "cell_type": "code",
   "execution_count": 443,
   "id": "196f91ec-5b8f-47f1-bc62-1f0e04f0bc1c",
   "metadata": {},
   "outputs": [
    {
     "data": {
      "text/plain": [
       "9227465"
      ]
     },
     "execution_count": 443,
     "metadata": {},
     "output_type": "execute_result"
    }
   ],
   "source": [
    "fibonacci(35)"
   ]
  },
  {
   "cell_type": "code",
   "execution_count": 451,
   "id": "ce65b17f-1403-494e-bdca-79e4286fad52",
   "metadata": {},
   "outputs": [],
   "source": [
    "# Using memoization\n",
    "known = {0:0, 1:1}\n",
    "\n",
    "def fibonacci_memo(n):\n",
    "    if n in known:\n",
    "        return known[n]\n",
    "\n",
    "    res = fibonacci_memo(n-1) + fibonacci_memo(n-2)\n",
    "    known[n] = res\n",
    "    return res"
   ]
  },
  {
   "cell_type": "code",
   "execution_count": 453,
   "id": "e8ac45c4-15ca-4fd8-9497-ddbf422a9290",
   "metadata": {},
   "outputs": [
    {
     "data": {
      "text/plain": [
       "12586269025"
      ]
     },
     "execution_count": 453,
     "metadata": {},
     "output_type": "execute_result"
    }
   ],
   "source": [
    "fibonacci_memo(50)"
   ]
  },
  {
   "cell_type": "markdown",
   "id": "3b448778-9d9e-415f-a06c-09c2249c47b4",
   "metadata": {},
   "source": [
    "## 11. Tuples"
   ]
  },
  {
   "cell_type": "markdown",
   "id": "0663fc12-feb9-4c45-9689-3abcf0d7ad57",
   "metadata": {},
   "source": [
    "## 12. Text Analysis and Generation"
   ]
  },
  {
   "cell_type": "markdown",
   "id": "412162aa-5afc-4252-bb5b-85a43264aa9e",
   "metadata": {},
   "source": [
    "## 13. Files and Databases"
   ]
  },
  {
   "cell_type": "markdown",
   "id": "2960a65f-59ce-4e24-852e-66fb552a36cc",
   "metadata": {},
   "source": [
    "## 14. Classes and Functions"
   ]
  },
  {
   "cell_type": "markdown",
   "id": "0a018514-1a83-4c7f-8cc8-c6cf6e3ac11b",
   "metadata": {},
   "source": [
    "## 15. Classesand Methods"
   ]
  },
  {
   "cell_type": "markdown",
   "id": "33c81e9c-0e95-4963-8964-1936c2edc7e2",
   "metadata": {},
   "source": [
    "## 16. Classes and Objects"
   ]
  },
  {
   "cell_type": "markdown",
   "id": "bab30132-9a0a-4723-b088-c067e33f660a",
   "metadata": {},
   "source": [
    "## 17. Inheritance"
   ]
  },
  {
   "cell_type": "markdown",
   "id": "f018ebbd-16a0-41f6-8f5d-a2894b72766a",
   "metadata": {},
   "source": [
    "## 18. Final Thoughts"
   ]
  }
 ],
 "metadata": {
  "kernelspec": {
   "display_name": "Python 3 (ipykernel)",
   "language": "python",
   "name": "python3"
  },
  "language_info": {
   "codemirror_mode": {
    "name": "ipython",
    "version": 3
   },
   "file_extension": ".py",
   "mimetype": "text/x-python",
   "name": "python",
   "nbconvert_exporter": "python",
   "pygments_lexer": "ipython3",
   "version": "3.10.14"
  }
 },
 "nbformat": 4,
 "nbformat_minor": 5
}
