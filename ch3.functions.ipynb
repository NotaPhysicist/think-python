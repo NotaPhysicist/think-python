{
 "cells": [
  {
   "cell_type": "markdown",
   "id": "bcb93c30-9430-4378-bc7f-a3da9b0217e4",
   "metadata": {},
   "source": [
    "## Chapter 2 Theory"
   ]
  },
  {
   "cell_type": "code",
   "execution_count": 59,
   "id": "f120fdd2-f868-4292-a8ba-f80037ee080b",
   "metadata": {},
   "outputs": [
    {
     "name": "stdout",
     "output_type": "stream",
     "text": [
      "I'm a lumberjack, and I'm okay.\n",
      "I sleep all night and I work all day.\n"
     ]
    }
   ],
   "source": [
    "def print_lyrics():\n",
    "    print(\"I'm a lumberjack, and I'm okay.\")\n",
    "    print(\"I sleep all night and I work all day.\")\n",
    "\n",
    "print_lyrics()"
   ]
  },
  {
   "cell_type": "code",
   "execution_count": 9,
   "id": "cdef7c08-1b84-4f81-94db-cff0af6c1947",
   "metadata": {},
   "outputs": [
    {
     "data": {
      "text/plain": [
       "<function __main__.print_lyrics()>"
      ]
     },
     "execution_count": 9,
     "metadata": {},
     "output_type": "execute_result"
    }
   ],
   "source": [
    "print_lyrics"
   ]
  },
  {
   "cell_type": "code",
   "execution_count": 13,
   "id": "1819df48-69bf-4124-9978-2ef47c76d2bf",
   "metadata": {},
   "outputs": [
    {
     "name": "stdout",
     "output_type": "stream",
     "text": [
      "Dennis Moore, \n",
      "Dennis Moore, \n"
     ]
    }
   ],
   "source": [
    "def print_twice(string):\n",
    "    print(string)\n",
    "    print(string)\n",
    "\n",
    "print_twice(\"Dennis Moore, \")"
   ]
  },
  {
   "cell_type": "code",
   "execution_count": 17,
   "id": "16ad981f-1087-4d39-ac0f-45cec0b27e68",
   "metadata": {},
   "outputs": [
    {
     "name": "stdout",
     "output_type": "stream",
     "text": [
      "Hello\n",
      "Hello\n"
     ]
    }
   ],
   "source": [
    "fn_alias = print_twice\n",
    "fn_alias(\"Hello\")"
   ]
  },
  {
   "cell_type": "code",
   "execution_count": 21,
   "id": "389465a4-26af-451c-89c6-d95441759ede",
   "metadata": {},
   "outputs": [],
   "source": [
    "def repeat(word, n):\n",
    "    print(word * n)"
   ]
  },
  {
   "cell_type": "code",
   "execution_count": 25,
   "id": "4daa94c2-8c4e-4a5e-8bbf-22d0c33c54c2",
   "metadata": {},
   "outputs": [
    {
     "name": "stdout",
     "output_type": "stream",
     "text": [
      "Spam, Spam, Spam, Spam, \n"
     ]
    }
   ],
   "source": [
    "spam = \"Spam, \"\n",
    "repeat(spam, 4)"
   ]
  },
  {
   "cell_type": "code",
   "execution_count": 31,
   "id": "8029fd76-8fba-466b-8f62-35de83a1b910",
   "metadata": {},
   "outputs": [
    {
     "name": "stdout",
     "output_type": "stream",
     "text": [
      "Spam, Spam, Spam, Spam, \n",
      "Spam, Spam, Spam, Spam, \n"
     ]
    }
   ],
   "source": [
    "def first_two_lines():\n",
    "    repeat(spam, 4)\n",
    "    repeat(spam, 4)\n",
    "\n",
    "first_two_lines()"
   ]
  },
  {
   "cell_type": "code",
   "execution_count": 35,
   "id": "7ae73776-1851-4d1d-9ef0-b18e0689ff40",
   "metadata": {},
   "outputs": [
    {
     "name": "stdout",
     "output_type": "stream",
     "text": [
      "Spam, Spam, \n",
      "(Lovely Spam, Wonderful Spam!)\n",
      "Spam, Spam, \n"
     ]
    }
   ],
   "source": [
    "def last_three_lines():\n",
    "    repeat(spam, 2)\n",
    "    print(\"(Lovely Spam, Wonderful Spam!)\")\n",
    "    repeat(spam, 2)\n",
    "\n",
    "last_three_lines()"
   ]
  },
  {
   "cell_type": "code",
   "execution_count": 39,
   "id": "21e4bd73-de9d-4b4d-a36b-5146c6e11e6d",
   "metadata": {},
   "outputs": [
    {
     "name": "stdout",
     "output_type": "stream",
     "text": [
      "Spam, Spam, Spam, Spam, \n",
      "Spam, Spam, Spam, Spam, \n",
      "Spam, Spam, \n",
      "(Lovely Spam, Wonderful Spam!)\n",
      "Spam, Spam, \n"
     ]
    }
   ],
   "source": [
    "def print_verse():\n",
    "    first_two_lines()\n",
    "    last_three_lines()\n",
    "\n",
    "print_verse()"
   ]
  },
  {
   "cell_type": "code",
   "execution_count": 43,
   "id": "6574cd05-cbd6-4dd7-a89c-6ed7b9bf2a84",
   "metadata": {},
   "outputs": [
    {
     "name": "stdout",
     "output_type": "stream",
     "text": [
      "0\n",
      "1\n"
     ]
    }
   ],
   "source": [
    "for i in range(2):\n",
    "    print(i)"
   ]
  },
  {
   "cell_type": "code",
   "execution_count": 47,
   "id": "fc4acd07-7548-4fcb-a0ae-7a553d508e3d",
   "metadata": {},
   "outputs": [
    {
     "name": "stdout",
     "output_type": "stream",
     "text": [
      "Verse 0\n",
      "Spam, Spam, Spam, Spam, \n",
      "Spam, Spam, Spam, Spam, \n",
      "Spam, Spam, \n",
      "(Lovely Spam, Wonderful Spam!)\n",
      "Spam, Spam, \n",
      "\n",
      "Verse 1\n",
      "Spam, Spam, Spam, Spam, \n",
      "Spam, Spam, Spam, Spam, \n",
      "Spam, Spam, \n",
      "(Lovely Spam, Wonderful Spam!)\n",
      "Spam, Spam, \n",
      "\n"
     ]
    }
   ],
   "source": [
    "for i in range(2):\n",
    "    print(\"Verse\", i)\n",
    "    print_verse()\n",
    "    print()"
   ]
  },
  {
   "cell_type": "code",
   "execution_count": 51,
   "id": "f666b57f-a731-411c-bff0-94f6f1b0b7ad",
   "metadata": {},
   "outputs": [
    {
     "name": "stdout",
     "output_type": "stream",
     "text": [
      "Spam, Spam, Spam, Spam, \n",
      "Spam, Spam, Spam, Spam, \n",
      "Spam, Spam, \n",
      "(Lovely Spam, Wonderful Spam!)\n",
      "Spam, Spam, \n",
      "\n",
      "Spam, Spam, Spam, Spam, \n",
      "Spam, Spam, Spam, Spam, \n",
      "Spam, Spam, \n",
      "(Lovely Spam, Wonderful Spam!)\n",
      "Spam, Spam, \n",
      "\n",
      "Spam, Spam, Spam, Spam, \n",
      "Spam, Spam, Spam, Spam, \n",
      "Spam, Spam, \n",
      "(Lovely Spam, Wonderful Spam!)\n",
      "Spam, Spam, \n",
      "\n"
     ]
    }
   ],
   "source": [
    "def print_n_verses(n):\n",
    "    for i in range(n):\n",
    "        print_verse();\n",
    "        print()\n",
    "\n",
    "print_n_verses(3)"
   ]
  },
  {
   "cell_type": "code",
   "execution_count": 62,
   "id": "cc377e2d-a258-47ba-8c9d-f5c71d96df27",
   "metadata": {},
   "outputs": [],
   "source": [
    "def cat_twice(part1, part2):\n",
    "    cat = part1 + part2\n",
    "    print_twice(cat)"
   ]
  },
  {
   "cell_type": "code",
   "execution_count": 68,
   "id": "6e642a34-0284-4997-84e9-bea7df35fc87",
   "metadata": {},
   "outputs": [
    {
     "name": "stdout",
     "output_type": "stream",
     "text": [
      "Always look on the bright side of life.\n",
      "Always look on the bright side of life.\n"
     ]
    }
   ],
   "source": [
    "line1 = \"Always look on the \"\n",
    "line2 = \"bright side of life.\"\n",
    "cat_twice(line1, line2)"
   ]
  },
  {
   "cell_type": "markdown",
   "id": "8b8b52a9-f879-461a-a11c-0616822d749d",
   "metadata": {},
   "source": [
    "## Exercises"
   ]
  },
  {
   "cell_type": "code",
   "execution_count": 93,
   "id": "d7ef5cd9-6a88-4e93-a9d1-5ddc8e6d4507",
   "metadata": {},
   "outputs": [],
   "source": [
    "def print_right(text):\n",
    "    \"\"\"\n",
    "        This function takes a string as a parameter and prints the string \n",
    "        with enough leading spaces that the last letter of the string is \n",
    "        in the 40th column of the display. \n",
    "\n",
    "        @Params: text (str) the string to be printed\n",
    "\n",
    "        @return: none\n",
    "    \"\"\"\n",
    "    col = 40\n",
    "    str_len = len(text)\n",
    "    spaces = (col - str_len) - 1 # allow for the extra space provided by print() \n",
    "    print(\" \" * spaces, text)"
   ]
  },
  {
   "cell_type": "code",
   "execution_count": 97,
   "id": "8e8dc649-98a6-42ff-8e99-95fc6938bb8c",
   "metadata": {},
   "outputs": [
    {
     "name": "stdout",
     "output_type": "stream",
     "text": [
      "                                   Monty\n",
      "                                Python's\n",
      "                           Flying Circus\n"
     ]
    }
   ],
   "source": [
    "print_right(\"Monty\")\n",
    "print_right(\"Python's\")\n",
    "print_right(\"Flying Circus\")"
   ]
  },
  {
   "cell_type": "code",
   "execution_count": 133,
   "id": "1f4e70a2-ca0c-4075-a7d8-193d94d4975a",
   "metadata": {},
   "outputs": [],
   "source": [
    "def rectangle(text, len, height):\n",
    "    \"\"\"\n",
    "        This function takes a string and two integers and draws a \n",
    "        rectangle with the given width and height, made up of copies \n",
    "        of the string. \n",
    "\n",
    "        @params:\n",
    "        text (str) the string to be printed in the rectangle\n",
    "        len (int) the length of the rectangle\n",
    "        height (int) the height of the rectangle\n",
    "    \"\"\"\n",
    "    for i in range(height):\n",
    "        for j in range(len):\n",
    "            print(text, end = '')\n",
    "        print()"
   ]
  },
  {
   "cell_type": "code",
   "execution_count": 135,
   "id": "a9144888-8654-4fbd-8126-6f5fcb5e40b9",
   "metadata": {},
   "outputs": [
    {
     "name": "stdout",
     "output_type": "stream",
     "text": [
      "HHHHH\n",
      "HHHHH\n",
      "HHHHH\n",
      "HHHHH\n"
     ]
    }
   ],
   "source": [
    "rectangle('H', 5, 4)"
   ]
  },
  {
   "cell_type": "code",
   "execution_count": 131,
   "id": "b65f9821-c56b-49a0-9b9e-6f14bdd9ed57",
   "metadata": {},
   "outputs": [
    {
     "name": "stdout",
     "output_type": "stream",
     "text": [
      "I I I I I I I I I I \n",
      "I I I I I I I I I I \n",
      "I I I I I I I I I I \n",
      "I I I I I I I I I I \n",
      "I I I I I I I I I I \n",
      "I I I I I I I I I I \n",
      "I I I I I I I I I I \n",
      "I I I I I I I I I I \n",
      "I I I I I I I I I I \n",
      "I I I I I I I I I I \n"
     ]
    }
   ],
   "source": [
    "rectangle(\"I \", 10, 10)"
   ]
  },
  {
   "cell_type": "code",
   "execution_count": 141,
   "id": "5fa38c67-0914-4e8c-9ffd-bfda00884000",
   "metadata": {},
   "outputs": [],
   "source": [
    "def bottle_verse(num):\n",
    "    print(f\"{num} bottles of beer on the wall\")\n",
    "    print(f\"{num} bottles of beer\")\n",
    "    print(\"Take one down, pass it around\")\n",
    "    print(f\"{num - 1} bottles of beer on the wall\")"
   ]
  },
  {
   "cell_type": "code",
   "execution_count": 143,
   "id": "9fa1bc30-c92b-4fe2-abbf-22db76d90494",
   "metadata": {},
   "outputs": [
    {
     "name": "stdout",
     "output_type": "stream",
     "text": [
      "5 bottles of beer on the wall\n",
      "5 bottles of beer\n",
      "Take one down, pass it around\n",
      "4 bottles of beer on the wall\n",
      "\n",
      "4 bottles of beer on the wall\n",
      "4 bottles of beer\n",
      "Take one down, pass it around\n",
      "3 bottles of beer on the wall\n",
      "\n",
      "3 bottles of beer on the wall\n",
      "3 bottles of beer\n",
      "Take one down, pass it around\n",
      "2 bottles of beer on the wall\n",
      "\n",
      "2 bottles of beer on the wall\n",
      "2 bottles of beer\n",
      "Take one down, pass it around\n",
      "1 bottles of beer on the wall\n",
      "\n",
      "1 bottles of beer on the wall\n",
      "1 bottles of beer\n",
      "Take one down, pass it around\n",
      "0 bottles of beer on the wall\n",
      "\n"
     ]
    }
   ],
   "source": [
    "for n in range(5, 0, -1):\n",
    "    bottle_verse(n)\n",
    "    print()"
   ]
  }
 ],
 "metadata": {
  "kernelspec": {
   "display_name": "Python 3 (ipykernel)",
   "language": "python",
   "name": "python3"
  },
  "language_info": {
   "codemirror_mode": {
    "name": "ipython",
    "version": 3
   },
   "file_extension": ".py",
   "mimetype": "text/x-python",
   "name": "python",
   "nbconvert_exporter": "python",
   "pygments_lexer": "ipython3",
   "version": "3.10.14"
  }
 },
 "nbformat": 4,
 "nbformat_minor": 5
}
