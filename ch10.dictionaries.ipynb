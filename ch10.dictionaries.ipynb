{
 "cells": [
  {
   "cell_type": "markdown",
   "id": "c98b3c3c-9f21-4230-b496-4c2f96859460",
   "metadata": {},
   "source": [
    "# Dictionaries"
   ]
  },
  {
   "cell_type": "markdown",
   "id": "4ee4a300-f4bd-4f2c-bb67-5a2df3c9fbfd",
   "metadata": {},
   "source": [
    "## A Dictionary is a Mapping"
   ]
  },
  {
   "cell_type": "code",
   "execution_count": 3,
   "id": "4197b388-ba22-4e9a-bb63-a43549a8a2a3",
   "metadata": {},
   "outputs": [
    {
     "data": {
      "text/plain": [
       "'one'"
      ]
     },
     "execution_count": 3,
     "metadata": {},
     "output_type": "execute_result"
    }
   ],
   "source": [
    "# This is how we can use a list\n",
    "aList = ['zero', 'one', 'two']\n",
    "aList[1]"
   ]
  },
  {
   "cell_type": "code",
   "execution_count": 5,
   "id": "3eecad10-a322-45d1-8bbd-665e26b63ac4",
   "metadata": {},
   "outputs": [
    {
     "data": {
      "text/plain": [
       "{}"
      ]
     },
     "execution_count": 5,
     "metadata": {},
     "output_type": "execute_result"
    }
   ],
   "source": [
    "# Dictionary\n",
    "numbers = {}\n",
    "numbers"
   ]
  },
  {
   "cell_type": "code",
   "execution_count": 8,
   "id": "2da90773-238e-4c46-bdda-b86d6156de98",
   "metadata": {},
   "outputs": [
    {
     "data": {
      "text/plain": [
       "{'zero': 0, 'one': 1, 'two': 2}"
      ]
     },
     "execution_count": 8,
     "metadata": {},
     "output_type": "execute_result"
    }
   ],
   "source": [
    "# Add items to the dictionary\n",
    "numbers['zero'] = 0\n",
    "numbers['one'] = 1\n",
    "numbers['two'] = 2\n",
    "numbers"
   ]
  },
  {
   "cell_type": "code",
   "execution_count": 9,
   "id": "70128c0f-223c-4757-87d2-462490351c12",
   "metadata": {},
   "outputs": [
    {
     "data": {
      "text/plain": [
       "2"
      ]
     },
     "execution_count": 9,
     "metadata": {},
     "output_type": "execute_result"
    }
   ],
   "source": [
    "# Look up a value using backet notation\n",
    "numbers['two']"
   ]
  },
  {
   "cell_type": "code",
   "execution_count": 11,
   "id": "2470d867-310a-41fc-96d3-d996f0212799",
   "metadata": {},
   "outputs": [],
   "source": [
    "# KeyError\n",
    "numbers['three']  # error"
   ]
  },
  {
   "cell_type": "code",
   "execution_count": 12,
   "id": "11352569-ad6e-4b8a-b3d7-8185dd1f6f10",
   "metadata": {},
   "outputs": [
    {
     "data": {
      "text/plain": [
       "3"
      ]
     },
     "execution_count": 12,
     "metadata": {},
     "output_type": "execute_result"
    }
   ],
   "source": [
    "# len function works on dictionaries\n",
    "len(numbers)"
   ]
  },
  {
   "cell_type": "markdown",
   "id": "221ac3b4-0c38-41d9-bd7f-0cc2f0203631",
   "metadata": {},
   "source": [
    "## Creating Dictionaries"
   ]
  },
  {
   "cell_type": "code",
   "execution_count": 13,
   "id": "e6549139-04ca-4ba0-991a-1e168304be2b",
   "metadata": {},
   "outputs": [
    {
     "data": {
      "text/plain": [
       "{'zero': 0, 'one': 1, 'two': 2}"
      ]
     },
     "execution_count": 13,
     "metadata": {},
     "output_type": "execute_result"
    }
   ],
   "source": [
    "# Declaring a dictionary\n",
    "numbers = {\n",
    "    'zero': 0,\n",
    "    'one': 1,\n",
    "    'two': 2\n",
    "}\n",
    "numbers"
   ]
  },
  {
   "cell_type": "code",
   "execution_count": 14,
   "id": "e095e275-5af9-42ef-96a9-eb91fb270b95",
   "metadata": {},
   "outputs": [
    {
     "data": {
      "text/plain": [
       "{}"
      ]
     },
     "execution_count": 14,
     "metadata": {},
     "output_type": "execute_result"
    }
   ],
   "source": [
    "# Create a dictionary with the dict function\n",
    "empty = dict()\n",
    "empty"
   ]
  },
  {
   "cell_type": "code",
   "execution_count": 15,
   "id": "35479c75-215c-489f-b9c7-dd1efb75ed10",
   "metadata": {},
   "outputs": [
    {
     "data": {
      "text/plain": [
       "{'zero': 0, 'one': 1, 'two': 2}"
      ]
     },
     "execution_count": 15,
     "metadata": {},
     "output_type": "execute_result"
    }
   ],
   "source": [
    "# Make a copy of a dictionary\n",
    "numbers_copy = dict(numbers)\n",
    "numbers_copy"
   ]
  },
  {
   "cell_type": "markdown",
   "id": "03338514-93a0-4a47-9ef5-6df958c08cb9",
   "metadata": {},
   "source": [
    "## The `in` Operator"
   ]
  },
  {
   "cell_type": "code",
   "execution_count": 17,
   "id": "3aa2fef1-2a39-46c1-be10-b4771f1a6761",
   "metadata": {},
   "outputs": [
    {
     "data": {
      "text/plain": [
       "True"
      ]
     },
     "execution_count": 17,
     "metadata": {},
     "output_type": "execute_result"
    }
   ],
   "source": [
    "# In searches the keys\n",
    "'one' in numbers"
   ]
  },
  {
   "cell_type": "code",
   "execution_count": 18,
   "id": "235139d5-c8d8-46b9-9f5e-14ced457cf02",
   "metadata": {},
   "outputs": [
    {
     "data": {
      "text/plain": [
       "False"
      ]
     },
     "execution_count": 18,
     "metadata": {},
     "output_type": "execute_result"
    }
   ],
   "source": [
    "# The in operator does not check for values\n",
    "1 in numbers"
   ]
  },
  {
   "cell_type": "code",
   "execution_count": 19,
   "id": "00d15fc7-a670-47f3-87b5-a5272c526f1f",
   "metadata": {},
   "outputs": [
    {
     "data": {
      "text/plain": [
       "True"
      ]
     },
     "execution_count": 19,
     "metadata": {},
     "output_type": "execute_result"
    }
   ],
   "source": [
    "# To check for values\n",
    "1 in numbers.values()"
   ]
  },
  {
   "cell_type": "code",
   "execution_count": null,
   "id": "0b47d54d-e2c8-4ec3-b787-6ab28b21d6f8",
   "metadata": {},
   "outputs": [],
   "source": [
    "# The in operator is very fast no matter the size of the list\n",
    "word_list = open('web2.txt').read().split()\n",
    "\n",
    "def reverse_word(word):\n",
    "    return ''.join(reversed(word))\n",
    "\n",
    "def too_slow():\n",
    "    count = 0\n",
    "    for word in word_list:\n",
    "        if reverse_word(word) in word_list:\n",
    "            count += 1\n",
    "    return count\n",
    "\n",
    "too_slow()"
   ]
  },
  {
   "cell_type": "code",
   "execution_count": null,
   "id": "c0ff45cb-d2eb-496a-aedd-05692c63dbd9",
   "metadata": {},
   "outputs": [],
   "source": [
    "# Make this function faster with a dictionary\n",
    "\n",
    "# Make dict with values all 1's\n",
    "word_dict = {}\n",
    "for word in word_list:\n",
    "    word_dict[word] = 1\n",
    "\n",
    "# Checking the keys in a dict\n",
    "def much_faster():\n",
    "    count = 0\n",
    "    for word in word_dict: \n",
    "        if reverse_word(word) in word_dict:\n",
    "            count += 1\n",
    "    return count\n",
    "\n",
    "much_faster()"
   ]
  },
  {
   "cell_type": "code",
   "execution_count": null,
   "id": "89d5b7f8-1c2f-412f-8c63-63ba0d860f33",
   "metadata": {},
   "outputs": [],
   "source": []
  },
  {
   "cell_type": "code",
   "execution_count": null,
   "id": "55e328fa-6e4b-4fac-a3ba-1c80c6e1eff2",
   "metadata": {},
   "outputs": [],
   "source": []
  },
  {
   "cell_type": "code",
   "execution_count": null,
   "id": "abae4d32-9f20-43bb-ad8c-53d7362b3916",
   "metadata": {},
   "outputs": [],
   "source": []
  },
  {
   "cell_type": "code",
   "execution_count": null,
   "id": "bd9c0cf1-5e9f-4c89-849d-a33488720b78",
   "metadata": {},
   "outputs": [],
   "source": []
  }
 ],
 "metadata": {
  "kernelspec": {
   "display_name": "Python 3 (ipykernel)",
   "language": "python",
   "name": "python3"
  },
  "language_info": {
   "codemirror_mode": {
    "name": "ipython",
    "version": 3
   },
   "file_extension": ".py",
   "mimetype": "text/x-python",
   "name": "python",
   "nbconvert_exporter": "python",
   "pygments_lexer": "ipython3",
   "version": "3.13.7"
  }
 },
 "nbformat": 4,
 "nbformat_minor": 5
}
