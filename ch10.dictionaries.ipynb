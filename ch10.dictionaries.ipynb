{
 "cells": [
  {
   "cell_type": "markdown",
   "id": "c98b3c3c-9f21-4230-b496-4c2f96859460",
   "metadata": {},
   "source": [
    "# Dictionaries"
   ]
  },
  {
   "cell_type": "markdown",
   "id": "4ee4a300-f4bd-4f2c-bb67-5a2df3c9fbfd",
   "metadata": {},
   "source": [
    "## A Dictionary is a Mapping"
   ]
  },
  {
   "cell_type": "code",
   "execution_count": 3,
   "id": "4197b388-ba22-4e9a-bb63-a43549a8a2a3",
   "metadata": {},
   "outputs": [
    {
     "data": {
      "text/plain": [
       "'one'"
      ]
     },
     "execution_count": 3,
     "metadata": {},
     "output_type": "execute_result"
    }
   ],
   "source": [
    "# This is how we can use a list\n",
    "aList = ['zero', 'one', 'two']\n",
    "aList[1]"
   ]
  },
  {
   "cell_type": "code",
   "execution_count": 5,
   "id": "3eecad10-a322-45d1-8bbd-665e26b63ac4",
   "metadata": {},
   "outputs": [
    {
     "data": {
      "text/plain": [
       "{}"
      ]
     },
     "execution_count": 5,
     "metadata": {},
     "output_type": "execute_result"
    }
   ],
   "source": [
    "# Dictionary\n",
    "numbers = {}\n",
    "numbers"
   ]
  },
  {
   "cell_type": "code",
   "execution_count": 8,
   "id": "2da90773-238e-4c46-bdda-b86d6156de98",
   "metadata": {},
   "outputs": [
    {
     "data": {
      "text/plain": [
       "{'zero': 0, 'one': 1, 'two': 2}"
      ]
     },
     "execution_count": 8,
     "metadata": {},
     "output_type": "execute_result"
    }
   ],
   "source": [
    "# Add items to the dictionary\n",
    "numbers['zero'] = 0\n",
    "numbers['one'] = 1\n",
    "numbers['two'] = 2\n",
    "numbers"
   ]
  },
  {
   "cell_type": "code",
   "execution_count": 9,
   "id": "70128c0f-223c-4757-87d2-462490351c12",
   "metadata": {},
   "outputs": [
    {
     "data": {
      "text/plain": [
       "2"
      ]
     },
     "execution_count": 9,
     "metadata": {},
     "output_type": "execute_result"
    }
   ],
   "source": [
    "# Look up a value using backet notation\n",
    "numbers['two']"
   ]
  },
  {
   "cell_type": "code",
   "execution_count": 11,
   "id": "2470d867-310a-41fc-96d3-d996f0212799",
   "metadata": {},
   "outputs": [],
   "source": [
    "# KeyError\n",
    "numbers['three']  # error"
   ]
  },
  {
   "cell_type": "code",
   "execution_count": 12,
   "id": "11352569-ad6e-4b8a-b3d7-8185dd1f6f10",
   "metadata": {},
   "outputs": [
    {
     "data": {
      "text/plain": [
       "3"
      ]
     },
     "execution_count": 12,
     "metadata": {},
     "output_type": "execute_result"
    }
   ],
   "source": [
    "# len function works on dictionaries\n",
    "len(numbers)"
   ]
  },
  {
   "cell_type": "markdown",
   "id": "221ac3b4-0c38-41d9-bd7f-0cc2f0203631",
   "metadata": {},
   "source": [
    "## Creating Dictionaries"
   ]
  },
  {
   "cell_type": "code",
   "execution_count": 13,
   "id": "e6549139-04ca-4ba0-991a-1e168304be2b",
   "metadata": {},
   "outputs": [
    {
     "data": {
      "text/plain": [
       "{'zero': 0, 'one': 1, 'two': 2}"
      ]
     },
     "execution_count": 13,
     "metadata": {},
     "output_type": "execute_result"
    }
   ],
   "source": [
    "# Declaring a dictionary\n",
    "numbers = {\n",
    "    'zero': 0,\n",
    "    'one': 1,\n",
    "    'two': 2\n",
    "}\n",
    "numbers"
   ]
  },
  {
   "cell_type": "code",
   "execution_count": 14,
   "id": "e095e275-5af9-42ef-96a9-eb91fb270b95",
   "metadata": {},
   "outputs": [
    {
     "data": {
      "text/plain": [
       "{}"
      ]
     },
     "execution_count": 14,
     "metadata": {},
     "output_type": "execute_result"
    }
   ],
   "source": [
    "# Create a dictionary with the dict function\n",
    "empty = dict()\n",
    "empty"
   ]
  },
  {
   "cell_type": "code",
   "execution_count": 15,
   "id": "35479c75-215c-489f-b9c7-dd1efb75ed10",
   "metadata": {},
   "outputs": [
    {
     "data": {
      "text/plain": [
       "{'zero': 0, 'one': 1, 'two': 2}"
      ]
     },
     "execution_count": 15,
     "metadata": {},
     "output_type": "execute_result"
    }
   ],
   "source": [
    "# Make a copy of a dictionary\n",
    "numbers_copy = dict(numbers)\n",
    "numbers_copy"
   ]
  },
  {
   "cell_type": "markdown",
   "id": "03338514-93a0-4a47-9ef5-6df958c08cb9",
   "metadata": {},
   "source": [
    "## The `in` Operator"
   ]
  },
  {
   "cell_type": "code",
   "execution_count": 17,
   "id": "3aa2fef1-2a39-46c1-be10-b4771f1a6761",
   "metadata": {},
   "outputs": [
    {
     "data": {
      "text/plain": [
       "True"
      ]
     },
     "execution_count": 17,
     "metadata": {},
     "output_type": "execute_result"
    }
   ],
   "source": [
    "# In searches the keys\n",
    "'one' in numbers"
   ]
  },
  {
   "cell_type": "code",
   "execution_count": 18,
   "id": "235139d5-c8d8-46b9-9f5e-14ced457cf02",
   "metadata": {},
   "outputs": [
    {
     "data": {
      "text/plain": [
       "False"
      ]
     },
     "execution_count": 18,
     "metadata": {},
     "output_type": "execute_result"
    }
   ],
   "source": [
    "# The in operator does not check for values\n",
    "1 in numbers"
   ]
  },
  {
   "cell_type": "code",
   "execution_count": 19,
   "id": "00d15fc7-a670-47f3-87b5-a5272c526f1f",
   "metadata": {},
   "outputs": [
    {
     "data": {
      "text/plain": [
       "True"
      ]
     },
     "execution_count": 19,
     "metadata": {},
     "output_type": "execute_result"
    }
   ],
   "source": [
    "# To check for values\n",
    "1 in numbers.values()"
   ]
  },
  {
   "cell_type": "code",
   "execution_count": 27,
   "id": "0b47d54d-e2c8-4ec3-b787-6ab28b21d6f8",
   "metadata": {},
   "outputs": [
    {
     "data": {
      "text/plain": [
       "1091"
      ]
     },
     "execution_count": 27,
     "metadata": {},
     "output_type": "execute_result"
    }
   ],
   "source": [
    "# The in operator is very fast no matter the size of the list\n",
    "word_list = open('web2.txt').read().split()\n",
    "\n",
    "def reverse_word(word):\n",
    "    return ''.join(reversed(word))\n",
    "\n",
    "def too_slow():\n",
    "    count = 0\n",
    "    for word in word_list:\n",
    "        if reverse_word(word) in word_list:\n",
    "            count += 1\n",
    "    return count\n",
    "\n",
    "too_slow()"
   ]
  },
  {
   "cell_type": "code",
   "execution_count": 30,
   "id": "c0ff45cb-d2eb-496a-aedd-05692c63dbd9",
   "metadata": {},
   "outputs": [
    {
     "data": {
      "text/plain": [
       "1091"
      ]
     },
     "execution_count": 30,
     "metadata": {},
     "output_type": "execute_result"
    }
   ],
   "source": [
    "# Make this function faster with a dictionary\n",
    "\n",
    "# Make dict with values all 1's\n",
    "word_dict = {}\n",
    "for word in word_list:\n",
    "    word_dict[word] = 1\n",
    "\n",
    "# Checking the keys in a dict for speed\n",
    "def much_faster():\n",
    "    count = 0\n",
    "    for word in word_dict: \n",
    "        if reverse_word(word) in word_dict:\n",
    "            count += 1\n",
    "    return count\n",
    "\n",
    "much_faster()"
   ]
  },
  {
   "cell_type": "markdown",
   "id": "a6a26b9a-5b61-43c5-a1f6-4be1a3420cab",
   "metadata": {},
   "source": [
    "## A Collection of Counters"
   ]
  },
  {
   "cell_type": "code",
   "execution_count": 32,
   "id": "55e328fa-6e4b-4fac-a3ba-1c80c6e1eff2",
   "metadata": {},
   "outputs": [
    {
     "data": {
      "text/plain": [
       "{'b': 1, 'r': 2, 'o': 2, 'n': 1, 't': 1, 's': 2, 'a': 1, 'u': 2}"
      ]
     },
     "execution_count": 32,
     "metadata": {},
     "output_type": "execute_result"
    }
   ],
   "source": [
    "# Count how many times a letter appears in a string\n",
    "def value_counts(string):\n",
    "    counter = {}\n",
    "    for letter in string:\n",
    "        if letter in string:\n",
    "            if letter not in counter:\n",
    "                counter[letter] = 1\n",
    "            else:\n",
    "                counter[letter] += 1\n",
    "    return counter\n",
    "\n",
    "counter = value_counts('brontosaurus')\n",
    "counter"
   ]
  },
  {
   "cell_type": "code",
   "execution_count": 33,
   "id": "abae4d32-9f20-43bb-ad8c-53d7362b3916",
   "metadata": {},
   "outputs": [
    {
     "data": {
      "text/plain": [
       "{'b': 1, 'a': 3, 'n': 2}"
      ]
     },
     "execution_count": 33,
     "metadata": {},
     "output_type": "execute_result"
    }
   ],
   "source": [
    "counter = value_counts('banana')\n",
    "counter"
   ]
  },
  {
   "cell_type": "code",
   "execution_count": 34,
   "id": "bd9c0cf1-5e9f-4c89-849d-a33488720b78",
   "metadata": {},
   "outputs": [
    {
     "name": "stdout",
     "output_type": "stream",
     "text": [
      "b\n",
      "a\n",
      "n\n"
     ]
    }
   ],
   "source": [
    "# Access the keys in a dict\n",
    "for key in counter:\n",
    "    print(key)"
   ]
  },
  {
   "cell_type": "code",
   "execution_count": 36,
   "id": "ffcaf3fd-83da-4326-9f51-d59f8a796ec3",
   "metadata": {},
   "outputs": [
    {
     "name": "stdout",
     "output_type": "stream",
     "text": [
      "1\n",
      "3\n",
      "2\n"
     ]
    }
   ],
   "source": [
    "# Access the values in a dict\n",
    "for value in counter.values():\n",
    "    print(value)"
   ]
  },
  {
   "cell_type": "code",
   "execution_count": 37,
   "id": "9f56b828-f8d4-4c20-9255-0475daa67717",
   "metadata": {},
   "outputs": [
    {
     "name": "stdout",
     "output_type": "stream",
     "text": [
      "b 1\n",
      "a 3\n",
      "n 2\n"
     ]
    }
   ],
   "source": [
    "# Access the key and value in a dict\n",
    "for key in counter:\n",
    "    value = counter[key]\n",
    "    print(key, value)"
   ]
  },
  {
   "cell_type": "code",
   "execution_count": 38,
   "id": "25e86ef6-a321-4444-8f05-e0f2527baa02",
   "metadata": {},
   "outputs": [
    {
     "name": "stdout",
     "output_type": "stream",
     "text": [
      "b: 1\n",
      "a: 3\n",
      "n: 2\n"
     ]
    }
   ],
   "source": [
    "# A better way, not shown in the book thus far.\n",
    "for key, value in counter.items():\n",
    "    print(f\"{key}: {value}\")"
   ]
  },
  {
   "cell_type": "markdown",
   "id": "edd1bef9-a251-4ae2-a1d1-c562c3fe895f",
   "metadata": {},
   "source": [
    "## Lists and Dictionaries"
   ]
  },
  {
   "cell_type": "code",
   "execution_count": 39,
   "id": "e2b78058-c894-4556-a8f5-7da62f3dd7dc",
   "metadata": {},
   "outputs": [
    {
     "data": {
      "text/plain": [
       "{4: ['r', 'o', 'u', 's']}"
      ]
     },
     "execution_count": 39,
     "metadata": {},
     "output_type": "execute_result"
    }
   ],
   "source": [
    "# Put a list in a dict as a value\n",
    "d = {4: ['r', 'o', 'u', 's']}\n",
    "d"
   ]
  },
  {
   "cell_type": "markdown",
   "id": "673dd283-3e93-4597-ae6b-226f66d41f1f",
   "metadata": {},
   "source": [
    "## Accumulating a List"
   ]
  },
  {
   "cell_type": "code",
   "execution_count": 42,
   "id": "c6dc579a-fd82-4008-ad28-fcf320986b0b",
   "metadata": {},
   "outputs": [
    {
     "name": "stdout",
     "output_type": "stream",
     "text": [
      "161\n",
      "['A', 'a', 'aa', 'aba', 'acca', 'adda', 'affa', 'aga', 'aha', 'ajaja']\n"
     ]
    }
   ],
   "source": [
    "def is_palindrome(word):\n",
    "    return reverse_word(word) == word\n",
    "\n",
    "count = 0\n",
    "palindromes = []\n",
    "\n",
    "# Count number of palindromes\n",
    "# Make a list of palindromes\n",
    "for word in word_dict:\n",
    "    if is_palindrome(word):\n",
    "        palindromes.append(word)\n",
    "        count += 1\n",
    "\n",
    "\n",
    "print(count)\n",
    "print(palindromes[:10])"
   ]
  },
  {
   "cell_type": "code",
   "execution_count": 43,
   "id": "3d67656a-b186-48e7-a6cc-6b50d75232c2",
   "metadata": {},
   "outputs": [
    {
     "data": {
      "text/plain": [
       "['deedeed', 'murdrum', 'repaper', 'reviver', 'rotator', 'sooloos']"
      ]
     },
     "execution_count": 43,
     "metadata": {},
     "output_type": "execute_result"
    }
   ],
   "source": [
    "# Make a list of only long palindromes\n",
    "long_palindromes = []\n",
    "\n",
    "for word in palindromes:\n",
    "    if len(word) >= 7:\n",
    "        long_palindromes.append(word)\n",
    "\n",
    "long_palindromes"
   ]
  },
  {
   "cell_type": "markdown",
   "id": "80759aea-a238-4bae-9e57-b960e276b9ec",
   "metadata": {},
   "source": [
    "## Memos"
   ]
  },
  {
   "cell_type": "code",
   "execution_count": 47,
   "id": "581ed758-f6ae-45d4-b4ab-f411fc6ced32",
   "metadata": {},
   "outputs": [],
   "source": [
    "def fibonacci(n):\n",
    "    if n == 0:\n",
    "        return 0\n",
    "\n",
    "    if n == 1:\n",
    "        return 1\n",
    "\n",
    "    return fibonacci(n-1) + fibonacci(n-2)"
   ]
  },
  {
   "cell_type": "code",
   "execution_count": 50,
   "id": "bb329f9a-3c1b-4830-9f0e-f0a986f147c5",
   "metadata": {},
   "outputs": [
    {
     "data": {
      "text/plain": [
       "3"
      ]
     },
     "execution_count": 50,
     "metadata": {},
     "output_type": "execute_result"
    }
   ],
   "source": [
    "fibonacci(4)"
   ]
  },
  {
   "cell_type": "code",
   "execution_count": 52,
   "id": "08269f0c-a362-4319-a251-95532f20c57e",
   "metadata": {},
   "outputs": [
    {
     "data": {
      "text/plain": [
       "3"
      ]
     },
     "execution_count": 52,
     "metadata": {},
     "output_type": "execute_result"
    }
   ],
   "source": [
    "# Fibonacci with a memo\n",
    "known = {0:0, 1:1}\n",
    "\n",
    "def fibonacci_memo(n):\n",
    "    if n in known:\n",
    "        return known[n]\n",
    "\n",
    "    result = fibonacci_memo(n-1) + fibonacci_memo(n-2)\n",
    "    known[n] = result\n",
    "    return result\n",
    "\n",
    "fibonacci_memo(4)"
   ]
  },
  {
   "cell_type": "code",
   "execution_count": 57,
   "id": "7933b5b0-d205-45f7-a8cc-71da5d3c931d",
   "metadata": {},
   "outputs": [
    {
     "data": {
      "text/plain": [
       "102334155"
      ]
     },
     "execution_count": 57,
     "metadata": {},
     "output_type": "execute_result"
    }
   ],
   "source": [
    "fibonacci_memo(40)"
   ]
  },
  {
   "cell_type": "markdown",
   "id": "0d9162c9-f459-4900-a248-74f96e26c9c4",
   "metadata": {},
   "source": [
    "## EXERCISES"
   ]
  },
  {
   "cell_type": "code",
   "execution_count": 61,
   "id": "033c9a5c-781a-4773-bf91-64ae8db606c4",
   "metadata": {},
   "outputs": [
    {
     "data": {
      "text/plain": [
       "{'b': 1, 'a': 3, 'n': 2}"
      ]
     },
     "execution_count": 61,
     "metadata": {},
     "output_type": "execute_result"
    }
   ],
   "source": [
    "# EX. 1. Use get to write a more concise version value_counts\n",
    "def value_counts(string):\n",
    "    counter = {}\n",
    "    for letter in string:\n",
    "        if not counter.get(letter, 0):\n",
    "            counter[letter] = 1\n",
    "        else:\n",
    "            counter[letter] += 1\n",
    "    return counter\n",
    "\n",
    "value_counts('banana')"
   ]
  },
  {
   "cell_type": "code",
   "execution_count": 67,
   "id": "61810502-4ba2-449a-b98a-9e0d82d364da",
   "metadata": {},
   "outputs": [
    {
     "data": {
      "text/plain": [
       "['ambidextrously',\n",
       " 'benzhydroxamic',\n",
       " 'dermatoglyphics',\n",
       " 'hydropneumatic',\n",
       " 'pseudomythical',\n",
       " 'Schizotrypanum',\n",
       " 'sulphogermanic',\n",
       " 'undiscoverably']"
      ]
     },
     "execution_count": 67,
     "metadata": {},
     "output_type": "execute_result"
    }
   ],
   "source": [
    "# EX.2. Return true if any element in the sequence appears more than once\n",
    "def has_duplicates(string):\n",
    "    occurred = {}\n",
    "    for letter in string:\n",
    "        # first time letter occurs in string\n",
    "        if not occurred.get(letter, 0):\n",
    "            occurred[letter] = 1\n",
    "        # second time letter occurs, return false \n",
    "        else: \n",
    "            return False\n",
    "    # otherwise, all letter are unique\n",
    "    return True\n",
    "\n",
    "# Create a list of words\n",
    "word_list = open('web2.txt').read().split()\n",
    "\n",
    "# Find words longer than test word\n",
    "test_length = len('unpredictably')\n",
    "unique = []\n",
    "for word in word_list:\n",
    "    if has_duplicates(word):\n",
    "        if len(word) > test_length:\n",
    "            unique.append(word)\n",
    "\n",
    "unique"
   ]
  },
  {
   "cell_type": "code",
   "execution_count": 71,
   "id": "e6d425b3-9d0b-4550-a5dc-a718942c3011",
   "metadata": {},
   "outputs": [
    {
     "name": "stdout",
     "output_type": "stream",
     "text": [
      "['two', 'three']\n"
     ]
    }
   ],
   "source": [
    "# EX.3\n",
    "def find_repeats(counter):\n",
    "    \"\"\"Makes a list of keys with values greater than 1. \n",
    "    \n",
    "    counter: dictionary that maps from keys to counts \n",
    "    \n",
    "    returns: list of keys \"\"\" \n",
    "    repeat = []\n",
    "    for key,value in counter.items():\n",
    "        if value > 1:\n",
    "            repeat.append(key)\n",
    "            \n",
    "    return repeat\n",
    "\n",
    "test = {'one': 1, 'two': 2, 'three': 3}\n",
    "repeats = find_repeats(test)\n",
    "print(repeats)"
   ]
  },
  {
   "cell_type": "code",
   "execution_count": null,
   "id": "c8cbf6aa-26d7-47ad-b1c4-699e28157834",
   "metadata": {},
   "outputs": [],
   "source": []
  }
 ],
 "metadata": {
  "kernelspec": {
   "display_name": "Python 3 (ipykernel)",
   "language": "python",
   "name": "python3"
  },
  "language_info": {
   "codemirror_mode": {
    "name": "ipython",
    "version": 3
   },
   "file_extension": ".py",
   "mimetype": "text/x-python",
   "name": "python",
   "nbconvert_exporter": "python",
   "pygments_lexer": "ipython3",
   "version": "3.13.7"
  }
 },
 "nbformat": 4,
 "nbformat_minor": 5
}
